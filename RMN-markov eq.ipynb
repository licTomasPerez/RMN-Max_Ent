{
 "cells": [
  {
   "cell_type": "code",
   "execution_count": 1,
   "id": "9c998351",
   "metadata": {},
   "outputs": [],
   "source": [
    "import qutip, pickle, sys\n",
    "import matplotlib.pyplot as plt \n",
    "import numpy as np\n",
    "import scipy.optimize as opt \n",
    "import scipy.linalg as linalg\n",
    "import time as time\n",
    "import math, cmath\n",
    "import Max_Ent_aux_lib as me\n",
    "#import proj_ev_library as projev\n",
    "#import max_entev library as meev\n",
    "from IPython.display import display, Math, Latex\n",
    "\n",
    "np.set_printoptions(threshold=1.e-3,linewidth=120,precision=1, formatter={\"float\":lambda x: str(.001*int(1000*x)) })"
   ]
  },
  {
   "cell_type": "markdown",
   "id": "6413887b",
   "metadata": {},
   "source": [
    "Tenemos la siguiente ecuación de movimiento:\n",
    "\n",
    "$$\n",
    "    \\dot{c}_M(t) I_{M}^{0}(t) = -i \\bigg\\{\\bigg(c_{M+2}(t) - c_M(t) \\bigg)\\langle \\rho_{M}^{0\\dagger}(t) [H_{0,-2}, \\rho_{M+2}^0] \\rangle + \\bigg(c_{M-2}(t) - c_M(t)\\bigg) \\langle \\rho_{M}^{0\\dagger}(t) [H_{0,2}, \\rho_{M-2}^0] \\rangle + p \\langle \\rho_{M}^{0\\dagger}(t) [\\Sigma, \\rho_{M}^0 (t)]\\rangle \\bigg\\}\n",
    "$$\n",
    "\n",
    "siendo $I_{M}^{0}(t) = \\langle \\rho_{M}^{0\\dagger}(t) \\rho_{M}^{0}(t)\\rangle = I_{-M}^{0}(t)$\n",
    "la cual puede reescribirse como \n",
    "\n",
    "$$\n",
    "\\dot{c}_M(t) I_{M}^{0}(t) = -i \\bigg\\{A_{\\rho^{M, M+2}} c_{M+2}(t) - \\bigg(A_{\\rho^{M, M+2}} + B_{\\rho^{M, M-2}} \\bigg) c_{M}(t) + B_{\\rho^{M, M-2}} c_{M-2}(t) \\bigg\\} + p C_{\\rho^M} \\\\\n",
    "= - i({\\bf{\\mathcal{M}}}(t) \\textbf{c}(t))_M\n",
    "$$\n",
    "\n",
    "donde \n",
    "\n",
    "<ol>\n",
    "\n",
    "<li> $A_{\\rho^{M, M+2}} = \\langle \\rho_{M}^{0\\dagger}(t) [H_{0,-2}, \\rho_{M+2}^0] \\rangle$ </li> \n",
    "<li> $B_{\\rho^{M, M-2}} = \\langle \\rho_{M}^{0\\dagger}(t) [H_{0,2}, \\rho_{M-2}^0] \\rangle$ </li>\n",
    "<li> $C_{\\rho^M} = \\langle \\rho_{M}^{0\\dagger}(t) [\\Sigma, \\rho_{M}^0 (t)]\\rangle$ </li>\n",
    "    \n",
    "</ol>    \n",
    "\n",
    "Entonces, si $f(t) = \\langle \\rho(t) \\rho^0(t) \\rangle = \\sum_{M} {c}_M(t) I_{M}^{0}(t)$\n",
    "\n",
    "$$\n",
    "    \\dot{f}(t) = \\sum_{M} \\bigg(\\dot{c}_M(t) I_{M}^{0}(t) + {c}_M(t) \\dot{I}_{M}^{0}(t) \\bigg)\n",
    "$$"
   ]
  },
  {
   "cell_type": "markdown",
   "id": "9492c01e",
   "metadata": {},
   "source": [
    "where\n",
    "\n",
    "1: $A=\\alpha B = N(t) \\exp(-m t^{1+a}) = I_M^{(0)}$ (a primer orden alpha = 1) \\\n",
    "2: $C = M N(t) exp(-m t^{1+a})$\n",
    "\n",
    "con $N(t) = 1/Tr(\\rho(t))$ la calculo con la definición del $\\rho_M (t)=  c_{M}(t) \\rho^0_M(t)$, with $c_0(t)$= 1. \n",
    "Note that the kernel, $K(t,t') = e^{(-i M(t-t'))}$, is not a solution to the previous differential equation. for a power law factor $a \\neq -1$, since, in that case, the M-matrix is time-dependent \n",
    "    \n",
    "$H_ {0, 2}^\\dagger = H_{0, -2}$ \n",
    "\n",
    "$\\rho_{M}^\\dagger = \\rho_{-M}$"
   ]
  },
  {
   "cell_type": "markdown",
   "id": "9169d51e",
   "metadata": {},
   "source": [
    "Las cM(t) no deberían estar normalizadas"
   ]
  },
  {
   "cell_type": "markdown",
   "id": "a641b494",
   "metadata": {},
   "source": [
    "## Step 1: Fix parameters and initial conditions for the coherences"
   ]
  },
  {
   "cell_type": "code",
   "execution_count": 2,
   "id": "ea71fc99",
   "metadata": {},
   "outputs": [],
   "source": [
    "p = .108;    # strength of the Sigma Interaction Hamiltonian\n",
    "a = -1.;      # Power-law factor\n",
    "M = 700;        # Truncation/Total no. of coherences\n",
    "param_list = {\"total_no_cohrs\": M, \"p_factor\": p, \"power_law_factor\": a} # dictionary containing the simulation's initial \n",
    "                                                                         # parameters\n",
    "    \n",
    "cohr_complex_t0 = [1 for i in range(param_list[\"total_no_cohrs\"])] \n",
    "#cohr_complex_t0 += [0 for i in range(param_list[\"total_no_cohrs\"])]"
   ]
  },
  {
   "cell_type": "markdown",
   "id": "10e67289",
   "metadata": {},
   "source": [
    "Since the coherences are complex-valued numbers, the previous system of $M \\times M$ coupled complex-valued differential equations can be rewritten as a system of $2M \\times 2M$ coupled real-valued differential equations, as follows:\n",
    "\n",
    "if $c_M(t) = a_M(t) + i b_M(t)$, then \n",
    "\n",
    "$$\n",
    "    \\dot{a}_M(t) + i \\dot{b}_M(t) = -i \\sum_{m'}{\\bf{\\mathcal{M}}}_{Mm'}(t) \\bigg(a_{m'}(t) + i b_{m'}(t)\\bigg),\n",
    "$$\n",
    "\n",
    "$$\n",
    "    \\dot{a}_M(t) + i \\dot{b}_M(t) = -i \\sum_{m'}{\\bf{\\mathcal{M}}}_{Mm'}(t) a_{m'}(t) + \\sum_{m'} {\\bf{\\mathcal{M}}}_{Mm'}(t) b_{m'}(t)\n",
    "$$\n",
    "\n",
    "$$\n",
    "    \\dot{{\\bf a}}(t) = {\\cal M}(t) \\cdot {\\bf b}(t), \\quad \\dot{{\\bf b}}(t) = -{\\cal M}(t) \\cdot {\\bf a}(t), \\qquad s.t. \\quad{\\bf c}(t) = {\\bf a}(t) + i {\\bf b}(t)\n",
    "$$\n"
   ]
  },
  {
   "cell_type": "markdown",
   "id": "afc249cc",
   "metadata": {},
   "source": [
    "## Step 2: Setting up and Solving system of complex diff. eqs"
   ]
  },
  {
   "cell_type": "code",
   "execution_count": 3,
   "id": "89f9074c",
   "metadata": {},
   "outputs": [],
   "source": [
    "param_list = {\"total_no_cohrs\": M, \"p_factor\": p, \"power_law_factor\": a} # dictionary containing the simulation's initial \n",
    "                                                                         # parameters \n",
    "\n",
    "cohr_complex_t0 = [complex(1) for i in range(param_list[\"total_no_cohrs\"])]\n",
    "cohr_complex_t0 = np.array(cohr_complex_t0)\n",
    "param_list = [M, p, a]"
   ]
  },
  {
   "cell_type": "code",
   "execution_count": 4,
   "id": "7f4e43cb",
   "metadata": {},
   "outputs": [
    {
     "data": {
      "text/plain": [
       "0.0"
      ]
     },
     "execution_count": 4,
     "metadata": {},
     "output_type": "execute_result"
    }
   ],
   "source": [
    "Mmatrix1 = qutip.Qobj(me.generating_fnc_even_coherences_Mmatrix(M, p, a, 1))\n",
    "Mmatrix2 = qutip.Qobj(me.generating_fnc_even_coherences_Mmatrix(M, p, a, 200))\n",
    "\n",
    "linalg.norm(Mmatrix1 - Mmatrix2)"
   ]
  },
  {
   "cell_type": "code",
   "execution_count": 5,
   "id": "5103ff82",
   "metadata": {},
   "outputs": [],
   "source": [
    "from scipy.integrate import solve_ivp\n",
    "tmax = 20.; no_steps = 100\n",
    "ts = np.linspace(0, tmax, no_steps)  \n",
    "\n",
    "def coherences_diff_system(t, y0, M, p, a):\n",
    "    Mmatrix_local = qutip.Qobj(me.generating_fnc_even_coherences_Mmatrix(M, p, a, t))\n",
    "    return 1j * Mmatrix_local * y0\n",
    "\n",
    "sol = solve_ivp(fun = coherences_diff_system, \n",
    "                t_span = [0, tmax], \n",
    "                y0 = cohr_complex_t0, \n",
    "                t_eval=ts,\n",
    "                args = (M, p, a))\n",
    "\n",
    "time_ev_cohrs = sol.y ## ahora la evolucion es coherencias para abajo, tiempos para la izq"
   ]
  },
  {
   "cell_type": "code",
   "execution_count": 6,
   "id": "55a55d43",
   "metadata": {
    "scrolled": true
   },
   "outputs": [
    {
     "data": {
      "text/plain": [
       "700"
      ]
     },
     "execution_count": 6,
     "metadata": {},
     "output_type": "execute_result"
    }
   ],
   "source": [
    "len(time_ev_cohrs[:,99])"
   ]
  },
  {
   "cell_type": "code",
   "execution_count": 7,
   "id": "717e134c",
   "metadata": {},
   "outputs": [
    {
     "data": {
      "text/plain": [
       "array([-0.4+1.j ,  0.3+0.4j,  1. -0.1j, ...,  1. +0.j ,  1. +0.j ,  1. +0.j ])"
      ]
     },
     "execution_count": 7,
     "metadata": {},
     "output_type": "execute_result"
    }
   ],
   "source": [
    "time_ev_cohrs[:,99]"
   ]
  },
  {
   "cell_type": "code",
   "execution_count": 8,
   "id": "ebb51efb",
   "metadata": {},
   "outputs": [],
   "source": [
    "fidelity_at_timet = []\n",
    "cluster_spin_size_at_timet = []\n",
    "timespan = list(ts)\n",
    "\n",
    "for t in ts:\n",
    "    local_column = time_ev_cohrs[:,timespan.index(t)]\n",
    "    local_val = sum(local_column[m] * me.power_law_weight(coherence = m, \n",
    "                                                        time = t, \n",
    "                                                        power_law_factor = a)\n",
    "            \n",
    "                   for m in range(M)) \n",
    "    fidelity_at_timet.append(local_val)\n",
    "    local_val = 0\n",
    "    local_val = sum(m**2 * local_column[m] * me.power_law_weight(coherence = m, \n",
    "                                                                       time = t, \n",
    "                                                                       power_law_factor = a)\n",
    "                   for m in range(M)) \n",
    "    cluster_spin_size_at_timet.append(local_val)\n",
    "    local_val = 0\n",
    "\n",
    "assert len(fidelity_at_timet) == len(ts)\n",
    "assert len(cluster_spin_size_at_timet) == len(ts)"
   ]
  },
  {
   "cell_type": "markdown",
   "id": "542c56d7",
   "metadata": {},
   "source": [
    "# Step 3: Test for $a = -1$ (time-independent case)"
   ]
  },
  {
   "cell_type": "code",
   "execution_count": 16,
   "id": "c7279cc6",
   "metadata": {},
   "outputs": [],
   "source": [
    "p = .108;    # strength of the Sigma Interaction Hamiltonian\n",
    "a = -1;      # Power-law factor\n",
    "M = 700;        # Truncation/Total no. of coherences\n",
    "param_list = {\"total_no_cohrs\": M, \"p_factor\": p, \"power_law_factor\": a} # dictionary containing the simulation's initial \n",
    "                                                                         # parameters \n",
    "\n",
    "c0 = [1 for i in range(param_list[\"total_no_cohrs\"])]\n",
    "param_list = [M, p, -1]"
   ]
  },
  {
   "cell_type": "code",
   "execution_count": 17,
   "id": "aad5778b",
   "metadata": {
    "scrolled": true
   },
   "outputs": [
    {
     "data": {
      "text/plain": [
       "array([[0.721, 0.013000000000000001, 0.0, ..., 0.0, 0.0, 0.0],\n",
       "       [0.265, -0.502, 0.265, ..., 0.0, 0.0, 0.0],\n",
       "       [0.0, 0.013000000000000001, -0.023, ..., 0.0, 0.0, 0.0],\n",
       "       ...,\n",
       "       [0.0, 0.0, 0.0, ..., 0.0, 0.0, 0.0],\n",
       "       [0.0, 0.0, 0.0, ..., 0.0, 0.0, 0.0],\n",
       "       [0.0, 0.0, 0.0, ..., 0.0, 0.0, 0.0]])"
      ]
     },
     "execution_count": 17,
     "metadata": {},
     "output_type": "execute_result"
    }
   ],
   "source": [
    "Mmatrix = me.generating_fnc_even_coherences_Mmatrix(M, p, a,\n",
    "                                                    time = 0) \n",
    "Mmatrix_timet = me.generating_fnc_even_coherences_Mmatrix(M, p, a,\n",
    "                                                    time = 10) \n",
    "\n",
    "Mmatrix = np.array(Mmatrix)\n",
    "assert linalg.norm(qutip.Qobj(Mmatrix) - qutip.Qobj(Mmatrix_timet))<1e-5, \"Error: Mmatrix is time-dependent\"\n",
    "assert linalg.norm(qutip.Qobj(Mmatrix) - qutip.Qobj(Mmatrix).dag())>1e-5, \"Error: Mmatrix is not hermitian\"\n",
    "assert np.all([np.imag(qutip.Qobj(Mmatrix).eigenenergies()) < 1e-5]), \"Error: Eigenvalues of Mmatrix not real\"\n",
    "assert np.all(np.imag(qutip.Qobj(Mmatrix).eigenenergies())<1e-10), \"Error: Eigenvalues of Mmatrix are not real\"\n",
    "\n",
    "Mmatrix"
   ]
  },
  {
   "cell_type": "code",
   "execution_count": 18,
   "id": "e9bf2985",
   "metadata": {},
   "outputs": [
    {
     "data": {
      "text/plain": [
       "True"
      ]
     },
     "execution_count": 18,
     "metadata": {},
     "output_type": "execute_result"
    }
   ],
   "source": [
    "np.all([np.imag(qutip.Qobj(Mmatrix).eigenenergies()) < 1e-5])"
   ]
  },
  {
   "cell_type": "code",
   "execution_count": 19,
   "id": "495f8eb1",
   "metadata": {},
   "outputs": [],
   "source": [
    "tmax = 20; no_steps = 100\n",
    "ts = np.linspace(0, tmax, no_steps)     \n",
    "coherences_at_timet = [linalg.expm(1j * Mmatrix * t) @ c0 for t in ts]"
   ]
  },
  {
   "cell_type": "code",
   "execution_count": 20,
   "id": "84dbd3fa",
   "metadata": {},
   "outputs": [],
   "source": [
    "fidelity_at_timet_exact = []\n",
    "cluster_spin_size_at_timet_exact = []\n",
    "timespan = list(ts)\n",
    "\n",
    "for t in ts:\n",
    "    local_list = coherences_at_timet[timespan.index(t)]\n",
    "    local_val = sum(local_list[m] * me.power_law_weight(coherence = m, \n",
    "                                                        time = t, \n",
    "                                                        power_law_factor = a)\n",
    "                   for m in range(M)) \n",
    "    fidelity_at_timet_exact.append(local_val)\n",
    "    local_val = 0\n",
    "    local_val = sum(m**2 * local_list[m] * me.power_law_weight(coherence = m, \n",
    "                                                                       time = t, \n",
    "                                                                       power_law_factor = a)\n",
    "                   for m in range(M)) \n",
    "    cluster_spin_size_at_timet_exact.append(local_val)\n",
    "    local_val = 0\n",
    "    \n",
    "assert len(fidelity_at_timet) == len(ts)\n",
    "assert len(cluster_spin_size_at_timet) == len(ts)"
   ]
  },
  {
   "cell_type": "code",
   "execution_count": 27,
   "id": "ff50dcc0",
   "metadata": {},
   "outputs": [],
   "source": [
    "difference_fidelity = [fidelity_at_timet_exact[t] - fidelity_at_timet[t] for t in range(len(ts))]\n",
    "difference_cluster = [cluster_spin_size_at_timet_exact[t] - cluster_spin_size_at_timet[t] for t in range(len(ts))]"
   ]
  },
  {
   "cell_type": "code",
   "execution_count": 35,
   "id": "2bb69e99",
   "metadata": {},
   "outputs": [
    {
     "data": {
      "image/png": "[encoded data removed]",
      "text/plain": [
       "<Figure size 720x432 with 1 Axes>"
      ]
     },
     "metadata": {
      "needs_background": "light"
     },
     "output_type": "display_data"
    }
   ],
   "source": [
    "fig0, ax0 = plt.subplots(figsize=(10,6))\n",
    "\n",
    "plt.title(\"Fidelity Exact v. Solver Results - Real\")\n",
    "plt.scatter(ts, np.real(fidelity_at_timet_exact), label = \"Fidelity Exact - Real\")\n",
    "plt.scatter(ts, np.real(fidelity_at_timet), label = \"Fidelity (eq. diff.) - Real\")\n",
    "\n",
    "plt.scatter(ts, np.imag(fidelity_at_timet_exact), label = \"Fidelity Exact - Imag\")\n",
    "plt.scatter(ts, np.imag(fidelity_at_timet), label = \"Fidelity (eq. diff.) - Imag\")\n",
    "\n",
    "ax0.legend(loc = 0)\n",
    "plt.xlabel(\"Time[s]\")\n",
    "plt.show()"
   ]
  },
  {
   "cell_type": "code",
   "execution_count": 36,
   "id": "5f3dc59d",
   "metadata": {},
   "outputs": [
    {
     "data": {
      "image/png": "[encoded data removed]",
      "text/plain": [
       "<Figure size 720x432 with 1 Axes>"
      ]
     },
     "metadata": {
      "needs_background": "light"
     },
     "output_type": "display_data"
    }
   ],
   "source": [
    "fig0, ax0 = plt.subplots(figsize=(10,6))\n",
    "\n",
    "plt.title(\"Cluster Spin Size Exact v. Solver Results - Real\")\n",
    "plt.scatter(ts, np.real(cluster_spin_size_at_timet_exact), label = \"Fidelity Exact - Real\")\n",
    "plt.scatter(ts, np.real(cluster_spin_size_at_timet), label = \"Fidelity (eq. diff.) - Real\")\n",
    "\n",
    "plt.scatter(ts, np.imag(cluster_spin_size_at_timet_exact), label = \"Fidelity Exact - Imag\")\n",
    "plt.scatter(ts, np.imag(cluster_spin_size_at_timet), label = \"Fidelity (eq. diff.) - Imag\")\n",
    "\n",
    "ax0.legend(loc = 0)\n",
    "plt.xlabel(\"Time[s]\")\n",
    "plt.show()"
   ]
  },
  {
   "cell_type": "code",
   "execution_count": null,
   "id": "41a51ce4",
   "metadata": {},
   "outputs": [],
   "source": []
  },
  {
   "cell_type": "code",
   "execution_count": null,
   "id": "4c82ff3a",
   "metadata": {},
   "outputs": [],
   "source": []
  },
  {
   "cell_type": "code",
   "execution_count": null,
   "id": "cb6486e5",
   "metadata": {},
   "outputs": [],
   "source": []
  },
  {
   "cell_type": "code",
   "execution_count": 6,
   "id": "e548e3b9",
   "metadata": {
    "scrolled": false
   },
   "outputs": [
    {
     "data": {
      "text/latex": [
       "Quantum object: dims = [[10], [10]], shape = (10, 10), type = oper, isherm = False\\begin{equation*}\\left(\\begin{array}{*{11}c}0.0 & 0.0 & 0.0 & 0.0 & 0.0 & 0.895 & 0.895 & 0.0 & 0.0 & 0.0\\\\0.0 & 0.0 & 0.0 & 0.0 & 0.0 & 0.105 & -0.199 & 0.105 & 0.0 & 0.0\\\\0.0 & 0.0 & 0.0 & 0.0 & 0.0 & 0.0 & 1.691\\times10^{-04} & -3.016\\times10^{-04} & 1.691\\times10^{-04} & 0.0\\\\0.0 & 0.0 & 0.0 & 0.0 & 0.0 & 0.0 & 0.0 & 3.745\\times10^{-09} & -6.276\\times10^{-09} & 3.745\\times10^{-09}\\\\0.0 & 0.0 & 0.0 & 0.0 & 0.0 & 0.0 & 0.0 & 0.0 & 1.140\\times10^{-15} & 1.632\\times10^{-15}\\\\0.895 & 0.895 & 0.0 & 0.0 & 0.0 & 0.0 & 0.0 & 0.0 & 0.0 & 0.0\\\\0.105 & -0.199 & 0.105 & 0.0 & 0.0 & 0.0 & 0.0 & 0.0 & 0.0 & 0.0\\\\0.0 & 1.691\\times10^{-04} & -3.016\\times10^{-04} & 1.691\\times10^{-04} & 0.0 & 0.0 & 0.0 & 0.0 & 0.0 & 0.0\\\\0.0 & 0.0 & 3.745\\times10^{-09} & -6.276\\times10^{-09} & 3.745\\times10^{-09} & 0.0 & 0.0 & 0.0 & 0.0 & 0.0\\\\0.0 & 0.0 & 0.0 & 1.140\\times10^{-15} & 1.632\\times10^{-15} & 0.0 & 0.0 & 0.0 & 0.0 & 0.0\\\\\\end{array}\\right)\\end{equation*}"
      ],
      "text/plain": [
       "Quantum object: dims = [[10], [10]], shape = (10, 10), type = oper, isherm = False\n",
       "Qobj data =\n",
       "[[0.0 0.0 0.0 ... 0.0 0.0 0.0]\n",
       " [0.0 0.0 0.0 ... 0.10400000000000001 0.0 0.0]\n",
       " [0.0 0.0 0.0 ... 0.0 0.0 0.0]\n",
       " ...\n",
       " [0.0 0.0 0.0 ... 0.0 0.0 0.0]\n",
       " [0.0 0.0 0.0 ... 0.0 0.0 0.0]\n",
       " [0.0 0.0 0.0 ... 0.0 0.0 0.0]]"
      ]
     },
     "execution_count": 6,
     "metadata": {},
     "output_type": "execute_result"
    }
   ],
   "source": [
    "Mmatrix = me.antidiagonal_2M2M_block_Mmatrix(time=2, M = M, p = p, a = a, qutip_qobj_result = False)\n",
    "qutip.Qobj(Mmatrix)"
   ]
  },
  {
   "cell_type": "code",
   "execution_count": 7,
   "id": "96ff280f",
   "metadata": {},
   "outputs": [
    {
     "name": "stdout",
     "output_type": "stream",
     "text": [
      "0.01133114816089123\n"
     ]
    }
   ],
   "source": [
    "B = me.complex_differential_system(time=2, M = M, p = p, a = a, coherences_init_configs = cohr_complex_t0)\n",
    "print(B[6])"
   ]
  },
  {
   "cell_type": "code",
   "execution_count": 8,
   "id": "d892100f",
   "metadata": {
    "scrolled": false
   },
   "outputs": [
    {
     "ename": "AssertionError",
     "evalue": "Error: The Mmatrix is not hermitian",
     "output_type": "error",
     "traceback": [
      "\u001b[1;31m---------------------------------------------------------------------------\u001b[0m",
      "\u001b[1;31mAssertionError\u001b[0m                            Traceback (most recent call last)",
      "Input \u001b[1;32mIn [8]\u001b[0m, in \u001b[0;36m<cell line: 2>\u001b[1;34m()\u001b[0m\n\u001b[0;32m      1\u001b[0m \u001b[38;5;28;01massert\u001b[39;00m linalg\u001b[38;5;241m.\u001b[39mnorm(Mmatrix)\u001b[38;5;241m>\u001b[39m\u001b[38;5;241m1e-5\u001b[39m, \u001b[38;5;124m\"\u001b[39m\u001b[38;5;124mError: The Mmatrix is null\u001b[39m\u001b[38;5;124m\"\u001b[39m\n\u001b[1;32m----> 2\u001b[0m \u001b[38;5;28;01massert\u001b[39;00m linalg\u001b[38;5;241m.\u001b[39mnorm(qutip\u001b[38;5;241m.\u001b[39mQobj(Mmatrix) \u001b[38;5;241m-\u001b[39m qutip\u001b[38;5;241m.\u001b[39mQobj(Mmatrix)\u001b[38;5;241m.\u001b[39mdag())\u001b[38;5;241m<\u001b[39m\u001b[38;5;241m1e-5\u001b[39m, \u001b[38;5;124m\"\u001b[39m\u001b[38;5;124mError: The Mmatrix is not hermitian\u001b[39m\u001b[38;5;124m\"\u001b[39m\n",
      "\u001b[1;31mAssertionError\u001b[0m: Error: The Mmatrix is not hermitian"
     ]
    }
   ],
   "source": [
    "assert linalg.norm(Mmatrix)>1e-5, \"Error: The Mmatrix is null\"\n",
    "assert linalg.norm(qutip.Qobj(Mmatrix) - qutip.Qobj(Mmatrix).dag())<1e-5, \"Error: The Mmatrix is not hermitian\""
   ]
  },
  {
   "cell_type": "code",
   "execution_count": 9,
   "id": "8c11b39c",
   "metadata": {
    "scrolled": false
   },
   "outputs": [
    {
     "data": {
      "text/latex": [
       "Quantum object: dims = [[10], [10]], shape = (10, 10), type = oper, isherm = True\\begin{equation*}\\left(\\begin{array}{*{11}c}0.0 & 0.0 & 0.0 & 0.0 & 0.0 & 0.895 & 0.500 & 0.0 & 0.0 & 0.0\\\\0.0 & 0.0 & 0.0 & 0.0 & 0.0 & 0.500 & -0.199 & 0.053 & 0.0 & 0.0\\\\0.0 & 0.0 & 0.0 & 0.0 & 0.0 & 0.0 & 0.053 & -3.016\\times10^{-04} & 8.454\\times10^{-05} & 0.0\\\\0.0 & 0.0 & 0.0 & 0.0 & 0.0 & 0.0 & 0.0 & 8.454\\times10^{-05} & -6.276\\times10^{-09} & 1.872\\times10^{-09}\\\\0.0 & 0.0 & 0.0 & 0.0 & 0.0 & 0.0 & 0.0 & 0.0 & 1.872\\times10^{-09} & 0.0\\\\0.895 & 0.500 & 0.0 & 0.0 & 0.0 & 0.0 & 0.0 & 0.0 & 0.0 & 0.0\\\\0.500 & -0.199 & 0.053 & 0.0 & 0.0 & 0.0 & 0.0 & 0.0 & 0.0 & 0.0\\\\0.0 & 0.053 & -3.016\\times10^{-04} & 8.454\\times10^{-05} & 0.0 & 0.0 & 0.0 & 0.0 & 0.0 & 0.0\\\\0.0 & 0.0 & 8.454\\times10^{-05} & -6.276\\times10^{-09} & 1.872\\times10^{-09} & 0.0 & 0.0 & 0.0 & 0.0 & 0.0\\\\0.0 & 0.0 & 0.0 & 1.872\\times10^{-09} & 0.0 & 0.0 & 0.0 & 0.0 & 0.0 & 0.0\\\\\\end{array}\\right)\\end{equation*}"
      ],
      "text/plain": [
       "Quantum object: dims = [[10], [10]], shape = (10, 10), type = oper, isherm = True\n",
       "Qobj data =\n",
       "[[0.0 0.0 0.0 ... 0.0 0.0 0.0]\n",
       " [0.0 0.0 0.0 ... 0.052000000000000005 0.0 0.0]\n",
       " [0.0 0.0 0.0 ... 0.0 0.0 0.0]\n",
       " ...\n",
       " [0.0 0.052000000000000005 0.0 ... 0.0 0.0 0.0]\n",
       " [0.0 0.0 0.0 ... 0.0 0.0 0.0]\n",
       " [0.0 0.0 0.0 ... 0.0 0.0 0.0]]"
      ]
     },
     "execution_count": 9,
     "metadata": {},
     "output_type": "execute_result"
    }
   ],
   "source": [
    ".5 * (qutip.Qobj(Mmatrix) + qutip.Qobj(Mmatrix).dag())"
   ]
  },
  {
   "cell_type": "code",
   "execution_count": 21,
   "id": "2faddf4c",
   "metadata": {
    "scrolled": true
   },
   "outputs": [
    {
     "data": {
      "text/latex": [
       "Quantum object: dims = [[5], [5]], shape = (5, 5), type = oper, isherm = False\\begin{equation*}\\left(\\begin{array}{*{11}c}0.721 & 0.013 & 0.0 & 0.0 & 0.0\\\\0.265 & -0.502 & 0.265 & 0.0 & 0.0\\\\0.0 & 0.013 & -0.024 & 0.013 & 0.0\\\\0.0 & 0.0 & 8.902\\times10^{-05} & -1.492\\times10^{-04} & 8.902\\times10^{-05}\\\\0.0 & 0.0 & 0.0 & 8.118\\times10^{-08} & 1.162\\times10^{-07}\\\\\\end{array}\\right)\\end{equation*}"
      ],
      "text/plain": [
       "Quantum object: dims = [[5], [5]], shape = (5, 5), type = oper, isherm = False\n",
       "Qobj data =\n",
       "[[0.721 0.013000000000000001 0.0 0.0 0.0]\n",
       " [0.265 -0.502 0.265 0.0 0.0]\n",
       " [0.0 0.013000000000000001 -0.023 0.013000000000000001 0.0]\n",
       " [0.0 0.0 0.0 0.0 0.0]\n",
       " [0.0 0.0 0.0 0.0 0.0]]"
      ]
     },
     "execution_count": 21,
     "metadata": {},
     "output_type": "execute_result"
    }
   ],
   "source": [
    "Mtensor_simple = me.generating_fnc_even_coherences_Mmatrix(param_list, 1)\n",
    "qutip.Qobj(Mtensor_simple)"
   ]
  },
  {
   "cell_type": "code",
   "execution_count": 14,
   "id": "b5d54293",
   "metadata": {},
   "outputs": [
    {
     "name": "stderr",
     "output_type": "stream",
     "text": [
      "C:\\Users\\tomas\\anaconda3\\lib\\site-packages\\scipy\\integrate\\_ivp\\common.py:39: UserWarning: The following arguments have no effect for a chosen solver: `methods`.\n",
      "  warn(\"The following arguments have no effect for a chosen solver: {}.\"\n"
     ]
    }
   ],
   "source": [
    "from scipy.integrate import solve_ivp\n",
    "tmax = 2.; no_steps = 1000\n",
    "ts = np.linspace(0, tmax, no_steps)  \n",
    "\n",
    "def complex_diff_system(t, y0, M, p, a):\n",
    "    Mmatrix_local = me.antidiagonal_2M2M_block_Mmatrix(time = t, \n",
    "                                                       M = M, p = p, a = a)\n",
    "    Mmatrix_local = np.array(Mmatrix_local)\n",
    "    Mmatrix_local = .5 * Mmatrix_local + .5 * np.transpose(Mmatrix_local)\n",
    "    return Mmatrix_local @ y0\n",
    "\n",
    "sol = solve_ivp(fun = complex_diff_system, \n",
    "                t_span = [0, tmax], \n",
    "                y0 = cohr_complex_t0, \n",
    "                t_eval=ts,\n",
    "                methods = \"LSODA\",\n",
    "                args = (M, p, a))\n",
    "time_ev_ReIm_cohrs = sol.y"
   ]
  },
  {
   "cell_type": "code",
   "execution_count": 116,
   "id": "710cb3b1",
   "metadata": {
    "scrolled": false
   },
   "outputs": [
    {
     "data": {
      "text/plain": [
       "array([[1.0, 1.0, 1.0, ..., 2.591, 2.596, 2.602],\n",
       "       [1.0, 1.0, 1.0, ..., 1.832, 1.834, 1.837],\n",
       "       [1.0, 1.0, 1.0, ..., 1.0170000000000001, 1.0170000000000001, 1.0170000000000001],\n",
       "       ...,\n",
       "       [0.0, 0.0, 0.0, ..., 0.151, 0.152, 0.152],\n",
       "       [0.0, 0.0, 0.0, ..., 0.059000000000000004, 0.059000000000000004, 0.059000000000000004],\n",
       "       [0.0, 0.0, 0.001, ..., 0.218, 0.218, 0.218]])"
      ]
     },
     "execution_count": 116,
     "metadata": {},
     "output_type": "execute_result"
    }
   ],
   "source": [
    "time_ev_ReIm_cohrs ## ahora la evolucion es coherencias para abajo, tiempos para la izq"
   ]
  },
  {
   "cell_type": "markdown",
   "id": "62cb6ca9",
   "metadata": {},
   "source": [
    "## Step 3: Obtaining the time-evolved complex-valued coherences\n",
    "\n",
    "\n",
    "Ideally, the observables of interest obtained via our coherences should show this trend \n",
    "\n",
    "<img src=\"PhD%20Physics/2nd%20Year/RMN-Max-Ent/Decoherence_..._scrambling_Dominguez_ib_observables\" width=60 height=60 />"
   ]
  },
  {
   "cell_type": "code",
   "execution_count": 118,
   "id": "6fe44425",
   "metadata": {
    "scrolled": false
   },
   "outputs": [],
   "source": [
    "complex_cohrs_at_time_t = [[time_ev_ReIm_cohrs[m][list(ts).index(t)] + 1j*time_ev_ReIm_cohrs[m+M][list(ts).index(t)] for m in range(M)] for t in ts]\n",
    "complex_cohrs_at_time_t = np.array(complex_cohrs_at_time_t)\n",
    "\n",
    "complex_cohrs_at_time_t_local_sum =  sum(complex_cohrs_at_time_t[100][m] * me.power_law_weight(coherence = m, \n",
    "                                                        time = 100, \n",
    "                                                        power_law_factor = a)\n",
    "                                        for m in range(M))"
   ]
  },
  {
   "cell_type": "code",
   "execution_count": 120,
   "id": "55e2ee9e",
   "metadata": {},
   "outputs": [
    {
     "data": {
      "text/plain": [
       "(1.0022754451274771+0.09190802144729893j)"
      ]
     },
     "execution_count": 120,
     "metadata": {},
     "output_type": "execute_result"
    }
   ],
   "source": [
    "complex_cohrs_at_time_t_local_sum"
   ]
  },
  {
   "cell_type": "markdown",
   "id": "949c24ab",
   "metadata": {},
   "source": [
    "Entonces, si\n",
    "\n",
    "$$\n",
    "    f(t) = \\langle \\rho(t) \\rho^0(t) \\rangle = \\sum_{M}{c}_M(t) I_{M}^{0}(t)\n",
    "$$\n",
    "\n",
    "then\n",
    "\n",
    "$$\n",
    "    \\dot{f}(t) = \\sum_{M} \\bigg(\\dot{c}_M(t) I_{M}^{0}(t) + {c}_M(t) \\dot{I}_{M}^{0}(t) \\bigg)\n",
    "$$"
   ]
  },
  {
   "cell_type": "markdown",
   "id": "f7599729",
   "metadata": {},
   "source": [
    "EXTRAIGO RE(f(t))\n",
    "#complex_cohrs_at_time_t[99][599]\n",
    "sum_{m} m**2 cm(t) * I_m(0)(t)"
   ]
  },
  {
   "cell_type": "code",
   "execution_count": 121,
   "id": "6e759e83",
   "metadata": {},
   "outputs": [],
   "source": [
    "fidelity_at_timet = []\n",
    "cluster_spin_size_at_timet = []\n",
    "timespan = list(ts)\n",
    "\n",
    "for t in ts:\n",
    "    local_list = complex_cohrs_at_time_t[timespan.index(t)]\n",
    "    local_val = sum(local_list[m] * me.power_law_weight(coherence = m, \n",
    "                                                        time = t, \n",
    "                                                        power_law_factor = a)\n",
    "            \n",
    "                   for m in range(M)) \n",
    "    fidelity_at_timet.append(local_val)\n",
    "    local_val = 0\n",
    "    local_val = sum(m**2 * local_list[m] * me.power_law_weight(coherence = m, \n",
    "                                                                       time = t, \n",
    "                                                                       power_law_factor = a)\n",
    "                   for m in range(M)) \n",
    "    cluster_spin_size_at_timet.append(local_val)\n",
    "    local_val = 0\n",
    "    \n",
    "assert len(fidelity_at_timet) == len(ts)\n",
    "assert len(cluster_spin_size_at_timet) == len(ts)"
   ]
  },
  {
   "cell_type": "code",
   "execution_count": 122,
   "id": "3af5a566",
   "metadata": {
    "scrolled": false
   },
   "outputs": [
    {
     "data": {
      "text/plain": [
       "<matplotlib.collections.PathCollection at 0x25c7995c3a0>"
      ]
     },
     "execution_count": 122,
     "metadata": {},
     "output_type": "execute_result"
    },
    {
     "data": {
      "image/png": "[encoded data removed]",
      "text/plain": [
       "<Figure size 432x288 with 1 Axes>"
      ]
     },
     "metadata": {
      "needs_background": "light"
     },
     "output_type": "display_data"
    }
   ],
   "source": [
    "plt.scatter(ts, np.real(fidelity_at_timet))"
   ]
  },
  {
   "cell_type": "code",
   "execution_count": 123,
   "id": "63a79c31",
   "metadata": {
    "scrolled": true
   },
   "outputs": [
    {
     "data": {
      "text/plain": [
       "<matplotlib.collections.PathCollection at 0x25c79a1b310>"
      ]
     },
     "execution_count": 123,
     "metadata": {},
     "output_type": "execute_result"
    },
    {
     "data": {
      "image/png": "[encoded data removed]",
      "text/plain": [
       "<Figure size 432x288 with 1 Axes>"
      ]
     },
     "metadata": {
      "needs_background": "light"
     },
     "output_type": "display_data"
    }
   ],
   "source": [
    "plt.scatter(ts, np.real(cluster_spin_size_at_timet))"
   ]
  },
  {
   "cell_type": "markdown",
   "id": "07d78449",
   "metadata": {},
   "source": [
    "# Tests y fallos :("
   ]
  },
  {
   "cell_type": "markdown",
   "id": "0f86f6e0",
   "metadata": {},
   "source": [
    "## Fallo grave"
   ]
  },
  {
   "cell_type": "code",
   "execution_count": 32,
   "id": "4052ac4e",
   "metadata": {},
   "outputs": [],
   "source": [
    "difference_between_solvers = []\n",
    "for t in ts:\n",
    "    difference_between_solvers.append(sum(\n",
    "        coherences_at_timet[timespan.index(t)][i] - complex_cohrs_at_time_t[timespan.index(t)][i] for i in range(5))\n",
    "                                     )"
   ]
  },
  {
   "cell_type": "code",
   "execution_count": 33,
   "id": "6e125ada",
   "metadata": {},
   "outputs": [
    {
     "data": {
      "text/plain": [
       "Text(0.5, 1.0, 'Difference between solutions')"
      ]
     },
     "execution_count": 33,
     "metadata": {},
     "output_type": "execute_result"
    },
    {
     "data": {
      "image/png": "[encoded data removed]",
      "text/plain": [
       "<Figure size 432x288 with 1 Axes>"
      ]
     },
     "metadata": {
      "needs_background": "light"
     },
     "output_type": "display_data"
    }
   ],
   "source": [
    "plt.scatter(ts, np.real(difference_between_solvers))\n",
    "plt.scatter(ts, np.imag(difference_between_solvers))\n",
    "plt.title(\"Difference between solutions\")"
   ]
  }
 ],
 "metadata": {
  "kernelspec": {
   "display_name": "Python 3 (ipykernel)",
   "language": "python",
   "name": "python3"
  },
  "language_info": {
   "codemirror_mode": {
    "name": "ipython",
    "version": 3
   },
   "file_extension": ".py",
   "mimetype": "text/x-python",
   "name": "python",
   "nbconvert_exporter": "python",
   "pygments_lexer": "ipython3",
   "version": "3.9.12"
  }
 },
 "nbformat": 4,
 "nbformat_minor": 5
}
