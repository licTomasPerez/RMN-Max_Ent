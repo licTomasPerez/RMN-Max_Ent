{
 "cells": [
  {
   "cell_type": "code",
   "execution_count": 1,
   "id": "9c998351",
   "metadata": {},
   "outputs": [],
   "source": [
    "import qutip, pickle, sys\n",
    "import matplotlib.pyplot as plt \n",
    "import numpy as np\n",
    "import scipy.optimize as opt \n",
    "import scipy.linalg as linalg\n",
    "import time as time\n",
    "import math, cmath\n",
    "import Max_Ent_aux_lib as me\n",
    "#import proj_ev_library as projev\n",
    "#import max_entev library as meev\n",
    "from IPython.display import display, Math, Latex\n",
    "\n",
    "np.set_printoptions(threshold=1.e-3,linewidth=120,precision=1, formatter={\"float\":lambda x: str(.001*int(1000*x)) })"
   ]
  },
  {
   "cell_type": "markdown",
   "id": "6413887b",
   "metadata": {},
   "source": [
    "Tenemos la siguiente ecuación de movimiento:\n",
    "\n",
    "$$\n",
    "    \\dot{c}_M(t) I_{M}^{0}(t) = -i \\bigg\\{\\bigg(c_{M+2}(t) - c_M(t) \\bigg)\\langle \\rho_{M}^{0\\dagger}(t) [H_{0,-2}, \\rho_{M+2}^0] \\rangle + \\bigg(c_{M-2}(t) - c_M(t)\\bigg) \\langle \\rho_{M}^{0\\dagger}(t) [H_{0,2}, \\rho_{M-2}^0] \\rangle + p \\langle \\rho_{M}^{0\\dagger}(t) [\\Sigma, \\rho_{M}^0 (t)]\\rangle \\bigg\\}\n",
    "$$\n",
    "\n",
    "siendo $I_{M}^{0}(t) = \\langle \\rho_{M}^{0\\dagger}(t) \\rho_{M}^{0}(t)\\rangle = I_{-M}^{0}(t)$\n",
    "la cual puede reescribirse como \n",
    "\n",
    "$$\n",
    "\\dot{c}_M(t) I_{M}^{0}(t) = -i \\bigg\\{A_{\\rho^{M, M+2}} c_{M+2}(t) - \\bigg(A_{\\rho^{M, M+2}} + B_{\\rho^{M, M-2}} \\bigg) c_{M}(t) + B_{\\rho^{M, M-2}} c_{M-2}(t) \\bigg\\} + p C_{\\rho^M} \\\\\n",
    "= - i({\\bf{\\mathcal{M}}}(t) \\textbf{c}(t))_M\n",
    "$$\n",
    "\n",
    "donde \n",
    "\n",
    "<ol>\n",
    "\n",
    "<li> $A_{\\rho^{M, M+2}} = \\langle \\rho_{M}^{0\\dagger}(t) [H_{0,-2}, \\rho_{M+2}^0] \\rangle$ </li> \n",
    "<li> $B_{\\rho^{M, M-2}} = \\langle \\rho_{M}^{0\\dagger}(t) [H_{0,2}, \\rho_{M-2}^0] \\rangle$ </li>\n",
    "<li> $C_{\\rho^M} = \\langle \\rho_{M}^{0\\dagger}(t) [\\Sigma, \\rho_{M}^0 (t)]\\rangle$ </li>\n",
    "    \n",
    "</ol>    \n",
    "\n",
    "Entonces, si $f(t) = \\langle \\rho(t) \\rho^0(t) \\rangle = \\sum_{M} {c}_M(t) I_{M}^{0}(t)$\n",
    "\n",
    "$$\n",
    "    \\dot{f}(t) = \\sum_{M} \\bigg(\\dot{c}_M(t) I_{M}^{0}(t) + {c}_M(t) \\dot{I}_{M}^{0}(t) \\bigg)\n",
    "$$"
   ]
  },
  {
   "cell_type": "markdown",
   "id": "9492c01e",
   "metadata": {},
   "source": [
    "where\n",
    "\n",
    "1: $A=\\alpha B = N(t) \\exp(-m t^{1+a}) = I_M^{(0)}$ (a primer orden alpha = 1) \\\n",
    "2: $C = M N(t) exp(-m t^{1+a})$\n",
    "\n",
    "con $N(t) = 1/Tr(\\rho(t))$ la calculo con la definición del $\\rho_M (t)=  c_{M}(t) \\rho^0_M(t)$, with $c_0(t)$= 1. \n",
    "Note that the kernel $K(t,t') = e^{(-i M(t-t'))}$ is not a solution to the previous differential equation for the M-tensor is time-dependent\n",
    "    \n",
    "$H_ {0, 2}^\\dagger = H_{0, -2}$ \n",
    "\n",
    "$\\rho_{M}^\\dagger = \\rho_{-M}$"
   ]
  },
  {
   "cell_type": "markdown",
   "id": "a641b494",
   "metadata": {},
   "source": [
    "## Step 1: Fix parameters and initial conditions for the coherences"
   ]
  },
  {
   "cell_type": "code",
   "execution_count": 21,
   "id": "ea71fc99",
   "metadata": {},
   "outputs": [],
   "source": [
    "p = .108;    # strength of the Sigma Interaction Hamiltonian\n",
    "a = -1;      # Power-law factor\n",
    "M = 50;        # Truncation/Total no. of coherences\n",
    "coherences_t0_pert0 = 1. # Unused for the time being\n",
    "param_list = {\"total_no_cohrs\": M, \"p_factor\": p, \"power_law_factor\": a} # dictionary containing the simulation's initial \n",
    "                                                                         # parameters\n",
    "    \n",
    "cohr_complex_t0 = [1 for i in range(param_list[\"total_no_cohrs\"])] \n",
    "cohr_complex_t0 += [0 for i in range(param_list[\"total_no_cohrs\"])]"
   ]
  },
  {
   "cell_type": "markdown",
   "id": "10e67289",
   "metadata": {},
   "source": [
    "Since the coherences are complex-valued numbers, the previous system of $M \\times M$ coupled complex-valued differential equations can be rewritten as a system of $2M \\times 2M$ coupled real-valued differential equations, as follows:\n",
    "\n",
    "if $c_M(t) = a_M(t) + i b_M(t)$, then \n",
    "\n",
    "$$\n",
    "    \\dot{a}_M(t) + i \\dot{b}_M(t) = -i \\sum_{m'}{\\bf{\\mathcal{M}}}_{Mm'}(t) \\bigg(a_{m'}(t) + i b_{m'}(t)\\bigg),\n",
    "$$\n",
    "\n",
    "$$\n",
    "    \\dot{a}_M(t) + i \\dot{b}_M(t) = -i \\sum_{m'}{\\bf{\\mathcal{M}}}_{Mm'}(t) a_{m'}(t) + \\sum_{m'} {\\bf{\\mathcal{M}}}_{Mm'}(t) b_{m'}(t)\n",
    "$$\n",
    "\n",
    "$$\n",
    "    \\dot{{\\bf a}}(t) = {\\cal M}(t) \\cdot {\\bf b}(t), \\quad \\dot{{\\bf b}}(t) = -{\\cal M}(t) \\cdot {\\bf a}(t), \\qquad s.t. \\quad{\\bf c}(t) = {\\bf a}(t) + i {\\bf b}(t)\n",
    "$$\n"
   ]
  },
  {
   "cell_type": "markdown",
   "id": "afc249cc",
   "metadata": {},
   "source": [
    "## Step 2: Setting up and Solving system of complex diff. eqs"
   ]
  },
  {
   "cell_type": "code",
   "execution_count": 22,
   "id": "89f9074c",
   "metadata": {},
   "outputs": [],
   "source": [
    "param_list = {\"total_no_cohrs\": M, \"p_factor\": p, \"power_law_factor\": a} # dictionary containing the simulation's initial \n",
    "                                                                         # parameters \n",
    "\n",
    "cohr_complex_t0 = [1 for i in range(param_list[\"total_no_cohrs\"])]\n",
    "cohr_complex_t0 += [0 for i in range(param_list[\"total_no_cohrs\"])]\n",
    "cohr_complex_t0 = np.array(cohr_complex_t0)\n",
    "param_list = [M, p, a]"
   ]
  },
  {
   "cell_type": "code",
   "execution_count": 26,
   "id": "ec08f283",
   "metadata": {
    "scrolled": false
   },
   "outputs": [
    {
     "ename": "TypeError",
     "evalue": "antidiagonal_2M2M_block_Mmatrix() got an unexpected keyword argument 'init_configurations'",
     "output_type": "error",
     "traceback": [
      "\u001b[1;31m---------------------------------------------------------------------------\u001b[0m",
      "\u001b[1;31mTypeError\u001b[0m                                 Traceback (most recent call last)",
      "Input \u001b[1;32mIn [26]\u001b[0m, in \u001b[0;36m<cell line: 1>\u001b[1;34m()\u001b[0m\n\u001b[1;32m----> 1\u001b[0m B \u001b[38;5;241m=\u001b[39m \u001b[43mme\u001b[49m\u001b[38;5;241;43m.\u001b[39;49m\u001b[43mcomplex_differential_system\u001b[49m\u001b[43m(\u001b[49m\u001b[43mparameters\u001b[49m\u001b[43m \u001b[49m\u001b[38;5;241;43m=\u001b[39;49m\u001b[43m \u001b[49m\u001b[43mparam_list\u001b[49m\u001b[43m,\u001b[49m\u001b[43m \u001b[49m\u001b[43mcoherences_init_configs\u001b[49m\u001b[43m \u001b[49m\u001b[38;5;241;43m=\u001b[39;49m\u001b[43m \u001b[49m\u001b[43mcohr_complex_t0\u001b[49m\u001b[43m,\u001b[49m\u001b[43m \u001b[49m\u001b[43mtime\u001b[49m\u001b[38;5;241;43m=\u001b[39;49m\u001b[38;5;241;43m1\u001b[39;49m\u001b[43m)\u001b[49m\n\u001b[0;32m      2\u001b[0m \u001b[38;5;28mlen\u001b[39m(B)\n",
      "File \u001b[1;32m~\\PhD Physics\\2nd Year\\RMN-Max-Ent\\Max_Ent_aux_lib.py:300\u001b[0m, in \u001b[0;36mcomplex_differential_system\u001b[1;34m(coherences_init_configs, time, parameters)\u001b[0m\n\u001b[0;32m    271\u001b[0m \u001b[38;5;28;01mdef\u001b[39;00m \u001b[38;5;21mcomplex_differential_system\u001b[39m(coherences_init_configs, time, parameters):\n\u001b[0;32m    272\u001b[0m     \u001b[38;5;124;03m\"\"\"\u001b[39;00m\n\u001b[0;32m    273\u001b[0m \u001b[38;5;124;03m    This module sets up the system of (2M by 2M) real-valued coupled differential equations:\u001b[39;00m\n\u001b[0;32m    274\u001b[0m \u001b[38;5;124;03m    M = [ 0^{M},  M^{1}\u001b[39;00m\n\u001b[1;32m   (...)\u001b[0m\n\u001b[0;32m    298\u001b[0m \u001b[38;5;124;03m    \u001b[39;00m\n\u001b[0;32m    299\u001b[0m \u001b[38;5;124;03m    \"\"\"\u001b[39;00m\n\u001b[1;32m--> 300\u001b[0m     Mtensor \u001b[38;5;241m=\u001b[39m \u001b[43mantidiagonal_2M2M_block_Mmatrix\u001b[49m\u001b[43m(\u001b[49m\u001b[43mparameters\u001b[49m\u001b[43m \u001b[49m\u001b[38;5;241;43m=\u001b[39;49m\u001b[43m \u001b[49m\u001b[43mparameters\u001b[49m\u001b[43m,\u001b[49m\u001b[43m \u001b[49m\u001b[43minit_configurations\u001b[49m\u001b[43m \u001b[49m\u001b[38;5;241;43m=\u001b[39;49m\u001b[43m \u001b[49m\u001b[43mcoherences_init_configs\u001b[49m\u001b[43m,\u001b[49m\u001b[43m \u001b[49m\n\u001b[0;32m    301\u001b[0m \u001b[43m                                                   \u001b[49m\u001b[43mtime\u001b[49m\u001b[43m \u001b[49m\u001b[38;5;241;43m=\u001b[39;49m\u001b[43m \u001b[49m\u001b[43mtime\u001b[49m\u001b[43m)\u001b[49m\n\u001b[0;32m    302\u001b[0m     Mtensor_loc \u001b[38;5;241m=\u001b[39m np\u001b[38;5;241m.\u001b[39masarray(Mtensor)\n\u001b[0;32m    303\u001b[0m     \u001b[38;5;28;01mreturn\u001b[39;00m Mtensor_loc \u001b[38;5;241m@\u001b[39m coherences_init_configs\n",
      "\u001b[1;31mTypeError\u001b[0m: antidiagonal_2M2M_block_Mmatrix() got an unexpected keyword argument 'init_configurations'"
     ]
    }
   ],
   "source": [
    "B = me.complex_differential_system(parameters = param_list, coherences_init_configs = cohr_complex_t0, time=1)\n",
    "len(B)"
   ]
  },
  {
   "cell_type": "code",
   "execution_count": 11,
   "id": "e548e3b9",
   "metadata": {
    "scrolled": false
   },
   "outputs": [
    {
     "name": "stdout",
     "output_type": "stream",
     "text": [
      "2.1508302050600525\n"
     ]
    },
    {
     "data": {
      "text/latex": [
       "Quantum object: dims = [[100], [100]], shape = (100, 100), type = oper, isherm = False\\begin{equation*}\\left(\\begin{array}{*{11}c}0.0 & 0.0 & 0.0 & 0.0 & 0.0 & \\cdots & 0.0 & 0.0 & 0.0 & 0.0 & 0.0\\\\0.0 & 0.0 & 0.0 & 0.0 & 0.0 & \\cdots & 0.0 & 0.0 & 0.0 & 0.0 & 0.0\\\\0.0 & 0.0 & 0.0 & 0.0 & 0.0 & \\cdots & 0.0 & 0.0 & 0.0 & 0.0 & 0.0\\\\0.0 & 0.0 & 0.0 & 0.0 & 0.0 & \\cdots & 0.0 & 0.0 & 0.0 & 0.0 & 0.0\\\\0.0 & 0.0 & 0.0 & 0.0 & 0.0 & \\cdots & 0.0 & 0.0 & 0.0 & 0.0 & 0.0\\\\\\vdots & \\vdots & \\vdots & \\vdots & \\vdots & \\ddots & \\vdots & \\vdots & \\vdots & \\vdots & \\vdots\\\\0.0 & 0.0 & 0.0 & 0.0 & 0.0 & \\cdots & 0.0 & 0.0 & 0.0 & 0.0 & 0.0\\\\0.0 & 0.0 & 0.0 & 0.0 & 0.0 & \\cdots & 0.0 & 0.0 & 0.0 & 0.0 & 0.0\\\\0.0 & 0.0 & 0.0 & 0.0 & 0.0 & \\cdots & 0.0 & 0.0 & 0.0 & 0.0 & 0.0\\\\0.0 & 0.0 & 0.0 & 0.0 & 0.0 & \\cdots & 0.0 & 0.0 & 0.0 & 0.0 & 0.0\\\\0.0 & 0.0 & 0.0 & 0.0 & 0.0 & \\cdots & 0.0 & 0.0 & 0.0 & 0.0 & 0.0\\\\\\end{array}\\right)\\end{equation*}"
      ],
      "text/plain": [
       "Quantum object: dims = [[100], [100]], shape = (100, 100), type = oper, isherm = False\n",
       "Qobj data =\n",
       "[[0.0 0.0 0.0 ... 0.0 0.0 0.0]\n",
       " [0.0 0.0 0.0 ... 0.0 0.0 0.0]\n",
       " [0.0 0.0 0.0 ... 0.0 0.0 0.0]\n",
       " ...\n",
       " [0.0 0.0 0.0 ... 0.0 0.0 0.0]\n",
       " [0.0 0.0 0.0 ... 0.0 0.0 0.0]\n",
       " [0.0 0.0 0.0 ... 0.0 0.0 0.0]]"
      ]
     },
     "execution_count": 11,
     "metadata": {},
     "output_type": "execute_result"
    }
   ],
   "source": [
    "Mmatrix = me.Mtensor_2mx2m_dimensional_symplectic(parameters = param_list, \n",
    "                                                  init_configurations = cohr_complex_t0, \n",
    "                                                  timet=3, as_qutip_qobj = False)\n",
    "qutip.Qobj(Mmatrix)"
   ]
  },
  {
   "cell_type": "code",
   "execution_count": 12,
   "id": "d892100f",
   "metadata": {},
   "outputs": [
    {
     "ename": "AssertionError",
     "evalue": "Error: The Mmatrix is not hermitian",
     "output_type": "error",
     "traceback": [
      "\u001b[1;31m---------------------------------------------------------------------------\u001b[0m",
      "\u001b[1;31mAssertionError\u001b[0m                            Traceback (most recent call last)",
      "Input \u001b[1;32mIn [12]\u001b[0m, in \u001b[0;36m<cell line: 2>\u001b[1;34m()\u001b[0m\n\u001b[0;32m      1\u001b[0m \u001b[38;5;28;01massert\u001b[39;00m linalg\u001b[38;5;241m.\u001b[39mnorm(Mmatrix)\u001b[38;5;241m>\u001b[39m\u001b[38;5;241m1e-5\u001b[39m, \u001b[38;5;124m\"\u001b[39m\u001b[38;5;124mError: The Mmatrix is null\u001b[39m\u001b[38;5;124m\"\u001b[39m\n\u001b[1;32m----> 2\u001b[0m \u001b[38;5;28;01massert\u001b[39;00m linalg\u001b[38;5;241m.\u001b[39mnorm(qutip\u001b[38;5;241m.\u001b[39mQobj(Mmatrix) \u001b[38;5;241m-\u001b[39m qutip\u001b[38;5;241m.\u001b[39mQobj(Mmatrix)\u001b[38;5;241m.\u001b[39mdag())\u001b[38;5;241m<\u001b[39m\u001b[38;5;241m1e-5\u001b[39m, \u001b[38;5;124m\"\u001b[39m\u001b[38;5;124mError: The Mmatrix is not hermitian\u001b[39m\u001b[38;5;124m\"\u001b[39m\n",
      "\u001b[1;31mAssertionError\u001b[0m: Error: The Mmatrix is not hermitian"
     ]
    }
   ],
   "source": [
    "assert linalg.norm(Mmatrix)>1e-5, \"Error: The Mmatrix is null\"\n",
    "assert linalg.norm(qutip.Qobj(Mmatrix) - qutip.Qobj(Mmatrix).dag())<1e-5, \"Error: The Mmatrix is not hermitian\""
   ]
  },
  {
   "cell_type": "code",
   "execution_count": 13,
   "id": "8c11b39c",
   "metadata": {
    "scrolled": false
   },
   "outputs": [
    {
     "data": {
      "text/latex": [
       "Quantum object: dims = [[100], [100]], shape = (100, 100), type = oper, isherm = True\\begin{equation*}\\left(\\begin{array}{*{11}c}0.0 & 0.0 & 0.0 & 0.0 & 0.0 & \\cdots & 0.0 & 0.0 & 0.0 & 0.0 & 0.0\\\\0.0 & 0.0 & 0.0 & 0.0 & 0.0 & \\cdots & 0.0 & 0.0 & 0.0 & 0.0 & 0.0\\\\0.0 & 0.0 & 0.0 & 0.0 & 0.0 & \\cdots & 0.0 & 0.0 & 0.0 & 0.0 & 0.0\\\\0.0 & 0.0 & 0.0 & 0.0 & 0.0 & \\cdots & 0.0 & 0.0 & 0.0 & 0.0 & 0.0\\\\0.0 & 0.0 & 0.0 & 0.0 & 0.0 & \\cdots & 0.0 & 0.0 & 0.0 & 0.0 & 0.0\\\\\\vdots & \\vdots & \\vdots & \\vdots & \\vdots & \\ddots & \\vdots & \\vdots & \\vdots & \\vdots & \\vdots\\\\0.0 & 0.0 & 0.0 & 0.0 & 0.0 & \\cdots & 0.0 & 0.0 & 0.0 & 0.0 & 0.0\\\\0.0 & 0.0 & 0.0 & 0.0 & 0.0 & \\cdots & 0.0 & 0.0 & 0.0 & 0.0 & 0.0\\\\0.0 & 0.0 & 0.0 & 0.0 & 0.0 & \\cdots & 0.0 & 0.0 & 0.0 & 0.0 & 0.0\\\\0.0 & 0.0 & 0.0 & 0.0 & 0.0 & \\cdots & 0.0 & 0.0 & 0.0 & 0.0 & 0.0\\\\0.0 & 0.0 & 0.0 & 0.0 & 0.0 & \\cdots & 0.0 & 0.0 & 0.0 & 0.0 & 0.0\\\\\\end{array}\\right)\\end{equation*}"
      ],
      "text/plain": [
       "Quantum object: dims = [[100], [100]], shape = (100, 100), type = oper, isherm = True\n",
       "Qobj data =\n",
       "[[0.0 0.0 0.0 ... 0.0 0.0 0.0]\n",
       " [0.0 0.0 0.0 ... 0.0 0.0 0.0]\n",
       " [0.0 0.0 0.0 ... 0.0 0.0 0.0]\n",
       " ...\n",
       " [0.0 0.0 0.0 ... 0.0 0.0 0.0]\n",
       " [0.0 0.0 0.0 ... 0.0 0.0 0.0]\n",
       " [0.0 0.0 0.0 ... 0.0 0.0 0.0]]"
      ]
     },
     "execution_count": 13,
     "metadata": {},
     "output_type": "execute_result"
    }
   ],
   "source": [
    ".5 * (qutip.Qobj(Mmatrix) + qutip.Qobj(Mmatrix).dag())"
   ]
  },
  {
   "cell_type": "code",
   "execution_count": 14,
   "id": "175af323",
   "metadata": {
    "scrolled": true
   },
   "outputs": [
    {
     "name": "stdout",
     "output_type": "stream",
     "text": [
      "Help on function complex_differential_system in module Max_Ent_aux_lib:\n",
      "\n",
      "complex_differential_system(cohr_complex, t, parameters)\n",
      "\n"
     ]
    }
   ],
   "source": [
    "help(me.complex_differential_system)"
   ]
  },
  {
   "cell_type": "code",
   "execution_count": 15,
   "id": "cc8bd1fc",
   "metadata": {
    "scrolled": true
   },
   "outputs": [
    {
     "name": "stdout",
     "output_type": "stream",
     "text": [
      "2.1508302050600525\n"
     ]
    },
    {
     "data": {
      "text/plain": [
       "array([0.0, 0.0, 0.0, ..., 0.0, 0.0, 0.0])"
      ]
     },
     "execution_count": 15,
     "metadata": {},
     "output_type": "execute_result"
    }
   ],
   "source": [
    "me.complex_differential_system(cohr_complex = cohr_complex_t0, t = 1e-5, parameters = param_list)"
   ]
  },
  {
   "cell_type": "code",
   "execution_count": 16,
   "id": "e93ae0cc",
   "metadata": {},
   "outputs": [
    {
     "name": "stdout",
     "output_type": "stream",
     "text": [
      "2.1508302050600525\n"
     ]
    },
    {
     "data": {
      "text/plain": [
       "array([0.0, 0.0, 0.0, ..., 0.0, 0.0, 0.0])"
      ]
     },
     "execution_count": 16,
     "metadata": {},
     "output_type": "execute_result"
    }
   ],
   "source": [
    "me.complex_differential_system(cohr_complex = cohr_complex_t0, t = .5, parameters = param_list)"
   ]
  },
  {
   "cell_type": "code",
   "execution_count": 17,
   "id": "1bf86fb7",
   "metadata": {
    "scrolled": true
   },
   "outputs": [
    {
     "name": "stdout",
     "output_type": "stream",
     "text": [
      "2.1508302050600525\n",
      "2.1508302050600525\n",
      "2.1508302050600525\n",
      "2.1508302050600525\n",
      "2.1508302050600525\n",
      "2.1508302050600525\n",
      "2.1508302050600525\n",
      "2.1508302050600525\n",
      "2.1508302050600525\n",
      "2.1508302050600525\n",
      "2.1508302050600525\n",
      "2.1508302050600525\n",
      "2.1508302050600525\n",
      "2.1508302050600525\n",
      "2.1508302050600525\n",
      "2.1508302050600525\n",
      "2.1508302050600525\n",
      "2.1508302050600525\n",
      "2.1508302050600525\n",
      "2.1508302050600525\n",
      "2.1508302050600525\n",
      "2.1508302050600525\n",
      "2.1508302050600525\n",
      "2.1508302050600525\n",
      "2.1508302050600525\n",
      "2.1508302050600525\n",
      "2.1508302050600525\n",
      "2.1508302050600525\n",
      "2.1508302050600525\n",
      "2.1508302050600525\n",
      "2.1508302050600525\n",
      "2.1508302050600525\n",
      "2.1508302050600525\n",
      "2.1508302050600525\n",
      "2.1508302050600525\n",
      "2.1508302050600525\n",
      "2.1508302050600525\n",
      "2.1508302050600525\n",
      "2.1508302050600525\n",
      "2.1508302050600525\n",
      "2.1508302050600525\n",
      "2.1508302050600525\n",
      "2.1508302050600525\n",
      "2.1508302050600525\n",
      "2.1508302050600525\n",
      "2.1508302050600525\n",
      "2.1508302050600525\n",
      "2.1508302050600525\n",
      "2.1508302050600525\n",
      "2.1508302050600525\n",
      "2.1508302050600525\n",
      "2.1508302050600525\n",
      "2.1508302050600525\n",
      "2.1508302050600525\n",
      "2.1508302050600525\n",
      "2.1508302050600525\n",
      "2.1508302050600525\n",
      "2.1508302050600525\n",
      "2.1508302050600525\n",
      "2.1508302050600525\n",
      "2.1508302050600525\n",
      "2.1508302050600525\n",
      "2.1508302050600525\n",
      "2.1508302050600525\n",
      "2.1508302050600525\n",
      "2.1508302050600525\n",
      "2.1508302050600525\n",
      "2.1508302050600525\n",
      "2.1508302050600525\n",
      "2.1508302050600525\n",
      "2.1508302050600525\n",
      "2.1508302050600525\n",
      "2.1508302050600525\n",
      "2.1508302050600525\n",
      "2.1508302050600525\n",
      "2.1508302050600525\n",
      "2.1508302050600525\n",
      "2.1508302050600525\n",
      "2.1508302050600525\n",
      "2.1508302050600525\n",
      "2.1508302050600525\n",
      "2.1508302050600525\n",
      "2.1508302050600525\n",
      "2.1508302050600525\n",
      "2.1508302050600525\n",
      "2.1508302050600525\n",
      "2.1508302050600525\n",
      "2.1508302050600525\n",
      "2.1508302050600525\n",
      "2.1508302050600525\n",
      "2.1508302050600525\n",
      "2.1508302050600525\n",
      "2.1508302050600525\n",
      "2.1508302050600525\n",
      "2.1508302050600525\n",
      "2.1508302050600525\n",
      "2.1508302050600525\n",
      "2.1508302050600525\n",
      "2.1508302050600525\n",
      "2.1508302050600525\n",
      "2.1508302050600525\n",
      "2.1508302050600525\n",
      "2.1508302050600525\n",
      "2.1508302050600525\n",
      "2.1508302050600525\n",
      "2.1508302050600525\n",
      "2.1508302050600525\n",
      "2.1508302050600525\n",
      "2.1508302050600525\n",
      "2.1508302050600525\n",
      "2.1508302050600525\n",
      "2.1508302050600525\n",
      "2.1508302050600525\n",
      "2.1508302050600525\n",
      "2.1508302050600525\n",
      "2.1508302050600525\n",
      "2.1508302050600525\n",
      "2.1508302050600525\n",
      "2.1508302050600525\n",
      "2.1508302050600525\n",
      "2.1508302050600525\n",
      "2.1508302050600525\n",
      "2.1508302050600525\n",
      "2.1508302050600525\n",
      "2.1508302050600525\n",
      "2.1508302050600525\n",
      "2.1508302050600525\n",
      "2.1508302050600525\n",
      "2.1508302050600525\n",
      "2.1508302050600525\n",
      "2.1508302050600525\n",
      "2.1508302050600525\n",
      "2.1508302050600525\n",
      "2.1508302050600525\n",
      "2.1508302050600525\n",
      "2.1508302050600525\n",
      "2.1508302050600525\n",
      "2.1508302050600525\n",
      "2.1508302050600525\n",
      "2.1508302050600525\n",
      "2.1508302050600525\n",
      "2.1508302050600525\n",
      "2.1508302050600525\n",
      "2.1508302050600525\n",
      "2.1508302050600525\n",
      "2.1508302050600525\n",
      "2.1508302050600525\n",
      "2.1508302050600525\n",
      "2.1508302050600525\n",
      "2.1508302050600525\n",
      "2.1508302050600525\n",
      "2.1508302050600525\n",
      "2.1508302050600525\n",
      "2.1508302050600525\n",
      "2.1508302050600525\n",
      "2.1508302050600525\n",
      "2.1508302050600525\n",
      "2.1508302050600525\n",
      "2.1508302050600525\n",
      "2.1508302050600525\n",
      "2.1508302050600525\n",
      "2.1508302050600525\n",
      "2.1508302050600525\n",
      "2.1508302050600525\n",
      "2.1508302050600525\n",
      "2.1508302050600525\n",
      "2.1508302050600525\n",
      "2.1508302050600525\n",
      "2.1508302050600525\n"
     ]
    },
    {
     "data": {
      "text/plain": [
       "array([[1.0, 1.0, 1.0, ..., 0.0, 0.0, 0.0],\n",
       "       [1.006, 1.002, 1.0, ..., 0.0, 0.0, 0.0],\n",
       "       [1.026, 1.0090000000000001, 1.0, ..., 0.0, 0.0, 0.0],\n",
       "       ...,\n",
       "       [8074.742, 1874.728, 106.62, ..., 0.0, 0.0, 0.0],\n",
       "       [8888.512, 2057.6530000000002, 118.206, ..., 0.0, 0.0, 0.0],\n",
       "       [9784.23, 2258.53, 131.034, ..., 0.0, 0.0, 0.0]])"
      ]
     },
     "execution_count": 17,
     "metadata": {},
     "output_type": "execute_result"
    }
   ],
   "source": [
    "from scipy.integrate import odeint\n",
    "tmax = 5; no_steps = 100\n",
    "ts = np.linspace(0, tmax, no_steps)                ## times \n",
    "time_ev_ReIm_cohrs = odeint(func = me.complex_differential_system, \n",
    "                y0 = cohr_complex_t0, \n",
    "                t = ts,\n",
    "                args = ((param_list,)))\n",
    "#  tiempo vertical, primera linea es la config init: t  cohr\n",
    "# cohr[t][m] = coherencia a tiempo t número m\n",
    "time_ev_ReIm_cohrs "
   ]
  },
  {
   "cell_type": "code",
   "execution_count": 17,
   "id": "70c4d158",
   "metadata": {
    "scrolled": true
   },
   "outputs": [],
   "source": [
    "### Test\n",
    "assert len(time_ev_ReIm_cohrs) == no_steps\n",
    "assert len(time_ev_ReIm_cohrs[1]) == 2*M"
   ]
  },
  {
   "cell_type": "markdown",
   "id": "62cb6ca9",
   "metadata": {},
   "source": [
    "## Step 3: Obtaining the time-evolved complex-valued coherences\n",
    "\n",
    "\n",
    "Ideally, the observables of interest obtained via our coherences should show this trend \n",
    "\n",
    "<img src=\"PhD%20Physics/2nd%20Year/RMN-Max-Ent/Decoherence_..._scrambling_Dominguez_ib_observables\" width=60 height=60 />"
   ]
  },
  {
   "cell_type": "code",
   "execution_count": 18,
   "id": "6fe44425",
   "metadata": {
    "scrolled": false
   },
   "outputs": [],
   "source": [
    "complex_cohrs_at_time_t = [[time_ev_ReIm_cohrs[list(ts).index(t)][m] + 1j*time_ev_ReIm_cohrs[list(ts).index(t)][m+M] for m in range(M)] for t in ts]\n",
    "complex_cohrs_at_time_t = np.array(complex_cohrs_at_time_t)"
   ]
  },
  {
   "cell_type": "code",
   "execution_count": 19,
   "id": "4354cfdd",
   "metadata": {},
   "outputs": [
    {
     "data": {
      "text/plain": [
       "array([1.+0.j, 1.+0.j, 1.+0.j, ..., 1.+0.j, 1.+0.j, 1.+0.j])"
      ]
     },
     "execution_count": 19,
     "metadata": {},
     "output_type": "execute_result"
    }
   ],
   "source": [
    "complex_cohrs_at_time_t[0]"
   ]
  },
  {
   "cell_type": "code",
   "execution_count": 20,
   "id": "2dc7c2f2",
   "metadata": {},
   "outputs": [],
   "source": [
    "#fidelity_at_time_t = [sum(complex_cohrs_at_time_t[list(ts).index(t)] * A_mmplustwo_matrix_elmt(cohrnc, time, power_law_factor = .5)\n",
    "#   \n",
    "#    list(ts).index(t)]) for t in ts]"
   ]
  },
  {
   "cell_type": "markdown",
   "id": "949c24ab",
   "metadata": {},
   "source": [
    "Entonces, si\n",
    "\n",
    "$$\n",
    "    f(t) = \\langle \\rho(t) \\rho^0(t) \\rangle = \\sum_{M}{c}_M(t) I_{M}^{0}(t)\n",
    "$$\n",
    "\n",
    "then\n",
    "\n",
    "$$\n",
    "    \\dot{f}(t) = \\sum_{M} \\bigg(\\dot{c}_M(t) I_{M}^{0}(t) + {c}_M(t) \\dot{I}_{M}^{0}(t) \\bigg)\n",
    "$$"
   ]
  },
  {
   "cell_type": "code",
   "execution_count": null,
   "id": "a1845a5f",
   "metadata": {},
   "outputs": [],
   "source": [
    "## EXTRAIGO RE(f(t))"
   ]
  },
  {
   "cell_type": "code",
   "execution_count": 21,
   "id": "935fee33",
   "metadata": {
    "scrolled": true
   },
   "outputs": [],
   "source": [
    "#complex_cohrs_at_time_t[99][599]"
   ]
  },
  {
   "cell_type": "code",
   "execution_count": null,
   "id": "aafda35d",
   "metadata": {},
   "outputs": [],
   "source": [
    "sum_{m} m**2 cm(t) * I_m(0)(t)"
   ]
  },
  {
   "cell_type": "code",
   "execution_count": 22,
   "id": "6e759e83",
   "metadata": {},
   "outputs": [],
   "source": [
    "fidelity_at_timet = []\n",
    "timespan = list(ts)\n",
    "#normalization_factor = sum(me.A_mmplustwo_matrix_elmt(cohrnc = m, time = 0, power_law_factor = a) for m in range(M))\n",
    "normalization = sum(np.e**(-m) for m in range(M)) ## esta normalización no va \n",
    "\n",
    "for t in ts:\n",
    "    local_list = complex_cohrs_at_time_t[timespan.index(t)]\n",
    "    local_val = sum(local_list[m] * me.A_mmplustwo_matrix_elmt(cohrnc = m, \n",
    "                                                               time = t, \n",
    "                                                               power_law_factor = a)\n",
    "                   for m in range(M))    \n",
    "    local_val = local_val/normalizationa\n",
    "    fidelity_at_timet.append(local_val)\n",
    "    local_val = 0\n",
    "    \n",
    "assert len(fidelity_at_timet) == len(ts)"
   ]
  },
  {
   "cell_type": "code",
   "execution_count": 23,
   "id": "3bcfb89c",
   "metadata": {
    "scrolled": true
   },
   "outputs": [
    {
     "data": {
      "text/plain": [
       "100"
      ]
     },
     "execution_count": 23,
     "metadata": {},
     "output_type": "execute_result"
    }
   ],
   "source": [
    "len(ts)"
   ]
  },
  {
   "cell_type": "code",
   "execution_count": 24,
   "id": "3af5a566",
   "metadata": {
    "scrolled": true
   },
   "outputs": [
    {
     "data": {
      "text/plain": [
       "<matplotlib.collections.PathCollection at 0x20a0aa16970>"
      ]
     },
     "execution_count": 24,
     "metadata": {},
     "output_type": "execute_result"
    },
    {
     "data": {
      "image/png": "[encoded data removed]",
      "text/plain": [
       "<Figure size 432x288 with 1 Axes>"
      ]
     },
     "metadata": {
      "needs_background": "light"
     },
     "output_type": "display_data"
    }
   ],
   "source": [
    "plt.scatter(ts, np.real(fidelity_at_timet))"
   ]
  },
  {
   "cell_type": "code",
   "execution_count": null,
   "id": "63a79c31",
   "metadata": {},
   "outputs": [],
   "source": []
  },
  {
   "cell_type": "markdown",
   "id": "07d78449",
   "metadata": {},
   "source": [
    "# Tests y fallos :("
   ]
  },
  {
   "cell_type": "markdown",
   "id": "be177967",
   "metadata": {},
   "source": [
    "## Test: $a$ = -1"
   ]
  },
  {
   "cell_type": "code",
   "execution_count": 2,
   "id": "6eecd25e",
   "metadata": {},
   "outputs": [],
   "source": [
    "p = .108;    # strength of the Sigma Interaction Hamiltonian\n",
    "a = -1;      # Power-law factor\n",
    "M = 300;        # Truncation/Total no. of coherences\n",
    "param_list = {\"total_no_cohrs\": M, \"p_factor\": p, \"power_law_factor\": a} # dictionary containing the simulation's initial \n",
    "                                                                         # parameters \n",
    "\n",
    "c0 = [1 for i in range(param_list[\"total_no_cohrs\"])]\n",
    "param_list = [M, p, -1]"
   ]
  },
  {
   "cell_type": "code",
   "execution_count": 3,
   "id": "3a5a1a82",
   "metadata": {},
   "outputs": [
    {
     "name": "stdout",
     "output_type": "stream",
     "text": [
      "Help on function generating_fnc_even_coherences_Mmatrix in module Max_Ent_aux_lib:\n",
      "\n",
      "generating_fnc_even_coherences_Mmatrix(parameters, time, closed_boundary_conditions=False, visualization=False, qutip_qobj_result=False)\n",
      "    This module constructs the even-coherences weight matrix, M, wherein M_{m, m'} is the weight of the m-m' coherence \n",
      "    term, with both m and m' even numbered-coherences. The odd coherences are disregarded for these do not factor into the M-matrix\n",
      "    and are not coupled to the even coherences.\n",
      "    This modules takes the following inputs: \n",
      "    ***. a dictionary of parameters\n",
      "         **. where, in said dictionary,\n",
      "             1. the total number of even coherences to be considered is given,\n",
      "             2. the strength of the Sigma-interaction Hamiltonian, labelled p,\n",
      "             3. and the power law factor for its submodules.\n",
      "    ***. a mesh for the times, \n",
      "    ***. a boolean option, not implemented as of yet. \n",
      "    ***. a boolean option for visualizing a\n",
      "             1. plot of the M-matrix's eigenvalues,\n",
      "             2. and the M-matrix coefficients in a Hinton diagram.\n",
      "    ***. a boolean option for returning the M-matrix as quantum object.     \n",
      "    \n",
      "        ===> Returns a real-valued matrix. \n",
      "    *Note that his module does not return a sparse matrix.\n",
      "\n"
     ]
    }
   ],
   "source": [
    "help(me.generating_fnc_even_coherences_Mmatrix)"
   ]
  },
  {
   "cell_type": "code",
   "execution_count": 4,
   "id": "c7279cc6",
   "metadata": {},
   "outputs": [],
   "source": [
    "Mmatrix = me.generating_fnc_even_coherences_Mmatrix(parameters = param_list, \n",
    "                                                    time = 0) \n",
    "Mmatrix_timet = me.generating_fnc_even_coherences_Mmatrix(parameters = param_list, \n",
    "                                                    time = 10) \n",
    "\n",
    "Mmatrix = np.array(Mmatrix)\n",
    "assert linalg.norm(qutip.Qobj(Mmatrix) - qutip.Qobj(Mmatrix_timet))<1e-5, \"Error: Mmatrix is time-dependent\"\n",
    "assert linalg.norm(qutip.Qobj(Mmatrix) - qutip.Qobj(Mmatrix).dag())>1e-5, \"Error: Mmatrix is not hermitian\"\n",
    "assert np.all([np.imag(qutip.Qobj(Mmatrix).eigenenergies()) < 1e-5]), \"Error: Eigenvalues of Mmatrix not real\"\n",
    "assert np.all(np.imag(qutip.Qobj(Mmatrix).eigenenergies())<1e-10), \"Error: Eigenvalues of Mmatrix are not real\""
   ]
  },
  {
   "cell_type": "code",
   "execution_count": 14,
   "id": "5caba81a",
   "metadata": {},
   "outputs": [
    {
     "data": {
      "text/plain": [
       "array([[0.632, 0.085, 0.0, ..., 0.0, 0.0, 0.0],\n",
       "       [0.232, -0.439, 0.232, ..., 0.0, 0.0, 0.0],\n",
       "       [0.0, 0.085, -0.152, ..., 0.0, 0.0, 0.0],\n",
       "       ...,\n",
       "       [0.0, 0.0, 0.0, ..., 0.0, 0.0, 0.0],\n",
       "       [0.0, 0.0, 0.0, ..., 0.0, 0.0, 0.0],\n",
       "       [0.0, 0.0, 0.0, ..., 0.0, 0.0, 0.0]])"
      ]
     },
     "execution_count": 14,
     "metadata": {},
     "output_type": "execute_result"
    }
   ],
   "source": [
    "Mmatrix"
   ]
  },
  {
   "cell_type": "code",
   "execution_count": 15,
   "id": "848fc1be",
   "metadata": {},
   "outputs": [
    {
     "data": {
      "text/plain": [
       "True"
      ]
     },
     "execution_count": 15,
     "metadata": {},
     "output_type": "execute_result"
    }
   ],
   "source": [
    "np.all([np.imag(qutip.Qobj(Mmatrix).eigenenergies()) < 1e-5])"
   ]
  },
  {
   "cell_type": "code",
   "execution_count": 16,
   "id": "d01d3596",
   "metadata": {},
   "outputs": [],
   "source": [
    "tmax = 10; no_steps = 100\n",
    "ts = np.linspace(0, tmax, no_steps)       "
   ]
  },
  {
   "cell_type": "code",
   "execution_count": 17,
   "id": "1d35bde5",
   "metadata": {
    "scrolled": false
   },
   "outputs": [],
   "source": [
    "coherences_at_timet = [linalg.expm(1j * Mmatrix * t) @ c0 for t in ts]"
   ]
  },
  {
   "cell_type": "code",
   "execution_count": 18,
   "id": "eda2f650",
   "metadata": {},
   "outputs": [],
   "source": [
    "fidelity_at_timet = []\n",
    "timespan = list(ts)\n",
    "\n",
    "for t in ts:\n",
    "    local_list = coherences_at_timet[timespan.index(t)]\n",
    "    local_val = sum(local_list[m] * me.power_law_weight(coherence = m, \n",
    "                                                        time = t, \n",
    "                                                        power_law_factor = a)\n",
    "                   for m in range(M)) \n",
    "    fidelity_at_timet.append(local_val)\n",
    "    local_val = 0"
   ]
  },
  {
   "cell_type": "code",
   "execution_count": 19,
   "id": "671bf17c",
   "metadata": {
    "scrolled": false
   },
   "outputs": [
    {
     "data": {
      "text/plain": [
       "<matplotlib.collections.PathCollection at 0x15ab5a3cee0>"
      ]
     },
     "execution_count": 19,
     "metadata": {},
     "output_type": "execute_result"
    },
    {
     "data": {
      "image/png": "[encoded data removed]",
      "text/plain": [
       "<Figure size 432x288 with 1 Axes>"
      ]
     },
     "metadata": {
      "needs_background": "light"
     },
     "output_type": "display_data"
    }
   ],
   "source": [
    "plt.scatter(ts, (fidelity_at_timet))"
   ]
  },
  {
   "cell_type": "code",
   "execution_count": 72,
   "id": "ec4d586e",
   "metadata": {
    "scrolled": false
   },
   "outputs": [
    {
     "data": {
      "text/plain": [
       "100"
      ]
     },
     "execution_count": 72,
     "metadata": {},
     "output_type": "execute_result"
    }
   ],
   "source": [
    "len(result[:, 0])"
   ]
  },
  {
   "cell_type": "code",
   "execution_count": 13,
   "id": "15848b77",
   "metadata": {},
   "outputs": [],
   "source": [
    "fidelity_t0 = []"
   ]
  },
  {
   "cell_type": "code",
   "execution_count": 23,
   "id": "781be6e4",
   "metadata": {
    "scrolled": true
   },
   "outputs": [
    {
     "ename": "SyntaxError",
     "evalue": "invalid syntax (3991330021.py, line 1)",
     "output_type": "error",
     "traceback": [
      "\u001b[1;36m  Input \u001b[1;32mIn [23]\u001b[1;36m\u001b[0m\n\u001b[1;33m    Preguntas:\u001b[0m\n\u001b[1;37m              ^\u001b[0m\n\u001b[1;31mSyntaxError\u001b[0m\u001b[1;31m:\u001b[0m invalid syntax\n"
     ]
    }
   ],
   "source": [
    "Preguntas:\n",
    "    \n",
    "    1. La matrix M tiene que depender con el tiempo me parece, si A, B y C lo hacen: Check \n",
    "    2. Como tendría que implementar la norma???: Check\n",
    "    3. Empezar a jugar con los parámetros: Checkn't\n",
    "    \n",
    "m+2 vs m+2 : Check\n",
    "** reescribir la matriz en tèrminos de los c_pares. : Check"
   ]
  },
  {
   "cell_type": "code",
   "execution_count": 73,
   "id": "067ec940",
   "metadata": {},
   "outputs": [
    {
     "data": {
      "text/plain": [
       "6"
      ]
     },
     "execution_count": 73,
     "metadata": {},
     "output_type": "execute_result"
    }
   ],
   "source": [
    "len(result[0])"
   ]
  }
 ],
 "metadata": {
  "kernelspec": {
   "display_name": "Python 3 (ipykernel)",
   "language": "python",
   "name": "python3"
  },
  "language_info": {
   "codemirror_mode": {
    "name": "ipython",
    "version": 3
   },
   "file_extension": ".py",
   "mimetype": "text/x-python",
   "name": "python",
   "nbconvert_exporter": "python",
   "pygments_lexer": "ipython3",
   "version": "3.9.12"
  }
 },
 "nbformat": 4,
 "nbformat_minor": 5
}
