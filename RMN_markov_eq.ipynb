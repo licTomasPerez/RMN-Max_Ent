{
 "cells": [
  {
   "cell_type": "code",
   "execution_count": 2,
   "id": "9c998351",
   "metadata": {},
   "outputs": [],
   "source": [
    "import qutip, pickle, sys\n",
    "import matplotlib.pyplot as plt \n",
    "import numpy as np\n",
    "import scipy.optimize as opt \n",
    "import scipy.linalg as linalg\n",
    "import time as time\n",
    "import math, cmath\n",
    "import Max_Ent_aux_lib as me\n",
    "#import proj_ev_library as projev\n",
    "#import max_entev library as meev\n",
    "from IPython.display import display, Math, Latex\n",
    "\n",
    "np.set_printoptions(threshold=1.e-3,linewidth=120,precision=1, formatter={\"float\":lambda x: str(.001*int(1000*x)) })"
   ]
  },
  {
   "cell_type": "markdown",
   "id": "6413887b",
   "metadata": {},
   "source": [
    "Tenemos la siguiente ecuación de movimiento:\n",
    "\n",
    "$$\n",
    "    \\dot{c}_M(t) I_{M}^{0}(t) = -i \\bigg\\{\\bigg(c_{M+2}(t) - c_M(t) \\bigg)\\langle \\rho_{M}^{0\\dagger}(t) [H_{0,-2}, \\rho_{M+2}^0] \\rangle + \\bigg(c_{M-2}(t) - c_M(t)\\bigg) \\langle \\rho_{M}^{0\\dagger}(t) [H_{0,2}, \\rho_{M-2}^0] \\rangle + p \\langle \\rho_{M}^{0\\dagger}(t) [\\Sigma, \\rho_{M}^0 (t)]\\rangle \\bigg\\}\n",
    "$$\n",
    "\n",
    "siendo $I_{M}^{0}(t) = \\langle \\rho_{M}^{0\\dagger}(t) \\rho_{M}^{0}(t)\\rangle = I_{-M}^{0}(t)$\n",
    "la cual puede reescribirse como \n",
    "\n",
    "$$\n",
    "\\dot{c}_M(t) I_{M}^{0}(t) = -i \\bigg\\{A_{\\rho^{M, M+2}} c_{M+2}(t) - \\bigg(A_{\\rho^{M, M+2}} + B_{\\rho^{M, M-2}} \\bigg) c_{M}(t) + B_{\\rho^{M, M-2}} c_{M-2}(t) \\bigg\\} + p C_{\\rho^M} \\\\\n",
    "= - i{\\bf{\\mathcal{M}}}(t) \\textbf{c}(t)\n",
    "$$\n",
    "\n",
    "donde \n",
    "\n",
    "<ol>\n",
    "\n",
    "<li> $A_{\\rho^{M, M+2}} = \\langle \\rho_{M}^{0\\dagger}(t) [H_{0,-2}, \\rho_{M+2}^0] \\rangle$ </li> \n",
    "<li> $B_{\\rho^{M, M-2}} = \\langle \\rho_{M}^{0\\dagger}(t) [H_{0,2}, \\rho_{M-2}^0] \\rangle$ </li>\n",
    "<li> $C_{\\rho^M} = \\langle \\rho_{M}^{0\\dagger}(t) [\\Sigma, \\rho_{M}^0 (t)]\\rangle$ </li>\n",
    "    \n",
    "</ol>    \n",
    "\n",
    "Entonces, si $f(t) = \\langle \\rho(t) \\rho^0(t) \\rangle = \\sum_{M} \\dot{c}_M(t) I_{M}^{0}(t)$\n",
    "\n",
    "$$\n",
    "    \\dot{f}(t) = \\sum_{M} \\bigg(\\dot{c}_M(t) I_{M}^{0}(t) + {c}_M(t) \\dot{I}_{M}^{0}(t) \\bigg)\n",
    "$$"
   ]
  },
  {
   "cell_type": "markdown",
   "id": "9492c01e",
   "metadata": {},
   "source": [
    "where\n",
    "\n",
    "1: $A=\\alpha B = N(t) \\exp(-m t^{1+a}) = I_M^{(0)}$ (a primer orden alpha = 1) \\\n",
    "2: hacer la matriz hermìtica \\\n",
    "3: $C = M N(t) exp(-m t^{1+a})$\n",
    "    \n",
    "$K(t,t') = e^{(-i M(t-t'))}$\n",
    "    \n",
    "con $N(t) = 1/Tr(\\rho(t))$ la calculo con la definición del $\\rho_M (t)=  c_M(t) \\rho^0_M(t)$\n",
    "con c_0(t)= 1. \n",
    "\n",
    "H_ {0, 2}daggger = H_{0, -2}. \n",
    "rho_{M}dagger = rho{-M}"
   ]
  },
  {
   "cell_type": "code",
   "execution_count": 3,
   "id": "daaf7a22",
   "metadata": {},
   "outputs": [],
   "source": [
    "p = .0009; a = .05; M = 500; coherences_t0_pert0 = 1.\n",
    "param_list = {\"total_no_cohrs\": M, \"p_factor\": p, \"power_law_factor\": a}\n",
    "coeff_list_t0 = np.array([coherences_t0_pert0 - np.random.rand() for i in range(param_list[\"total_no_cohrs\"])])\n",
    "coeff_list_t0 = coeff_list_t0/(sum(coeff_list_t0))\n",
    "M_tensor_f= np.array(me.gen_func_even_cohr_M_matrix(param_list, coeff_list_t0, 1, False, False, False))"
   ]
  },
  {
   "cell_type": "code",
   "execution_count": 73,
   "id": "b4fa5a9e",
   "metadata": {
    "scrolled": false
   },
   "outputs": [
    {
     "data": {
      "text/plain": [
       "array([0.776, 0.21, 0.448, ..., 0.37, 0.242, 0.185])"
      ]
     },
     "execution_count": 73,
     "metadata": {},
     "output_type": "execute_result"
    }
   ],
   "source": [
    "from scipy.integrate import odeint\n",
    "\n",
    "def differential_system(cohr_vector_t0, t, parameters):\n",
    "    \"\"\"\n",
    "    This module sets up the system of time-dependent differential\n",
    "    equations, given by \n",
    "    \n",
    "    dC/dt = M(t)*c(t),\n",
    "    \n",
    "    wherein M(t) is the coherence-weight matrix. \n",
    "    In accordance with Scipy.Odeint's documentation, this module takes\n",
    "    as input the following parameters, \n",
    "    \n",
    "    *** 1. cohr_vector_t0: an initial configuration of weights for the coherences at time zero, \n",
    "           such that this configuration has trace one.\n",
    "    *** 2. t: time\n",
    "    *** 3. parameters: a dictionary containing three parameters:\n",
    "                        ☼*☼: the total number of coherences in the system,\n",
    "                        ☼*☼: the chosen p-factor, the weight for the \n",
    "                             perturbation Hamiltonian, Sigma. \n",
    "                        ☼*☼: the power law factor used in the approximation.\n",
    "    \n",
    "    ===> Returns: an array of numbers\n",
    "    \n",
    "    \"\"\"\n",
    "    return gen_func_even_cohr_M_matrix(parameters = parameters,\n",
    "                                       init_configurations = cohr_vector_t0, \n",
    "                                       timet = t,\n",
    "                                       closed_boundary_conditions = False,\n",
    "                                       visualization = False,\n",
    "                                       as_qutip_qobj = False) @ (cohr_vector_t0)\n",
    "\n",
    "differential_system(cohr_vector_t0 = coeff_list_t0, \n",
    "                    t=1, parameters = param_list, \n",
    "                    )"
   ]
  },
  {
   "cell_type": "code",
   "execution_count": null,
   "id": "914bfb8e",
   "metadata": {},
   "outputs": [],
   "source": [
    "from scipy.integrate import odeint\n",
    "\n",
    "ts = np.linspace(0.1, 1., 100)\n",
    "result = odeint(func = differential_system, \n",
    "                y0 = coeff_list_t0, \n",
    "                t = ts,\n",
    "                args = ((param_list,)))\n",
    "\n",
    "plt.plot(result[0])"
   ]
  },
  {
   "cell_type": "code",
   "execution_count": 29,
   "id": "c9f4003e",
   "metadata": {
    "scrolled": false
   },
   "outputs": [
    {
     "data": {
      "text/latex": [
       "Quantum object: dims = [[10], [10]], shape = (10, 10), type = oper, isherm = False\\begin{equation*}\\left(\\begin{array}{*{11}c}0.119 & 0.881 & 0.0 & 0.0 & 0.0 & 0.0 & 0.0 & 0.0 & 0.0 & 0.0\\\\0.145 & -0.218 & 1.073 & 0.0 & 0.0 & 0.0 & 0.0 & 0.0 & 0.0 & 0.0\\\\0.0 & 0.135 & -0.135 & 1.0 & 0.0 & 0.0 & 0.0 & 0.0 & 0.0 & 0.0\\\\0.0 & 0.0 & 0.127 & -0.063 & 0.937 & 0.0 & 0.0 & 0.0 & 0.0 & 0.0\\\\0.0 & 0.0 & 0.0 & 0.119 & 0.0 & 0.881 & 0.0 & 0.0 & 0.0 & 0.0\\\\0.0 & 0.0 & 0.0 & 0.0 & 0.112 & 0.056 & 0.831 & 0.0 & 0.0 & 0.0\\\\0.0 & 0.0 & 0.0 & 0.0 & 0.0 & 0.107 & 0.107 & 0.787 & 0.0 & 0.0\\\\0.0 & 0.0 & 0.0 & 0.0 & 0.0 & 0.0 & 0.101 & 0.152 & 0.747 & 0.0\\\\0.0 & 0.0 & 0.0 & 0.0 & 0.0 & 0.0 & 0.0 & 0.096 & 0.193 & 0.711\\\\0.0 & 0.0 & 0.0 & 0.0 & 0.0 & 0.0 & 0.0 & 0.0 & 0.154 & 0.846\\\\\\end{array}\\right)\\end{equation*}"
      ],
      "text/plain": [
       "Quantum object: dims = [[10], [10]], shape = (10, 10), type = oper, isherm = False\n",
       "Qobj data =\n",
       "[[0.11900000000000001 0.88 0.0 ... 0.0 0.0 0.0]\n",
       " [0.145 -0.217 1.072 ... 0.0 0.0 0.0]\n",
       " [0.0 0.135 -0.135 ... 0.0 0.0 0.0]\n",
       " ...\n",
       " [0.0 0.0 0.0 ... 0.151 0.747 0.0]\n",
       " [0.0 0.0 0.0 ... 0.096 0.192 0.711]\n",
       " [0.0 0.0 0.0 ... 0.0 0.153 0.846]]"
      ]
     },
     "execution_count": 29,
     "metadata": {},
     "output_type": "execute_result"
    }
   ],
   "source": [
    "qutip.Qobj(M_tensor_f)\n",
    "#assert me.M_matrix_test(M_tensor_f), \"ERROR: M-matrix not next-diagonal triangular.\""
   ]
  },
  {
   "cell_type": "code",
   "execution_count": null,
   "id": "781be6e4",
   "metadata": {},
   "outputs": [],
   "source": [
    "Preguntas:\n",
    "    \n",
    "    1. La matrix M tiene que depender con el tiempo me parece, si A, B y C lo hacen\n",
    "    2. Como tendría que implementar la norma???\n",
    "    3. Empezar a jugar con los parámetros. \n",
    "    \n",
    "m+2 vs m+2\n",
    "** reescribir la matriz en tèrminos de los c_pares."
   ]
  },
  {
   "cell_type": "code",
   "execution_count": 45,
   "id": "9dab05eb",
   "metadata": {},
   "outputs": [],
   "source": [
    "def generating_function_even_cohr_M_matrix(parameters, init_configuration, timespan, \n",
    "                                           closed_boundary_conditions = False):\n",
    "    \n",
    "    M = parameters[\"total_no_cohrs\"]; p = parameters[\"p_factor\"]; a = parameters[\"power_law_factor\"]\n",
    "    cm_list = init_configuration\n",
    "    m_matrix_list = []; t = timespan;\n",
    "    \n",
    "    for m in range(M):\n",
    "        if m == 0:\n",
    "            m_matrix_list.append(np.array([diag_mm_matrix_elmt(m,t,a)] \n",
    "                                    + [A_mmplustwo_matrix_elmt(m+2,t,a)] + [0 for k in range(int((M-3)/2))])) \n",
    "        if m == 1:\n",
    "            local_list = [0] + [diag_mm_matrix_elmt(m,t,a)] + [A_mmplustwo_matrix_elmt(m+2, t, a)]\n",
    "            local_length = len(np.array(local_list))\n",
    "            m_matrix_list.append(np.array(local_list + [0 for k in range(int(M/2 + 1)-local_length)]))\n",
    "        if (m > 1) and (m < M - 2):  \n",
    "            local_list = [0 for j in range(m-2)]; local_length = len(local_list)\n",
    "            local_list += ([B_mmminustwo_matrix_elmt(-m-2,t,a)] + [diag_mm_matrix_elmt(m,t,a)] \n",
    "                        + [A_mmplustwo_matrix_elmt(m+2,t,a)])\n",
    "            local_list += [0 for j in range(int(M/2+1)-local_length - 5)]\n",
    "            m_matrix_list.append(np.array(local_list))\n",
    "        if m == M - 2: \n",
    "            m_matrix_list.append(np.array([0 for i in range(int(M/2)-2)] + [B_mmminustwo_matrix_elmt(-m-2,t,a)]  \n",
    "                                 + [diag_mm_matrix_elmt(m,t,a)] + [0]))\n",
    "        if m == M - 1:\n",
    "            m_matrix_list.append(np.array([0 for i in range(int(M/2)-2)] + [B_mmminustwo_matrix_elmt(-m-2,t,a)] + [0] \n",
    "                                 + [diag_mm_matrix_elmt(m,t,a)]))\n",
    "    return (m_matrix_list)\n"
   ]
  },
  {
   "cell_type": "code",
   "execution_count": 72,
   "id": "26196041",
   "metadata": {},
   "outputs": [],
   "source": [
    "v = [np.random.rand() for i in range(5)]\n",
    "def example_matrix(t, p):\n",
    "    return (t+p) * np.identity(5) \n",
    "\n",
    "def example_diff_eq(v, t, p):\n",
    "    return example_matrix(t, p).dot(v)\n",
    "\n",
    "ts = np.linspace(0., 10., 100)\n",
    "result = odeint(func = example_diff_eq, \n",
    "                y0 = v, \n",
    "                t = ts,\n",
    "                args = (p,))"
   ]
  },
  {
   "cell_type": "code",
   "execution_count": 4,
   "id": "8eb5a247",
   "metadata": {
    "scrolled": true
   },
   "outputs": [
    {
     "data": {
      "text/plain": [
       "4"
      ]
     },
     "execution_count": 4,
     "metadata": {},
     "output_type": "execute_result"
    }
   ],
   "source": [
    "A = np.array([-1,2,3])\n",
    "sum(A)"
   ]
  },
  {
   "cell_type": "code",
   "execution_count": null,
   "id": "ba3c0192",
   "metadata": {},
   "outputs": [],
   "source": [
    "# Si la matrix M(t) = M para todo t, uso la propiedad de semigrupo y ya fue\n",
    "\n",
    "def semigroup_phit_and_rhot_sol(coeff_list_t0, Mtensor, ts):\n",
    "    coeff_at_timet_list = []\n",
    "    coeff_at_timet_list.append(np.array(coeff_list_t0))\n",
    "    \n",
    "    for i in range(1, len(ts)-1):\n",
    "        try: \n",
    "            a = (ts[i+1] * Mtensor).expm() * coeff_list_t0[0]\n",
    "            coeff_at_timet_list.append(a)\n",
    "        #if (Exception):\n",
    "        #   continue \n",
    "    return coeff_at_timet_list    \n",
    "\n",
    "# Si la matrix M(t) fuese no constante, odeints\n",
    "\n",
    "from scipy.integrate import ode\n",
    "import random\n",
    "\n",
    "def F(y, t, Mtensor):\n",
    "    return Mtensor.dot(y)\n",
    "\n",
    "real_Mtensor = (np.real(Mtensor))\n",
    "ts1 = np.linspace(0, 500, 200)\n",
    "result = odeint(func=F, y0=coeff_list_t0, t= ts1 , args=(real_Mtensor,))\n",
    "plt.figure(figsize=(7, 4))\n",
    "\n",
    "for i in range(len(total_no_spins)):\n",
    "    plt.plot(ts1, result[:,i], label=r'$c_{(%d)}(t)$'%i)\n",
    "\n",
    "plt.xlabel(\"t\")\n",
    "plt.ylabel(\"Phi(t)\")\n",
    "plt.legend()\n",
    "\n"
   ]
  }
 ],
 "metadata": {
  "kernelspec": {
   "display_name": "Python 3 (ipykernel)",
   "language": "python",
   "name": "python3"
  },
  "language_info": {
   "codemirror_mode": {
    "name": "ipython",
    "version": 3
   },
   "file_extension": ".py",
   "mimetype": "text/x-python",
   "name": "python",
   "nbconvert_exporter": "python",
   "pygments_lexer": "ipython3",
   "version": "3.9.12"
  }
 },
 "nbformat": 4,
 "nbformat_minor": 5
}
