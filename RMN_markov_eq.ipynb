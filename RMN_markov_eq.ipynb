{
 "cells": [
  {
   "cell_type": "code",
   "execution_count": 1,
   "id": "9c998351",
   "metadata": {},
   "outputs": [],
   "source": [
    "import qutip, pickle, sys\n",
    "import matplotlib.pyplot as plt \n",
    "import numpy as np\n",
    "import scipy.optimize as opt \n",
    "import scipy.linalg as linalg\n",
    "import time as time\n",
    "import math, cmath\n",
    "import Max_Ent_aux_lib as me\n",
    "#import proj_ev_library as projev\n",
    "#import max_entev library as meev\n",
    "from IPython.display import display, Math, Latex\n",
    "\n",
    "np.set_printoptions(threshold=1.e-3,linewidth=120,precision=1, formatter={\"float\":lambda x: str(.001*int(1000*x)) })"
   ]
  },
  {
   "cell_type": "markdown",
   "id": "6413887b",
   "metadata": {},
   "source": [
    "Tenemos la siguiente ecuación de movimiento:\n",
    "\n",
    "$$\n",
    "    \\dot{c}_M(t) I_{M}^{0}(t) = -i \\bigg\\{\\bigg(c_{M+2}(t) - c_M(t) \\bigg)\\langle \\rho_{M}^{0\\dagger}(t) [H_{0,-2}, \\rho_{M+2}^0] \\rangle + \\bigg(c_{M-2}(t) - c_M(t)\\bigg) \\langle \\rho_{M}^{0\\dagger}(t) [H_{0,2}, \\rho_{M-2}^0] \\rangle + p \\langle \\rho_{M}^{0\\dagger}(t) [\\Sigma, \\rho_{M}^0 (t)]\\rangle \\bigg\\}\n",
    "$$\n",
    "\n",
    "siendo $I_{M}^{0}(t) = \\langle \\rho_{M}^{0\\dagger}(t) \\rho_{M}^{0}(t)\\rangle = I_{-M}^{0}(t)$\n",
    "la cual puede reescribirse como \n",
    "\n",
    "$$\n",
    "\\dot{c}_M(t) I_{M}^{0}(t) = -i \\bigg\\{A_{\\rho^{M, M+2}} c_{M+2}(t) - \\bigg(A_{\\rho^{M, M+2}} + B_{\\rho^{M, M-2}} \\bigg) c_{M}(t) + B_{\\rho^{M, M-2}} c_{M-2}(t) \\bigg\\} + p C_{\\rho^M} \\\\\n",
    "= - i{\\bf{\\mathcal{M}}}(t) \\textbf{c}(t)\n",
    "$$\n",
    "\n",
    "donde \n",
    "\n",
    "<ol>\n",
    "\n",
    "<li> $A_{\\rho^{M, M+2}} = \\langle \\rho_{M}^{0\\dagger}(t) [H_{0,-2}, \\rho_{M+2}^0] \\rangle$ </li> \n",
    "<li> $B_{\\rho^{M, M-2}} = \\langle \\rho_{M}^{0\\dagger}(t) [H_{0,2}, \\rho_{M-2}^0] \\rangle$ </li>\n",
    "<li> $C_{\\rho^M} = \\langle \\rho_{M}^{0\\dagger}(t) [\\Sigma, \\rho_{M}^0 (t)]\\rangle$ </li>\n",
    "    \n",
    "</ol>    \n",
    "\n",
    "Entonces, si $f(t) = \\langle \\rho(t) \\rho^0(t) \\rangle = \\sum_{M} \\dot{c}_M(t) I_{M}^{0}(t)$\n",
    "\n",
    "$$\n",
    "    \\dot{f}(t) = \\sum_{M} \\bigg(\\dot{c}_M(t) I_{M}^{0}(t) + {c}_M(t) \\dot{I}_{M}^{0}(t) \\bigg)\n",
    "$$"
   ]
  },
  {
   "cell_type": "markdown",
   "id": "9492c01e",
   "metadata": {},
   "source": [
    "where\n",
    "\n",
    "1: $A=\\alpha B = N(t) \\exp(-m t^{1+a}) = I_M^{(0)}$ (a primer orden alpha = 1) \\\n",
    "2: $C = M N(t) exp(-m t^{1+a})$\n",
    "\n",
    "con $N(t) = 1/Tr(\\rho(t))$ la calculo con la definición del $\\rho_M (t)=  c_{M}(t) \\rho^0_M(t)$, with $c_0(t)$= 1. \n",
    "Note that the kernel $K(t,t') = e^{(-i M(t-t'))}$ is not a solution to the previous differential equation for the M-tensor is time-dependent\n",
    "    \n",
    "$H_ {0, 2}^\\dagger = H_{0, -2}$ \n",
    "\n",
    "$\\rho_{M}^\\dagger = rho{-M}$"
   ]
  },
  {
   "cell_type": "markdown",
   "id": "a641b494",
   "metadata": {},
   "source": [
    "## Step 1: Fix parameters and initial conditions for the coherences"
   ]
  },
  {
   "cell_type": "code",
   "execution_count": 59,
   "id": "ea71fc99",
   "metadata": {},
   "outputs": [],
   "source": [
    "p = .0009;    # strength of the Sigma Interaction Hamiltonian\n",
    "a = .05;      # Power-law factor\n",
    "M = 3;      # Truncation/Total no. of coherences\n",
    "coherences_t0_pert0 = 1. # Unused for the time being\n",
    "param_list = {\"total_no_cohrs\": M, \"p_factor\": p, \"power_law_factor\": a} # dictionary containing the simulation's initial \n",
    "                                                                         # parameters \n",
    "\n",
    "coeff_list_t0 = np.array([coherences_t0_pert0 - np.random.rand() for i in range(param_list[\"total_no_cohrs\"])])\n",
    "              # initial configuration for the coherences, random numbers for the time being. Can be changed in the future\n",
    "\n",
    "coeff_list_t0 = coeff_list_t0/(sum(coeff_list_t0)) \n",
    "              # normalization of the initial vector, so that Tr c_0 = 1. "
   ]
  },
  {
   "cell_type": "markdown",
   "id": "ab0ee714",
   "metadata": {},
   "source": [
    "## Step 1. bis: A simple verification for the hermitian-ness and general form of the M-tensor"
   ]
  },
  {
   "cell_type": "code",
   "execution_count": 19,
   "id": "23eba6e1",
   "metadata": {},
   "outputs": [
    {
     "data": {
      "text/latex": [
       "Quantum object: dims = [[5], [5]], shape = (5, 5), type = oper, isherm = False\\begin{equation*}\\left(\\begin{array}{*{11}c}0.119 & 0.881 & 0.0 & 0.0 & 0.0\\\\0.156 & -0.313 & 1.156 & 0.0 & 0.0\\\\0.0 & 0.156 & -0.313 & 1.156 & 0.0\\\\0.0 & 0.0 & 0.156 & -0.312 & 1.156\\\\0.0 & 0.0 & 0.0 & 0.499 & 0.501\\\\\\end{array}\\right)\\end{equation*}"
      ],
      "text/plain": [
       "Quantum object: dims = [[5], [5]], shape = (5, 5), type = oper, isherm = False\n",
       "Qobj data =\n",
       "[[0.11900000000000001 0.88 0.0 0.0 0.0]\n",
       " [0.156 -0.312 1.156 0.0 0.0]\n",
       " [0.0 0.156 -0.312 1.156 0.0]\n",
       " [0.0 0.0 0.156 -0.312 1.156]\n",
       " [0.0 0.0 0.0 0.499 0.5]]"
      ]
     },
     "execution_count": 19,
     "metadata": {},
     "output_type": "execute_result"
    }
   ],
   "source": [
    "M_tensor_f= np.array(me.gen_func_even_cohr_M_matrix(param_list, coeff_list_t0, 1, False, False, False, False))\n",
    "qutip.Qobj(M_tensor_f)\n",
    "     #* TODO: not hermitian, fix later. "
   ]
  },
  {
   "cell_type": "code",
   "execution_count": 20,
   "id": "3d8fd32b",
   "metadata": {
    "scrolled": true
   },
   "outputs": [
    {
     "data": {
      "text/plain": [
       "array([0.187, 0.08, 0.23800000000000002, 0.454, 0.322])"
      ]
     },
     "execution_count": 20,
     "metadata": {},
     "output_type": "execute_result"
    }
   ],
   "source": [
    "M_tensor_f @ coeff_list_t0"
   ]
  },
  {
   "cell_type": "markdown",
   "id": "11811a0d",
   "metadata": {},
   "source": [
    "## Step 2: Setting up a real-valued system of M x M real differential equations"
   ]
  },
  {
   "cell_type": "code",
   "execution_count": 21,
   "id": "b4fa5a9e",
   "metadata": {
    "scrolled": false
   },
   "outputs": [],
   "source": [
    "### Already included in the accompanying library \n",
    "\n",
    "from scipy.integrate import odeint\n",
    "\n",
    "def real_differential_system(cohr_vector_t0, t, parameters):\n",
    "    \"\"\"\n",
    "    This module sets up the system of time-dependent differential\n",
    "    equations, given by \n",
    "    \n",
    "    dC/dt = M(t)*c(t),\n",
    "    \n",
    "    wherein M(t) is the coherence-weight matrix. \n",
    "    In accordance with Scipy.Odeint's documentation, this module s0peeftakes\n",
    "    as input the following parameters, \n",
    "    \n",
    "    *** 1. cohr_vector_t0: an initial configuration of weights for the coherences at time zero, \n",
    "           such that this configuration has trace one.\n",
    "    *** 2. t: time\n",
    "    *** 3. parameters: a dictionary containing three parameters:\n",
    "                        ☼*☼: the total number of coherences in the system,\n",
    "                        ☼*☼: the chosen p-factor, the weight for the \n",
    "                             perturbation Hamiltonian, Sigma. \n",
    "                        ☼*☼: the power law factor used in the approximation.\n",
    "    \n",
    "    ===> Returns: an array of numbers\n",
    "    \n",
    "    \"\"\"\n",
    "    return (me.gen_func_even_cohr_M_matrix(parameters = param_list,\n",
    "                                       init_configurations = cohr_vector_t0, \n",
    "                                       timet = t,\n",
    "                                       closed_boundary_conditions = False,\n",
    "                                       visualization = False,\n",
    "                                       as_qutip_qobj = False,\n",
    "                                          add_mxm_dimensional_zeros = False)) @ (cohr_vector_t0)"
   ]
  },
  {
   "cell_type": "markdown",
   "id": "68775cdd",
   "metadata": {},
   "source": [
    "## Step 2. bis: Simple test to ensure the function works as intended "
   ]
  },
  {
   "cell_type": "code",
   "execution_count": 22,
   "id": "59839855",
   "metadata": {},
   "outputs": [
    {
     "data": {
      "text/plain": [
       "array([0.185, 0.077, 0.24, 0.456, 0.322])"
      ]
     },
     "execution_count": 22,
     "metadata": {},
     "output_type": "execute_result"
    }
   ],
   "source": [
    "A = real_differential_system(cohr_vector_t0 = coeff_list_t0, \n",
    "                    t=2, parameters = param_list\n",
    "                    )\n",
    "A"
   ]
  },
  {
   "cell_type": "markdown",
   "id": "fa68d58f",
   "metadata": {},
   "source": [
    "## Step 3: solving said system of MxM differential equations"
   ]
  },
  {
   "cell_type": "code",
   "execution_count": 23,
   "id": "914bfb8e",
   "metadata": {},
   "outputs": [
    {
     "data": {
      "text/plain": [
       "array([[0.022, 0.209, 0.123, 0.211, 0.433],\n",
       "       [0.023, 0.21, 0.125, 0.215, 0.436],\n",
       "       [0.025, 0.211, 0.127, 0.219, 0.439],\n",
       "       ...,\n",
       "       [0.267, 0.449, 0.549, 0.774, 0.917],\n",
       "       [0.271, 0.454, 0.557, 0.783, 0.925],\n",
       "       [0.275, 0.459, 0.5640000000000001, 0.791, 0.933]])"
      ]
     },
     "execution_count": 23,
     "metadata": {},
     "output_type": "execute_result"
    }
   ],
   "source": [
    "from scipy.integrate import odeint\n",
    "\n",
    "ts = np.linspace(0.1, 1., 100)              ## times \n",
    "result = odeint(func = real_differential_system, \n",
    "                y0 = coeff_list_t0, \n",
    "                t = ts,\n",
    "                args = ((param_list,)))\n",
    "result"
   ]
  },
  {
   "cell_type": "code",
   "execution_count": 24,
   "id": "f10c74b9",
   "metadata": {},
   "outputs": [
    {
     "data": {
      "text/plain": [
       "100"
      ]
     },
     "execution_count": 24,
     "metadata": {},
     "output_type": "execute_result"
    }
   ],
   "source": [
    "len(result[:, 0])"
   ]
  },
  {
   "cell_type": "code",
   "execution_count": 25,
   "id": "6290b916",
   "metadata": {},
   "outputs": [
    {
     "data": {
      "text/plain": [
       "5"
      ]
     },
     "execution_count": 25,
     "metadata": {},
     "output_type": "execute_result"
    }
   ],
   "source": [
    "len(result[0])"
   ]
  },
  {
   "cell_type": "code",
   "execution_count": 26,
   "id": "a540c8c2",
   "metadata": {},
   "outputs": [
    {
     "data": {
      "text/plain": [
       "5"
      ]
     },
     "execution_count": 26,
     "metadata": {},
     "output_type": "execute_result"
    }
   ],
   "source": [
    "n_dim_zero_array = [0 for n in range(M)]\n",
    "len(n_dim_zero_array)"
   ]
  },
  {
   "cell_type": "markdown",
   "id": "afc249cc",
   "metadata": {},
   "source": [
    "## Complex differential equation custom solver"
   ]
  },
  {
   "cell_type": "code",
   "execution_count": 60,
   "id": "d734b143",
   "metadata": {},
   "outputs": [],
   "source": [
    "def Mtensor_2mx2m_dimensional_symplectic(parameters, init_configurations, timet, \n",
    "                                            closed_boundary_conditions = False,\n",
    "                                            visualization = False,\n",
    "                                            as_qutip_qobj = False):\n",
    "    \"\"\"\n",
    "    This module constructs the even-coherences weight matrix,\n",
    "    M, wherein M_{m, m'} is the weight of the m-m' coherence \n",
    "    term, with both m and m' even numbered-coherences. The odd\n",
    "    coherences are disregardes for these do not factor into the \n",
    "    M-matrix. It takes the following as input:\n",
    "    ***. a dictionary of parameters\n",
    "         **. where, in said dictionary,\n",
    "             1. the total number of even coherences to be \n",
    "                considered is explicited,\n",
    "             2. the strength of the Sigma-interaction \n",
    "                Hamiltonian, labelled p,\n",
    "             3. and the power law factor for its submodules.\n",
    "    ***. a mesh for the times, \n",
    "    ***. a boolean option, not implemented as of yet. \n",
    "    ***. a boolean option for visualizing a\n",
    "             1. plot of the M-matrix's eigenvalues,\n",
    "             2. and the M-matrix coefficients in a Hinton\n",
    "                diagram.\n",
    "    ***. a boolean option for returning the M-matrix as \n",
    "         quantum object.     \n",
    "    \n",
    "        ===> Returns a real-valued matrix. \n",
    "    *Note that his module does not return a sparse matrix. \n",
    "    \"\"\"\n",
    "    M = parameters[\"total_no_cohrs\"]; p = parameters[\"p_factor\"]; a = parameters[\"power_law_factor\"]\n",
    "    m_matrix_list = []; t = timet;\n",
    "    \n",
    "    m_dimensional_zero_array = [0 for m in range(M)]\n",
    "    \n",
    "    for m in range(M):\n",
    "        if m == 0:\n",
    "            local_array = np.array(m_dimensional_zero_array + [me.A_mmplustwo_matrix_elmt(cohrnc = m, time = t, \n",
    "                                                                   power_law_factor = a) + \n",
    "                                           p * me.C_m_matrix_elmt(cohrnc = m, time = t, \n",
    "                                                                   power_law_factor = a)] \n",
    "                                          + [me.A_mmplustwo_matrix_elmt(cohrnc = m+2, time = t, \n",
    "                                                                   power_law_factor = a)] \n",
    "                                          + [0 for i in range(M-2)])\n",
    "            local_array = local_array/(sum(local_array))\n",
    "            m_matrix_list.append(local_array)\n",
    "            local_array = None\n",
    "        if (m > 0 and m < M-1):\n",
    "            list_with_zeros = [0 for i in range(m-1)]\n",
    "            local_array = np.array(m_dimensional_zero_array + list_with_zeros\n",
    "                                          + [me.B_mmminustwo_matrix_elmt(cohrnc = m, time = t, power_law_factor = a)]\n",
    "                                          + [me.diag_mm_matrix_elmt(cohrnc = m, time = t, power_law_factor = a, p = p)] \n",
    "                                          + [me.A_mmplustwo_matrix_elmt(cohrnc = m+2, time = t, power_law_factor = a)]  \n",
    "                                          + [0 for i in range(M - (len(list_with_zeros)+3))])\n",
    "            local_array = local_array/(sum(local_array))\n",
    "            m_matrix_list.append(local_array)\n",
    "            local_array = None       \n",
    "        if (m == M-1):\n",
    "            local_array = np.array(m_dimensional_zero_array + [0 for i in range(M - 2)] \n",
    "                                          + [me.B_mmminustwo_matrix_elmt(cohrnc = m, time = t, power_law_factor = a)] \n",
    "                                          + [me.B_mmminustwo_matrix_elmt(cohrnc = m, time = t, power_law_factor = a) + \n",
    "                                               p * me.C_m_matrix_elmt(cohrnc = m, time = t, power_law_factor = a)])\n",
    "            local_array = local_array/(sum(local_array))\n",
    "            m_matrix_list.append(local_array)\n",
    "            local_array = None\n",
    "            \n",
    "    for m in range(M):\n",
    "        if m == 0:\n",
    "            local_array = np.array([me.A_mmplustwo_matrix_elmt(cohrnc = m, time = t, \n",
    "                                                                   power_law_factor = a) + \n",
    "                                           p * me.C_m_matrix_elmt(cohrnc = m, time = t, \n",
    "                                                                   power_law_factor = a)] \n",
    "                                          + [me.A_mmplustwo_matrix_elmt(cohrnc = m+2, time = t, \n",
    "                                                                   power_law_factor = a)] \n",
    "                                          + [0 for i in range(M-2)]\n",
    "                                + m_dimensional_zero_array)\n",
    "            local_array = local_array/(sum(local_array))\n",
    "            m_matrix_list.append(local_array)\n",
    "            local_array = None\n",
    "        if (m > 0 and m < M-1):\n",
    "            list_with_zeros = [0 for i in range(m-1)]\n",
    "            local_array = np.array(list_with_zeros\n",
    "                                          + [me.B_mmminustwo_matrix_elmt(cohrnc = m, time = t, power_law_factor = a)]\n",
    "                                          + [me.diag_mm_matrix_elmt(cohrnc = m, time = t, power_law_factor = a, p = p)] \n",
    "                                          + [me.A_mmplustwo_matrix_elmt(cohrnc = m+2, time = t, power_law_factor = a)]  \n",
    "                                          + [0 for i in range(M - (len(list_with_zeros)+3))]\n",
    "                                + m_dimensional_zero_array)\n",
    "            local_array = local_array/(sum(local_array))\n",
    "            m_matrix_list.append(local_array)\n",
    "            local_array = None       \n",
    "        if (m == M-1):\n",
    "            local_array = np.array([0 for i in range(M - 2)] \n",
    "                                          + [me.B_mmminustwo_matrix_elmt(cohrnc = m, time = t, power_law_factor = a)] \n",
    "                                          + [me.B_mmminustwo_matrix_elmt(cohrnc = m, time = t, power_law_factor = a) + \n",
    "                                               p * me.C_m_matrix_elmt(cohrnc = m, time = t, power_law_factor = a)]\n",
    "                                + m_dimensional_zero_array)\n",
    "            local_array = local_array/(sum(local_array))\n",
    "            m_matrix_list.append(local_array)\n",
    "            local_array = None\n",
    "    \n",
    "    return m_matrix_list"
   ]
  },
  {
   "cell_type": "code",
   "execution_count": 67,
   "id": "89f9074c",
   "metadata": {},
   "outputs": [],
   "source": [
    "\n",
    "ts = np.linspace(0.1, 1., 100)\n",
    "y0 = coeff_list_t0\n",
    "\n",
    "def complex_differential_system(cohr_complex, t, parameters):\n",
    "    Mtensor = Mtensor_2mx2m_dimensional_symplectic(parameters = parameters, init_configurations = cohr_complex, timet = t, \n",
    "                                                closed_boundary_conditions = False,\n",
    "                                                visualization = False,\n",
    "                                                as_qutip_qobj = False)\n",
    "    return Mtensor @ cohr_complex\n",
    "\n",
    "from scipy.integrate import odeint\n",
    "\n",
    "cohr_complex_t0 = [coherences_t0_pert0 - np.random.rand() for i in range(param_list[\"total_no_cohrs\"])]\n",
    "cohr_complex_t0 += [0 for i in range(param_list[\"total_no_cohrs\"])]\n",
    "cohr_complex_t0 = np.array(cohr_complex_t0)\n"
   ]
  },
  {
   "cell_type": "code",
   "execution_count": 70,
   "id": "ec08f283",
   "metadata": {},
   "outputs": [
    {
     "data": {
      "text/plain": [
       "6"
      ]
     },
     "execution_count": 70,
     "metadata": {},
     "output_type": "execute_result"
    }
   ],
   "source": [
    "B = complex_differential_system(cohr_complex = cohr_complex_t0, t=1, parameters = param_list)\n",
    "len(B)"
   ]
  },
  {
   "cell_type": "code",
   "execution_count": 71,
   "id": "1bf86fb7",
   "metadata": {},
   "outputs": [
    {
     "data": {
      "text/plain": [
       "array([[0.8160000000000001, 0.6880000000000001, 0.896, 0.0, 0.0, 0.0],\n",
       "       [0.8160000000000001, 0.6880000000000001, 0.896, 0.006, 0.008, 0.007],\n",
       "       [0.8160000000000001, 0.6880000000000001, 0.896, 0.012, 0.017, 0.014],\n",
       "       ...,\n",
       "       [1.195, 0.993, 1.2550000000000001, 0.709, 0.9410000000000001, 0.793],\n",
       "       [1.203, 0.999, 1.2630000000000001, 0.718, 0.9530000000000001, 0.804],\n",
       "       [1.212, 1.006, 1.2710000000000001, 0.727, 0.965, 0.8140000000000001]])"
      ]
     },
     "execution_count": 71,
     "metadata": {},
     "output_type": "execute_result"
    }
   ],
   "source": [
    "ts = np.linspace(0.1, 1., 100)              ## times \n",
    "result = odeint(func = complex_differential_system, \n",
    "                y0 = cohr_complex_t0, \n",
    "                t = ts,\n",
    "                args = ((param_list,)))\n",
    "result"
   ]
  },
  {
   "cell_type": "code",
   "execution_count": 72,
   "id": "ec4d586e",
   "metadata": {},
   "outputs": [
    {
     "data": {
      "text/plain": [
       "100"
      ]
     },
     "execution_count": 72,
     "metadata": {},
     "output_type": "execute_result"
    }
   ],
   "source": [
    "len(result[:, 0])"
   ]
  },
  {
   "cell_type": "code",
   "execution_count": 73,
   "id": "067ec940",
   "metadata": {},
   "outputs": [
    {
     "data": {
      "text/plain": [
       "6"
      ]
     },
     "execution_count": 73,
     "metadata": {},
     "output_type": "execute_result"
    }
   ],
   "source": [
    "len(result[0])"
   ]
  },
  {
   "cell_type": "markdown",
   "id": "07d78449",
   "metadata": {},
   "source": [
    "# Tests y fallos :("
   ]
  },
  {
   "cell_type": "code",
   "execution_count": 23,
   "id": "781be6e4",
   "metadata": {},
   "outputs": [
    {
     "ename": "SyntaxError",
     "evalue": "invalid syntax (3991330021.py, line 1)",
     "output_type": "error",
     "traceback": [
      "\u001b[1;36m  Input \u001b[1;32mIn [23]\u001b[1;36m\u001b[0m\n\u001b[1;33m    Preguntas:\u001b[0m\n\u001b[1;37m              ^\u001b[0m\n\u001b[1;31mSyntaxError\u001b[0m\u001b[1;31m:\u001b[0m invalid syntax\n"
     ]
    }
   ],
   "source": [
    "Preguntas:\n",
    "    \n",
    "    1. La matrix M tiene que depender con el tiempo me parece, si A, B y C lo hacen: Check \n",
    "    2. Como tendría que implementar la norma???: Check\n",
    "    3. Empezar a jugar con los parámetros: Checkn't\n",
    "    \n",
    "m+2 vs m+2 : Check\n",
    "** reescribir la matriz en tèrminos de los c_pares. : Check"
   ]
  },
  {
   "cell_type": "code",
   "execution_count": 45,
   "id": "9dab05eb",
   "metadata": {},
   "outputs": [],
   "source": [
    "def generating_function_even_cohr_M_matrix(parameters, init_configuration, timespan, \n",
    "                                           closed_boundary_conditions = False):\n",
    "    \n",
    "    M = parameters[\"total_no_cohrs\"]; p = parameters[\"p_factor\"]; a = parameters[\"power_law_factor\"]\n",
    "    cm_list = init_configuration\n",
    "    m_matrix_list = []; t = timespan;\n",
    "    \n",
    "    for m in range(M):\n",
    "        if m == 0:\n",
    "            m_matrix_list.append(np.array([diag_mm_matrix_elmt(m,t,a)] \n",
    "                                    + [A_mmplustwo_matrix_elmt(m+2,t,a)] + [0 for k in range(int((M-3)/2))])) \n",
    "        if m == 1:\n",
    "            local_list = [0] + [diag_mm_matrix_elmt(m,t,a)] + [A_mmplustwo_matrix_elmt(m+2, t, a)]\n",
    "            local_length = len(np.array(local_list))\n",
    "            m_matrix_list.append(np.array(local_list + [0 for k in range(int(M/2 + 1)-local_length)]))\n",
    "        if (m > 1) and (m < M - 2):  \n",
    "            local_list = [0 for j in range(m-2)]; local_length = len(local_list)\n",
    "            local_list += ([B_mmminustwo_matrix_elmt(-m-2,t,a)] + [diag_mm_matrix_elmt(m,t,a)] \n",
    "                        + [A_mmplustwo_matrix_elmt(m+2,t,a)])\n",
    "            local_list += [0 for j in range(int(M/2+1)-local_length - 5)]\n",
    "            m_matrix_list.append(np.array(local_list))\n",
    "        if m == M - 2: \n",
    "            m_matrix_list.append(np.array([0 for i in range(int(M/2)-2)] + [B_mmminustwo_matrix_elmt(-m-2,t,a)]  \n",
    "                                 + [diag_mm_matrix_elmt(m,t,a)] + [0]))\n",
    "        if m == M - 1:\n",
    "            m_matrix_list.append(np.array([0 for i in range(int(M/2)-2)] + [B_mmminustwo_matrix_elmt(-m-2,t,a)] + [0] \n",
    "                                 + [diag_mm_matrix_elmt(m,t,a)]))\n",
    "    return (m_matrix_list)\n"
   ]
  },
  {
   "cell_type": "code",
   "execution_count": 72,
   "id": "44739b38",
   "metadata": {},
   "outputs": [],
   "source": [
    "v = [np.random.rand() for i in range(5)]\n",
    "def example_matrix(t, p):\n",
    "    return (t+p) * np.identity(5) \n",
    "\n",
    "def example_diff_eq(v, t, p):\n",
    "    return example_matrix(t, p).dot(v)\n",
    "\n",
    "ts = np.linspace(0., 10., 100)\n",
    "result = odeint(func = example_diff_eq, \n",
    "                y0 = v, \n",
    "                t = ts,\n",
    "                args = (p,))"
   ]
  },
  {
   "cell_type": "code",
   "execution_count": 4,
   "id": "8eb5a247",
   "metadata": {
    "scrolled": true
   },
   "outputs": [
    {
     "data": {
      "text/plain": [
       "4"
      ]
     },
     "execution_count": 4,
     "metadata": {},
     "output_type": "execute_result"
    }
   ],
   "source": [
    "A = np.array([-1,2,3])\n",
    "sum(A)"
   ]
  },
  {
   "cell_type": "code",
   "execution_count": null,
   "id": "ba3c0192",
   "metadata": {},
   "outputs": [],
   "source": [
    "# Si la matrix M(t) = M para todo t, uso la propiedad de semigrupo y ya fue\n",
    "\n",
    "def semigroup_phit_and_rhot_sol(coeff_list_t0, Mtensor, ts):\n",
    "    coeff_at_timet_list = []\n",
    "    coeff_at_timet_list.append(np.array(coeff_list_t0))\n",
    "    \n",
    "    for i in range(1, len(ts)-1):\n",
    "        try: \n",
    "            a = (ts[i+1] * Mtensor).expm() * coeff_list_t0[0]\n",
    "            coeff_at_timet_list.append(a)\n",
    "        #if (Exception):\n",
    "        #   continue \n",
    "    return coeff_at_timet_list    \n",
    "\n",
    "# Si la matrix M(t) fuese no constante, odeints\n",
    "\n",
    "from scipy.integrate import ode\n",
    "import random\n",
    "\n",
    "def F(y, t, Mtensor):\n",
    "    return Mtensor.dot(y)\n",
    "\n",
    "real_Mtensor = (np.real(Mtensor))\n",
    "ts1 = np.linspace(0, 500, 200)\n",
    "result = odeint(func=F, y0=coeff_list_t0, t= ts1 , args=(real_Mtensor,))\n",
    "plt.figure(figsize=(7, 4))\n",
    "\n",
    "for i in range(len(total_no_spins)):\n",
    "    plt.plot(ts1, result[:,i], label=r'$c_{(%d)}(t)$'%i)\n",
    "\n",
    "plt.xlabel(\"t\")\n",
    "plt.ylabel(\"Phi(t)\")\n",
    "plt.legend()\n",
    "\n"
   ]
  }
 ],
 "metadata": {
  "kernelspec": {
   "display_name": "Python 3 (ipykernel)",
   "language": "python",
   "name": "python3"
  },
  "language_info": {
   "codemirror_mode": {
    "name": "ipython",
    "version": 3
   },
   "file_extension": ".py",
   "mimetype": "text/x-python",
   "name": "python",
   "nbconvert_exporter": "python",
   "pygments_lexer": "ipython3",
   "version": "3.9.12"
  }
 },
 "nbformat": 4,
 "nbformat_minor": 5
}
