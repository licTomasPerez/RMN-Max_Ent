{
 "cells": [
  {
   "cell_type": "code",
   "execution_count": 2,
   "id": "9c998351",
   "metadata": {},
   "outputs": [],
   "source": [
    "import qutip, pickle, sys\n",
    "import matplotlib.pyplot as plt \n",
    "import numpy as np\n",
    "import scipy.optimize as opt \n",
    "import scipy.linalg as linalg\n",
    "import time as time\n",
    "import math, cmath\n",
    "import Max_Ent_aux_lib as melib\n",
    "#import proj_ev_library as projev\n",
    "#import max_entev library as meev\n",
    "from IPython.display import display, Math, Latex\n",
    "\n",
    "np.set_printoptions(threshold=1.e-3,linewidth=120,precision=1, formatter={\"float\":lambda x: str(.001*int(1000*x)) })"
   ]
  },
  {
   "cell_type": "markdown",
   "id": "6413887b",
   "metadata": {},
   "source": [
    "Tenemos la siguiente ecuación de movimiento:\n",
    "\n",
    "$$\n",
    "    \\dot{c}_M(t) I_{M}^{0}(t) = -i \\bigg\\{\\bigg(c_{M+2}(t) - c_M(t) \\bigg)\\langle \\rho_{M}^{0\\dagger}(t) [H_{0,-2}, \\rho_{M+2}^0] \\rangle + \\bigg(c_{M-2}(t) - c_M(t)\\bigg) \\langle \\rho_{M}^{0\\dagger}(t) [H_{0,2}, \\rho_{M-2}^0] \\rangle + p \\langle \\rho_{M}^{0\\dagger}(t) [\\Sigma, \\rho_{M}^0 (t)]\\rangle \\bigg\\}\n",
    "$$\n",
    "\n",
    "siendo $I_{M}^{0}(t) = \\langle \\rho_{M}^{0\\dagger}(t) \\rho_{M}^{0}(t)\\rangle = I_{-M}^{0}(t)$\n",
    "la cual puede reescribirse como \n",
    "\n",
    "$$\n",
    "\\dot{c}_M(t) I_{M}^{0}(t) = -i \\bigg\\{A_{\\rho^{M, M+2}} c_{M+2}(t) - \\bigg(A_{\\rho^{M, M+2}} + B_{\\rho^{M, M-2}} \\bigg) c_{M}(t) + B_{\\rho^{M, M-2}} c_{M-2}(t) \\bigg\\} + p C_{\\rho^M} \\\\\n",
    "= - i{\\bf{\\mathcal{M}}}(t) \\textbf{c}(t)\n",
    "$$\n",
    "\n",
    "donde \n",
    "\n",
    "<ol>\n",
    "\n",
    "<li> $A_{\\rho^{M, M+2}} = \\langle \\rho_{M}^{0\\dagger}(t) [H_{0,-2}, \\rho_{M+2}^0] \\rangle$ </li> \n",
    "<li> $B_{\\rho^{M, M-2}} = \\langle \\rho_{M}^{0\\dagger}(t) [H_{0,2}, \\rho_{M-2}^0] \\rangle$ </li>\n",
    "<li> $C_{\\rho^M} = \\langle \\rho_{M}^{0\\dagger}(t) [\\Sigma, \\rho_{M}^0 (t)]\\rangle$ </li>\n",
    "    \n",
    "</ol>    \n",
    "\n",
    "Entonces, si $f(t) = \\langle \\rho(t) \\rho^0(t) \\rangle = \\sum_{M} \\dot{c}_M(t) I_{M}^{0}(t)$\n",
    "\n",
    "$$\n",
    "    \\dot{f}(t) = \\sum_{M} \\bigg(\\dot{c}_M(t) I_{M}^{0}(t) + {c}_M(t) \\dot{I}_{M}^{0}(t) \\bigg)\n",
    "$$"
   ]
  },
  {
   "cell_type": "code",
   "execution_count": 5,
   "id": "b5a7dbc5",
   "metadata": {},
   "outputs": [
    {
     "ename": "SyntaxError",
     "evalue": "invalid syntax (1270290635.py, line 1)",
     "output_type": "error",
     "traceback": [
      "\u001b[0;36m  Input \u001b[0;32mIn [5]\u001b[0;36m\u001b[0m\n\u001b[0;31m    N * e**(-m) t**a\u001b[0m\n\u001b[0m                ^\u001b[0m\n\u001b[0;31mSyntaxError\u001b[0m\u001b[0;31m:\u001b[0m invalid syntax\n"
     ]
    }
   ],
   "source": [
    "1: A=alpha * B=N(t) * exp(m * t**(-a)) = I_M**(0) (a primer orden alpha = 1) \n",
    "2: hacer la matriz hermìtica\n",
    "3: C = M * N(t) * exp(m * t**(-a))\n",
    "    \n",
    "K(t,t') = e**(-i M(t-t')) \n",
    "    \n",
    "con N(t) = 1/Tr(rho(t)) la calculo con la definición del rho_M = sum_{M} c_M(t) "
   ]
  },
  {
   "cell_type": "code",
   "execution_count": 46,
   "id": "1d16fa79",
   "metadata": {},
   "outputs": [],
   "source": [
    "def norm_at_timet(rho_M, time_t_minus_one):\n",
    "    return sum(1)\n",
    "\n",
    "def A_mmplustwo_matrix_elmt(cohrnc, time, power_law_factor):\n",
    "    return np.e**(cohrnc * time**(-power_law_factor))\n",
    "\n",
    "def B_mmminustwo_matrix_elmt(cohrnc, time, power_law_factor):\n",
    "    return np.e**(cohrnc * time**(-power_law_factor))\n",
    "\n",
    "def C_m_matrix_elmt(cohrnc, time, power_law_factor):\n",
    "    return cohrnc * np.e**(cohrnc * time**(-power_law_factor))\n",
    "\n",
    "def diag_mm_matrix_elmt(cohr, time, power_law_factor):\n",
    "    return (-A_mmplustwo_matrix_elmt(cohr, time, power_law_factor) - B_mmminustwo_matrix_elmt(cohr, time, power_law_factor) \n",
    "            + p * C_m_matrix_elmt(cohr, time, power_law_factor))\n",
    "\n",
    "def generating_function_M_matrix(parameters, cmt0_coeff_list, time, cbc = False):\n",
    "    M = parameters[\"total_no_cohrs\"]; p = parameters[\"p_factor\"];  a = parameters[\"power_law_factor\"]\n",
    "    cm_list = cmt0_coeff_list\n",
    "    m_matrix_list = []; t = time;\n",
    "    \n",
    "    for m in range(M):\n",
    "        if m == 0:\n",
    "            m_matrix_list.append(np.array([diag_mm_matrix_elmt(m,t,a)] + [0]\n",
    "                                    + [A_mmplustwo_matrix_elmt(m+2,t,a)] + [0 for k in range(M-3)])) \n",
    "        if m == 1:\n",
    "            local_list = [0] + [diag_mm_matrix_elmt(m,t,a)] + [0] + [A_mmplustwo_matrix_elmt(m+2, t, a)]\n",
    "            local_length = len(np.array(local_list))\n",
    "            m_matrix_list.append(local_list + [0 for k in range(M-local_length)])\n",
    "        if (m > 1) and (m < M - 2):  \n",
    "            local_list = [0 for j in range(m-2)]; local_length = len(local_list)\n",
    "            local_list += ([B_mmminustwo_matrix_elmt(-m-2,t,a)] + [0] + [diag_mm_matrix_elmt(m,t,a)] + [0] \n",
    "                        + [A_mmplustwo_matrix_elmt(m+2,t,a)])\n",
    "            local_list += [0 for j in range(M-local_length - 5)]\n",
    "            m_matrix_list.append(np.array(local_list))\n",
    "        if m == M - 2: \n",
    "            m_matrix_list.append(np.array([0 for i in range(m-2)] + [B_mmminustwo_matrix_elmt(-m-2,t,a)] + [0] \n",
    "                                 + [diag_mm_matrix_elmt(m,t,a)] + [0]))\n",
    "        if m == M - 1:\n",
    "            m_matrix_list.append(np.array([0 for i in range(m-2)] + [B_mmminustwo_matrix_elmt(-m-2,t,a)] + [0] \n",
    "                                 + [diag_mm_matrix_elmt(m,t,a)]))\n",
    "            \n",
    "    return qutip.Qobj(m_matrix_list)"
   ]
  },
  {
   "cell_type": "code",
   "execution_count": 60,
   "id": "d4503503",
   "metadata": {},
   "outputs": [],
   "source": [
    "p = .5; a = 1e-5; M = 20; coherences_t0_pert0 = 1.\n",
    "param_list = {\"total_no_cohrs\": M, \"p_factor\": p, \"power_law_factor\": a}\n",
    "coeff_list_t0 = [coherences_t0_pert0 + np.random.rand() for i in range(param_list[\"total_no_cohrs\"])]\n",
    "M_tensor = np.array(generating_function_M_matrix(param_list, coeff_list_t0, 1, False))\n"
   ]
  },
  {
   "cell_type": "code",
   "execution_count": 61,
   "id": "b19bd1b9",
   "metadata": {
    "scrolled": true
   },
   "outputs": [
    {
     "data": {
      "text/latex": [
       "Quantum object: dims = [[20], [20]], shape = (20, 20), type = oper, isherm = False\\begin{equation*}\\left(\\begin{array}{*{11}c}-2.0 & 0.0 & 7.389 & 0.0 & 0.0 & \\cdots & 0.0 & 0.0 & 0.0 & 0.0 & 0.0\\\\0.0 & -4.077 & 0.0 & 20.086 & 0.0 & \\cdots & 0.0 & 0.0 & 0.0 & 0.0 & 0.0\\\\0.018 & 0.0 & -7.389 & 0.0 & 54.598 & \\cdots & 0.0 & 0.0 & 0.0 & 0.0 & 0.0\\\\0.0 & 0.007 & 0.0 & -10.043 & 0.0 & \\cdots & 0.0 & 0.0 & 0.0 & 0.0 & 0.0\\\\0.0 & 0.0 & 0.002 & 0.0 & 0.0 & \\cdots & 0.0 & 0.0 & 0.0 & 0.0 & 0.0\\\\\\vdots & \\vdots & \\vdots & \\vdots & \\vdots & \\ddots & \\vdots & \\vdots & \\vdots & \\vdots & \\vdots\\\\0.0 & 0.0 & 0.0 & 0.0 & 0.0 & \\cdots & 1.798\\times10^{+07} & 0.0 & 2.415\\times10^{+07} & 0.0 & 0.0\\\\0.0 & 0.0 & 0.0 & 0.0 & 0.0 & \\cdots & 0.0 & 5.332\\times10^{+07} & 0.0 & 6.566\\times10^{+07} & 0.0\\\\0.0 & 0.0 & 0.0 & 0.0 & 0.0 & \\cdots & 5.603\\times10^{-09} & 0.0 & 1.570\\times10^{+08} & 0.0 & 1.785\\times10^{+08}\\\\0.0 & 0.0 & 0.0 & 0.0 & 0.0 & \\cdots & 0.0 & 2.061\\times10^{-09} & 0.0 & 4.596\\times10^{+08} & 0.0\\\\0.0 & 0.0 & 0.0 & 0.0 & 0.0 & \\cdots & 0.0 & 0.0 & 7.583\\times10^{-10} & 0.0 & 1.339\\times10^{+09}\\\\\\end{array}\\right)\\end{equation*}"
      ],
      "text/plain": [
       "Quantum object: dims = [[20], [20]], shape = (20, 20), type = oper, isherm = False\n",
       "Qobj data =\n",
       "[[-2.0 0.0 7.389 ... 0.0 0.0 0.0]\n",
       " [0.0 -4.077 0.0 ... 0.0 0.0 0.0]\n",
       " [0.018000000000000002 0.0 -7.389 ... 0.0 0.0 0.0]\n",
       " ...\n",
       " [0.0 0.0 0.0 ... 157007192.898 0.0 178482300.963]\n",
       " [0.0 0.0 0.0 ... 0.0 459619783.961 0.0]\n",
       " [0.0 0.0 0.0 ... 0.0 0.0 1338617257.223]]"
      ]
     },
     "execution_count": 61,
     "metadata": {},
     "output_type": "execute_result"
    }
   ],
   "source": [
    "qutip.Qobj(M_tensor)"
   ]
  },
  {
   "cell_type": "code",
   "execution_count": null,
   "id": "ba3c0192",
   "metadata": {},
   "outputs": [],
   "source": [
    "# Si la matrix M(t) = M para todo t, uso la propiedad de semigrupo y ya fue\n",
    "\n",
    "def semigroup_phit_and_rhot_sol(coeff_list_t0, Mtensor, ts):\n",
    "    coeff_at_timet_list = []\n",
    "    coeff_at_timet_list.append(np.array(coeff_list_t0))\n",
    "    \n",
    "    for i in range(1, len(ts)-1):\n",
    "        try: \n",
    "            a = (ts[i+1] * Mtensor).expm() * coeff_list_t0[0]\n",
    "            coeff_at_timet_list.append(a)\n",
    "        #if (Exception):\n",
    "        #   continue \n",
    "    return coeff_at_timet_list    \n",
    "\n",
    "# Si la matrix M(t) fuese no constante, odeint\n",
    "\n",
    "from scipy.integrate import ode\n",
    "import random\n",
    "\n",
    "def F(y, t, Mtensor):\n",
    "    return Mtensor.dot(y)\n",
    "\n",
    "real_Mtensor = (np.real(Mtensor))\n",
    "ts1 = np.linspace(0, 500, 200)\n",
    "result = odeint(func=F, y0=coeff_list_t0, t= ts1 , args=(real_Mtensor,))\n",
    "plt.figure(figsize=(7, 4))\n",
    "\n",
    "for i in range(len(total_no_spins)):\n",
    "    plt.plot(ts1, result[:,i], label=r'$c_{(%d)}(t)$'%i)\n",
    "\n",
    "plt.xlabel(\"t\")\n",
    "plt.ylabel(\"Phi(t)\")\n",
    "plt.legend()\n",
    "\n"
   ]
  }
 ],
 "metadata": {
  "kernelspec": {
   "display_name": "Python 3 (ipykernel)",
   "language": "python",
   "name": "python3"
  },
  "language_info": {
   "codemirror_mode": {
    "name": "ipython",
    "version": 3
   },
   "file_extension": ".py",
   "mimetype": "text/x-python",
   "name": "python",
   "nbconvert_exporter": "python",
   "pygments_lexer": "ipython3",
   "version": "3.9.12"
  }
 },
 "nbformat": 4,
 "nbformat_minor": 5
}
