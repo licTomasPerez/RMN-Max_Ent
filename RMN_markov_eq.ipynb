{
 "cells": [
  {
   "cell_type": "code",
   "execution_count": 1,
   "id": "9c998351",
   "metadata": {},
   "outputs": [],
   "source": [
    "import qutip, pickle, sys\n",
    "import matplotlib.pyplot as plt \n",
    "import numpy as np\n",
    "import scipy.optimize as opt \n",
    "import scipy.linalg as linalg\n",
    "import time as time\n",
    "import math, cmath\n",
    "import Max_Ent_aux_lib as me\n",
    "#import proj_ev_library as projev\n",
    "#import max_entev library as meev\n",
    "from IPython.display import display, Math, Latex\n",
    "\n",
    "np.set_printoptions(threshold=1.e-3,linewidth=120,precision=1, formatter={\"float\":lambda x: str(.001*int(1000*x)) })"
   ]
  },
  {
   "cell_type": "markdown",
   "id": "6413887b",
   "metadata": {},
   "source": [
    "Tenemos la siguiente ecuación de movimiento:\n",
    "\n",
    "$$\n",
    "    \\dot{c}_M(t) I_{M}^{0}(t) = -i \\bigg\\{\\bigg(c_{M+2}(t) - c_M(t) \\bigg)\\langle \\rho_{M}^{0\\dagger}(t) [H_{0,-2}, \\rho_{M+2}^0] \\rangle + \\bigg(c_{M-2}(t) - c_M(t)\\bigg) \\langle \\rho_{M}^{0\\dagger}(t) [H_{0,2}, \\rho_{M-2}^0] \\rangle + p \\langle \\rho_{M}^{0\\dagger}(t) [\\Sigma, \\rho_{M}^0 (t)]\\rangle \\bigg\\}\n",
    "$$\n",
    "\n",
    "siendo $I_{M}^{0}(t) = \\langle \\rho_{M}^{0\\dagger}(t) \\rho_{M}^{0}(t)\\rangle = I_{-M}^{0}(t)$\n",
    "la cual puede reescribirse como \n",
    "\n",
    "$$\n",
    "\\dot{c}_M(t) I_{M}^{0}(t) = -i \\bigg\\{A_{\\rho^{M, M+2}} c_{M+2}(t) - \\bigg(A_{\\rho^{M, M+2}} + B_{\\rho^{M, M-2}} \\bigg) c_{M}(t) + B_{\\rho^{M, M-2}} c_{M-2}(t) \\bigg\\} + p C_{\\rho^M} \\\\\n",
    "= - i({\\bf{\\mathcal{M}}}(t) \\textbf{c}(t))_M\n",
    "$$\n",
    "\n",
    "donde \n",
    "\n",
    "<ol>\n",
    "\n",
    "<li> $A_{\\rho^{M, M+2}} = \\langle \\rho_{M}^{0\\dagger}(t) [H_{0,-2}, \\rho_{M+2}^0] \\rangle$ </li> \n",
    "<li> $B_{\\rho^{M, M-2}} = \\langle \\rho_{M}^{0\\dagger}(t) [H_{0,2}, \\rho_{M-2}^0] \\rangle$ </li>\n",
    "<li> $C_{\\rho^M} = \\langle \\rho_{M}^{0\\dagger}(t) [\\Sigma, \\rho_{M}^0 (t)]\\rangle$ </li>\n",
    "    \n",
    "</ol>    \n",
    "\n",
    "Entonces, si $f(t) = \\langle \\rho(t) \\rho^0(t) \\rangle = \\sum_{M} \\dot{c}_M(t) I_{M}^{0}(t)$\n",
    "\n",
    "$$\n",
    "    \\dot{f}(t) = \\sum_{M} \\bigg(\\dot{c}_M(t) I_{M}^{0}(t) + {c}_M(t) \\dot{I}_{M}^{0}(t) \\bigg)\n",
    "$$"
   ]
  },
  {
   "cell_type": "markdown",
   "id": "9492c01e",
   "metadata": {},
   "source": [
    "where\n",
    "\n",
    "1: $A=\\alpha B = N(t) \\exp(-m t^{1+a}) = I_M^{(0)}$ (a primer orden alpha = 1) \\\n",
    "2: $C = M N(t) exp(-m t^{1+a})$\n",
    "\n",
    "con $N(t) = 1/Tr(\\rho(t))$ la calculo con la definición del $\\rho_M (t)=  c_{M}(t) \\rho^0_M(t)$, with $c_0(t)$= 1. \n",
    "Note that the kernel $K(t,t') = e^{(-i M(t-t'))}$ is not a solution to the previous differential equation for the M-tensor is time-dependent\n",
    "    \n",
    "$H_ {0, 2}^\\dagger = H_{0, -2}$ \n",
    "\n",
    "$\\rho_{M}^\\dagger = \\rho_{-M}$"
   ]
  },
  {
   "cell_type": "markdown",
   "id": "a641b494",
   "metadata": {},
   "source": [
    "## Step 1: Fix parameters and initial conditions for the coherences"
   ]
  },
  {
   "cell_type": "code",
   "execution_count": 7,
   "id": "ea71fc99",
   "metadata": {},
   "outputs": [],
   "source": [
    "p = .108;    # strength of the Sigma Interaction Hamiltonian\n",
    "a = -.05;      # Power-law factor\n",
    "M = 600;        # Truncation/Total no. of coherences\n",
    "coherences_t0_pert0 = 1. # Unused for the time being\n",
    "param_list = {\"total_no_cohrs\": M, \"p_factor\": p, \"power_law_factor\": a} # dictionary containing the simulation's initial \n",
    "                                                                         # parameters \n",
    "\n",
    "cohr_complex_t0 = [coherences_t0_pert0 - np.random.rand() for i in range(param_list[\"total_no_cohrs\"])] \n",
    "    # initial configuration of complex-valued coherences, random numbers for the time being. Can be changed in the future\n",
    "\n",
    "cohr_complex_t0 += [0 for i in range(param_list[\"total_no_cohrs\"])]\n",
    "    # normalization of the initial vector, so that Tr c_0 = 1. \n",
    "cohr_t0_trace = sum(cohr_complex_t0)\n",
    "cohr_complex_t0 = [cohr/cohr_t0_trace for cohr in cohr_complex_t0]\n",
    "cohr_complex_t0 = np.array(cohr_complex_t0)"
   ]
  },
  {
   "cell_type": "markdown",
   "id": "10e67289",
   "metadata": {},
   "source": [
    "Since the coherences are complex-valued numbers, the previous system of $M \\times M$ coupled complex-valued differential equations can be rewritten as a system of $2M \\times 2M$ coupled real-valued differential equations, as follows:\n",
    "\n",
    "if $c_M(t) = a_M(t) + i b_M(t)$, then \n",
    "\n",
    "$$\n",
    "    \\dot{a}_M(t) + i \\dot{b}_M(t) = -i \\sum_{m'}{\\bf{\\mathcal{M}}}_{Mm'}(t) \\bigg(a_{m'}(t) + i b_{m'}(t)\\bigg),\n",
    "$$\n",
    "\n",
    "$$\n",
    "    \\dot{a}_M(t) + i \\dot{b}_M(t) = -i \\sum_{m'}{\\bf{\\mathcal{M}}}_{Mm'}(t) a_{m'}(t) + \\sum_{m'} {\\bf{\\mathcal{M}}}_{Mm'}(t) b_{m'}(t)\n",
    "$$\n",
    "\n",
    "$$\n",
    "    \\dot{{\\bf a}}(t) = {\\cal M}(t) \\cdot {\\bf b}(t), \\quad \\dot{{\\bf b}}(t) = -{\\cal M}(t) \\cdot {\\bf a}(t), \\qquad s.t. \\quad{\\bf c}(t) = {\\bf a}(t) + i {\\bf b}(t)\n",
    "$$\n"
   ]
  },
  {
   "cell_type": "markdown",
   "id": "afc249cc",
   "metadata": {},
   "source": [
    "## Step 2: Setting up and Solving system of complex diff. eqs"
   ]
  },
  {
   "cell_type": "code",
   "execution_count": 8,
   "id": "89f9074c",
   "metadata": {},
   "outputs": [],
   "source": [
    "param_list = {\"total_no_cohrs\": M, \"p_factor\": p, \"power_law_factor\": a} # dictionary containing the simulation's initial \n",
    "                                                                         # parameters \n",
    "\n",
    "cohr_complex_t0 = [coherences_t0_pert0 - np.random.rand() for i in range(param_list[\"total_no_cohrs\"])]\n",
    "cohr_complex_t0 += [0 for i in range(param_list[\"total_no_cohrs\"])]\n",
    "cohr_complex_t0 = np.array(cohr_complex_t0)\n",
    "param_list = [M, p, a]"
   ]
  },
  {
   "cell_type": "code",
   "execution_count": 9,
   "id": "ec08f283",
   "metadata": {},
   "outputs": [
    {
     "data": {
      "text/plain": [
       "1200"
      ]
     },
     "execution_count": 9,
     "metadata": {},
     "output_type": "execute_result"
    }
   ],
   "source": [
    "B = me.complex_differential_system(parameters = param_list, cohr_complex = cohr_complex_t0, t=1)\n",
    "len(B)"
   ]
  },
  {
   "cell_type": "code",
   "execution_count": 10,
   "id": "1bf86fb7",
   "metadata": {},
   "outputs": [
    {
     "data": {
      "text/plain": [
       "array([[0.1, 0.018000000000000002, 0.274, ..., 0.0, 0.0, 0.0],\n",
       "       [0.1, 0.018000000000000002, 0.274, ..., 0.007, 0.007, 0.007],\n",
       "       [0.1, 0.018000000000000002, 0.274, ..., 0.014, 0.014, 0.014],\n",
       "       ...,\n",
       "       [0.202, 0.429, 0.132, ..., 0.769, 0.786, 0.8220000000000001],\n",
       "       [0.20400000000000001, 0.439, 0.128, ..., 0.779, 0.796, 0.8320000000000001],\n",
       "       [0.20600000000000002, 0.449, 0.125, ..., 0.789, 0.806, 0.843]])"
      ]
     },
     "execution_count": 10,
     "metadata": {},
     "output_type": "execute_result"
    }
   ],
   "source": [
    "from scipy.integrate import odeint\n",
    "tmax = 1; no_steps = 100\n",
    "ts = np.linspace(0.1, tmax, no_steps)              ## times \n",
    "time_ev_ReIm_cohrs = odeint(func = me.complex_differential_system, \n",
    "                y0 = cohr_complex_t0, \n",
    "                t = ts,\n",
    "                args = ((param_list,)))\n",
    "#  tiempo vertical, primera linea es la config init: t  cohr\n",
    "# cohr[t][m] = coherencia a tiempo t número m\n",
    "time_ev_ReIm_cohrs "
   ]
  },
  {
   "cell_type": "code",
   "execution_count": 11,
   "id": "70c4d158",
   "metadata": {
    "scrolled": true
   },
   "outputs": [],
   "source": [
    "### Test\n",
    "assert len(time_ev_ReIm_cohrs) == no_steps\n",
    "assert len(time_ev_ReIm_cohrs[1]) == 2*M"
   ]
  },
  {
   "cell_type": "markdown",
   "id": "62cb6ca9",
   "metadata": {},
   "source": [
    "## Step 3: Obtaining the time-evolved complex-valued coherences\n",
    "\n",
    "\n",
    "Ideally, the observables of interest obtained via our coherences should show this trend \n",
    "\n",
    "<img src=\"PhD%20Physics/2nd%20Year/RMN-Max-Ent/Decoherence_..._scrambling_Dominguez_ib_observables\" width=60 height=60 />"
   ]
  },
  {
   "cell_type": "code",
   "execution_count": 12,
   "id": "6fe44425",
   "metadata": {},
   "outputs": [],
   "source": [
    "complex_cohrs_at_time_t = [[time_ev_ReIm_cohrs[list(ts).index(t)][m] + 1j*time_ev_ReIm_cohrs[list(ts).index(t)][m+M] for m in range(M)] for t in ts]\n",
    "complex_cohrs_at_time_t = np.array(complex_cohrs_at_time_t)"
   ]
  },
  {
   "cell_type": "code",
   "execution_count": 8,
   "id": "2dc7c2f2",
   "metadata": {},
   "outputs": [],
   "source": [
    "#fidelity_at_time_t = [sum(complex_cohrs_at_time_t[list(ts).index(t)] * A_mmplustwo_matrix_elmt(cohrnc, time, power_law_factor = .5)\n",
    "#   \n",
    "#    list(ts).index(t)]) for t in ts]"
   ]
  },
  {
   "cell_type": "markdown",
   "id": "7799fa41",
   "metadata": {},
   "source": [
    "Entonces, si\n",
    "\n",
    "$$\n",
    "    f(t) = \\langle \\rho(t) \\rho^0(t) \\rangle = \\sum_{M} \\dot{c}_M(t) I_{M}^{0}(t)\n",
    "$$\n",
    "\n",
    "then\n",
    "\n",
    "$$\n",
    "    \\dot{f}(t) = \\sum_{M} \\bigg(\\dot{c}_M(t) I_{M}^{0}(t) + {c}_M(t) \\dot{I}_{M}^{0}(t) \\bigg)\n",
    "$$"
   ]
  },
  {
   "cell_type": "code",
   "execution_count": 40,
   "id": "69f980ed",
   "metadata": {},
   "outputs": [
    {
     "data": {
      "text/plain": [
       "(1.1783058133170445+0.8436223537837323j)"
      ]
     },
     "execution_count": 40,
     "metadata": {},
     "output_type": "execute_result"
    }
   ],
   "source": [
    "complex_cohrs_at_time_t[99][599]"
   ]
  },
  {
   "cell_type": "code",
   "execution_count": 53,
   "id": "4c051c8e",
   "metadata": {},
   "outputs": [],
   "source": [
    "fidelity_at_timet = []\n",
    "timespan = list(ts)\n",
    "\n",
    "for t in ts:\n",
    "    local_list = complex_cohrs_at_time_t[timespan.index(t)]\n",
    "    for m in range(M):\n",
    "        local_val = 0\n",
    "        local_val += local_list[m] * me.A_mmplustwo_matrix_elmt(cohrnc = m, time = timespan.index(t), power_law_factor = 0)\n",
    "        m +=1 \n",
    "    fidelity_at_timet.append(local_val)\n",
    "    local_val = 0\n",
    "    \n",
    "assert len(fidelity_at_timet) == len(ts)"
   ]
  },
  {
   "cell_type": "code",
   "execution_count": 54,
   "id": "91889ab1",
   "metadata": {
    "scrolled": true
   },
   "outputs": [
    {
     "data": {
      "text/plain": [
       "100"
      ]
     },
     "execution_count": 54,
     "metadata": {},
     "output_type": "execute_result"
    }
   ],
   "source": [
    "len(ts)"
   ]
  },
  {
   "cell_type": "code",
   "execution_count": 56,
   "id": "3af5a566",
   "metadata": {
    "scrolled": true
   },
   "outputs": [
    {
     "data": {
      "text/plain": [
       "<matplotlib.collections.PathCollection at 0x1be90e7d160>"
      ]
     },
     "execution_count": 56,
     "metadata": {},
     "output_type": "execute_result"
    },
    {
     "data": {
      "image/png": "[encoded data removed]",
      "text/plain": [
       "<Figure size 432x288 with 1 Axes>"
      ]
     },
     "metadata": {
      "needs_background": "light"
     },
     "output_type": "display_data"
    }
   ],
   "source": [
    "plt.scatter(ts, np.real(fidelity_at_timet))"
   ]
  },
  {
   "cell_type": "code",
   "execution_count": null,
   "id": "63a79c31",
   "metadata": {},
   "outputs": [],
   "source": []
  },
  {
   "cell_type": "markdown",
   "id": "07d78449",
   "metadata": {},
   "source": [
    "# Tests y fallos :("
   ]
  },
  {
   "cell_type": "code",
   "execution_count": 14,
   "id": "0f0b1404",
   "metadata": {
    "scrolled": true
   },
   "outputs": [
    {
     "ename": "NameError",
     "evalue": "name 'result' is not defined",
     "output_type": "error",
     "traceback": [
      "\u001b[1;31m---------------------------------------------------------------------------\u001b[0m",
      "\u001b[1;31mNameError\u001b[0m                                 Traceback (most recent call last)",
      "Input \u001b[1;32mIn [14]\u001b[0m, in \u001b[0;36m<cell line: 1>\u001b[1;34m()\u001b[0m\n\u001b[1;32m----> 1\u001b[0m fidelity_vs_t \u001b[38;5;241m=\u001b[39m [[\u001b[38;5;28msum\u001b[39m(result[:, m][\u001b[38;5;28mint\u001b[39m(\u001b[38;5;28mlist\u001b[39m(ts)\u001b[38;5;241m.\u001b[39mindex(t)) \n\u001b[0;32m      2\u001b[0m                                    \u001b[38;5;241m*\u001b[39m \u001b[38;5;241m-\u001b[39mm \u001b[38;5;241m*\u001b[39m (a\u001b[38;5;241m+\u001b[39m\u001b[38;5;241m1\u001b[39m) \u001b[38;5;241m*\u001b[39m t\u001b[38;5;241m*\u001b[39m\u001b[38;5;241m*\u001b[39ma \u001b[38;5;241m/\u001b[39m (me\u001b[38;5;241m.\u001b[39mA_mmplustwo_matrix_elmt(m, t, a))] \u001b[38;5;28;01mfor\u001b[39;00m m \u001b[38;5;129;01min\u001b[39;00m \u001b[38;5;28mrange\u001b[39m(M))] \u001b[38;5;28;01mfor\u001b[39;00m t \u001b[38;5;129;01min\u001b[39;00m \u001b[38;5;28mlist\u001b[39m(ts)]\n",
      "Input \u001b[1;32mIn [14]\u001b[0m, in \u001b[0;36m<listcomp>\u001b[1;34m(.0)\u001b[0m\n\u001b[1;32m----> 1\u001b[0m fidelity_vs_t \u001b[38;5;241m=\u001b[39m [[\u001b[38;5;28;43msum\u001b[39;49m\u001b[43m(\u001b[49m\u001b[43mresult\u001b[49m\u001b[43m[\u001b[49m\u001b[43m:\u001b[49m\u001b[43m,\u001b[49m\u001b[43m \u001b[49m\u001b[43mm\u001b[49m\u001b[43m]\u001b[49m\u001b[43m[\u001b[49m\u001b[38;5;28;43mint\u001b[39;49m\u001b[43m(\u001b[49m\u001b[38;5;28;43mlist\u001b[39;49m\u001b[43m(\u001b[49m\u001b[43mts\u001b[49m\u001b[43m)\u001b[49m\u001b[38;5;241;43m.\u001b[39;49m\u001b[43mindex\u001b[49m\u001b[43m(\u001b[49m\u001b[43mt\u001b[49m\u001b[43m)\u001b[49m\u001b[43m)\u001b[49m\u001b[43m \u001b[49m\n\u001b[0;32m      2\u001b[0m \u001b[43m                                   \u001b[49m\u001b[38;5;241;43m*\u001b[39;49m\u001b[43m \u001b[49m\u001b[38;5;241;43m-\u001b[39;49m\u001b[43mm\u001b[49m\u001b[43m \u001b[49m\u001b[38;5;241;43m*\u001b[39;49m\u001b[43m \u001b[49m\u001b[43m(\u001b[49m\u001b[43ma\u001b[49m\u001b[38;5;241;43m+\u001b[39;49m\u001b[38;5;241;43m1\u001b[39;49m\u001b[43m)\u001b[49m\u001b[43m \u001b[49m\u001b[38;5;241;43m*\u001b[39;49m\u001b[43m \u001b[49m\u001b[43mt\u001b[49m\u001b[38;5;241;43m*\u001b[39;49m\u001b[38;5;241;43m*\u001b[39;49m\u001b[43ma\u001b[49m\u001b[43m \u001b[49m\u001b[38;5;241;43m/\u001b[39;49m\u001b[43m \u001b[49m\u001b[43m(\u001b[49m\u001b[43mme\u001b[49m\u001b[38;5;241;43m.\u001b[39;49m\u001b[43mA_mmplustwo_matrix_elmt\u001b[49m\u001b[43m(\u001b[49m\u001b[43mm\u001b[49m\u001b[43m,\u001b[49m\u001b[43m \u001b[49m\u001b[43mt\u001b[49m\u001b[43m,\u001b[49m\u001b[43m \u001b[49m\u001b[43ma\u001b[49m\u001b[43m)\u001b[49m\u001b[43m)\u001b[49m\u001b[43m]\u001b[49m\u001b[43m \u001b[49m\u001b[38;5;28;43;01mfor\u001b[39;49;00m\u001b[43m \u001b[49m\u001b[43mm\u001b[49m\u001b[43m \u001b[49m\u001b[38;5;129;43;01min\u001b[39;49;00m\u001b[43m \u001b[49m\u001b[38;5;28;43mrange\u001b[39;49m\u001b[43m(\u001b[49m\u001b[43mM\u001b[49m\u001b[43m)\u001b[49m\u001b[43m)\u001b[49m] \u001b[38;5;28;01mfor\u001b[39;00m t \u001b[38;5;129;01min\u001b[39;00m \u001b[38;5;28mlist\u001b[39m(ts)]\n",
      "Input \u001b[1;32mIn [14]\u001b[0m, in \u001b[0;36m<genexpr>\u001b[1;34m(.0)\u001b[0m\n\u001b[1;32m----> 1\u001b[0m fidelity_vs_t \u001b[38;5;241m=\u001b[39m [[\u001b[38;5;28msum\u001b[39m(\u001b[43mresult\u001b[49m[:, m][\u001b[38;5;28mint\u001b[39m(\u001b[38;5;28mlist\u001b[39m(ts)\u001b[38;5;241m.\u001b[39mindex(t)) \n\u001b[0;32m      2\u001b[0m                                    \u001b[38;5;241m*\u001b[39m \u001b[38;5;241m-\u001b[39mm \u001b[38;5;241m*\u001b[39m (a\u001b[38;5;241m+\u001b[39m\u001b[38;5;241m1\u001b[39m) \u001b[38;5;241m*\u001b[39m t\u001b[38;5;241m*\u001b[39m\u001b[38;5;241m*\u001b[39ma \u001b[38;5;241m/\u001b[39m (me\u001b[38;5;241m.\u001b[39mA_mmplustwo_matrix_elmt(m, t, a))] \u001b[38;5;28;01mfor\u001b[39;00m m \u001b[38;5;129;01min\u001b[39;00m \u001b[38;5;28mrange\u001b[39m(M))] \u001b[38;5;28;01mfor\u001b[39;00m t \u001b[38;5;129;01min\u001b[39;00m \u001b[38;5;28mlist\u001b[39m(ts)]\n",
      "\u001b[1;31mNameError\u001b[0m: name 'result' is not defined"
     ]
    }
   ],
   "source": [
    "fidelity_vs_t = [[sum(result[:, m][int(list(ts).index(t)) \n",
    "                                   * -m * (a+1) * t**a / (me.A_mmplustwo_matrix_elmt(m, t, a))] for m in range(M))] for t in list(ts)]"
   ]
  },
  {
   "cell_type": "code",
   "execution_count": 72,
   "id": "ec4d586e",
   "metadata": {
    "scrolled": false
   },
   "outputs": [
    {
     "data": {
      "text/plain": [
       "100"
      ]
     },
     "execution_count": 72,
     "metadata": {},
     "output_type": "execute_result"
    }
   ],
   "source": [
    "len(result[:, 0])"
   ]
  },
  {
   "cell_type": "code",
   "execution_count": 13,
   "id": "15848b77",
   "metadata": {},
   "outputs": [],
   "source": [
    "fidelity_t0 = []"
   ]
  },
  {
   "cell_type": "code",
   "execution_count": 23,
   "id": "781be6e4",
   "metadata": {
    "scrolled": true
   },
   "outputs": [
    {
     "ename": "SyntaxError",
     "evalue": "invalid syntax (3991330021.py, line 1)",
     "output_type": "error",
     "traceback": [
      "\u001b[1;36m  Input \u001b[1;32mIn [23]\u001b[1;36m\u001b[0m\n\u001b[1;33m    Preguntas:\u001b[0m\n\u001b[1;37m              ^\u001b[0m\n\u001b[1;31mSyntaxError\u001b[0m\u001b[1;31m:\u001b[0m invalid syntax\n"
     ]
    }
   ],
   "source": [
    "Preguntas:\n",
    "    \n",
    "    1. La matrix M tiene que depender con el tiempo me parece, si A, B y C lo hacen: Check \n",
    "    2. Como tendría que implementar la norma???: Check\n",
    "    3. Empezar a jugar con los parámetros: Checkn't\n",
    "    \n",
    "m+2 vs m+2 : Check\n",
    "** reescribir la matriz en tèrminos de los c_pares. : Check"
   ]
  },
  {
   "cell_type": "code",
   "execution_count": 73,
   "id": "067ec940",
   "metadata": {},
   "outputs": [
    {
     "data": {
      "text/plain": [
       "6"
      ]
     },
     "execution_count": 73,
     "metadata": {},
     "output_type": "execute_result"
    }
   ],
   "source": [
    "len(result[0])"
   ]
  }
 ],
 "metadata": {
  "kernelspec": {
   "display_name": "Python 3 (ipykernel)",
   "language": "python",
   "name": "python3"
  },
  "language_info": {
   "codemirror_mode": {
    "name": "ipython",
    "version": 3
   },
   "file_extension": ".py",
   "mimetype": "text/x-python",
   "name": "python",
   "nbconvert_exporter": "python",
   "pygments_lexer": "ipython3",
   "version": "3.9.12"
  }
 },
 "nbformat": 4,
 "nbformat_minor": 5
}
