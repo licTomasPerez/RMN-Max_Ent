{
 "cells": [
  {
   "cell_type": "code",
   "execution_count": 18,
   "id": "9c998351",
   "metadata": {},
   "outputs": [],
   "source": [
    "import qutip, pickle, sys\n",
    "import matplotlib.pyplot as plt \n",
    "import numpy as np\n",
    "import scipy.optimize as opt \n",
    "import scipy.linalg as linalg\n",
    "import time as time\n",
    "import math, cmath\n",
    "import Max_Ent_aux_lib as me\n",
    "#import proj_ev_library as projev\n",
    "#import max_entev library as meev\n",
    "from IPython.display import display, Math, Latex\n",
    "\n",
    "np.set_printoptions(threshold=1.e-3,linewidth=120,precision=1, formatter={\"float\":lambda x: str(.001*int(1000*x)) })"
   ]
  },
  {
   "cell_type": "markdown",
   "id": "6413887b",
   "metadata": {},
   "source": [
    "Tenemos la siguiente ecuación de movimiento:\n",
    "\n",
    "$$\n",
    "    \\dot{c}_M(t) I_{M}^{0}(t) = -i \\bigg\\{\\bigg(c_{M+2}(t) - c_M(t) \\bigg)\\langle \\rho_{M}^{0\\dagger}(t) [H_{0,-2}, \\rho_{M+2}^0] \\rangle + \\bigg(c_{M-2}(t) - c_M(t)\\bigg) \\langle \\rho_{M}^{0\\dagger}(t) [H_{0,2}, \\rho_{M-2}^0] \\rangle + p \\langle \\rho_{M}^{0\\dagger}(t) [\\Sigma, \\rho_{M}^0 (t)]\\rangle \\bigg\\}\n",
    "$$\n",
    "\n",
    "siendo $I_{M}^{0}(t) = \\langle \\rho_{M}^{0\\dagger}(t) \\rho_{M}^{0}(t)\\rangle = I_{-M}^{0}(t)$\n",
    "la cual puede reescribirse como \n",
    "\n",
    "$$\n",
    "\\dot{c}_M(t) I_{M}^{0}(t) = -i \\bigg\\{A_{\\rho^{M, M+2}} c_{M+2}(t) - \\bigg(A_{\\rho^{M, M+2}} + B_{\\rho^{M, M-2}} \\bigg) c_{M}(t) + B_{\\rho^{M, M-2}} c_{M-2}(t) \\bigg\\} + p C_{\\rho^M} \\\\\n",
    "= - i{\\bf{\\mathcal{M}}}(t) \\textbf{c}(t)\n",
    "$$\n",
    "\n",
    "donde \n",
    "\n",
    "<ol>\n",
    "\n",
    "<li> $A_{\\rho^{M, M+2}} = \\langle \\rho_{M}^{0\\dagger}(t) [H_{0,-2}, \\rho_{M+2}^0] \\rangle$ </li> \n",
    "<li> $B_{\\rho^{M, M-2}} = \\langle \\rho_{M}^{0\\dagger}(t) [H_{0,2}, \\rho_{M-2}^0] \\rangle$ </li>\n",
    "<li> $C_{\\rho^M} = \\langle \\rho_{M}^{0\\dagger}(t) [\\Sigma, \\rho_{M}^0 (t)]\\rangle$ </li>\n",
    "    \n",
    "</ol>    \n",
    "\n",
    "Entonces, si $f(t) = \\langle \\rho(t) \\rho^0(t) \\rangle = \\sum_{M} \\dot{c}_M(t) I_{M}^{0}(t)$\n",
    "\n",
    "$$\n",
    "    \\dot{f}(t) = \\sum_{M} \\bigg(\\dot{c}_M(t) I_{M}^{0}(t) + {c}_M(t) \\dot{I}_{M}^{0}(t) \\bigg)\n",
    "$$"
   ]
  },
  {
   "cell_type": "code",
   "execution_count": 2,
   "id": "0a0e7e84",
   "metadata": {},
   "outputs": [
    {
     "ename": "SyntaxError",
     "evalue": "invalid syntax (1396284336.py, line 1)",
     "output_type": "error",
     "traceback": [
      "\u001b[1;36m  Input \u001b[1;32mIn [2]\u001b[1;36m\u001b[0m\n\u001b[1;33m    c_M = a_m + i b_m\u001b[0m\n\u001b[1;37m                  ^\u001b[0m\n\u001b[1;31mSyntaxError\u001b[0m\u001b[1;31m:\u001b[0m invalid syntax\n"
     ]
    }
   ],
   "source": [
    "c_M = a_m + i b_m"
   ]
  },
  {
   "cell_type": "markdown",
   "id": "9492c01e",
   "metadata": {},
   "source": [
    "where\n",
    "\n",
    "1: $A=\\alpha B = N(t) \\exp(-m t^{1+a}) = I_M^{(0)}$ (a primer orden alpha = 1) \\\n",
    "2: $C = M N(t) exp(-m t^{1+a})$\n",
    "\n",
    "con $N(t) = 1/Tr(\\rho(t))$ la calculo con la definición del $\\rho_M (t)=  c_{M}(t) \\rho^0_M(t)$, with $c_0(t)$= 1. \n",
    "Note that the kernel $K(t,t') = e^{(-i M(t-t'))}$ is not a solution to the previous differential equation for the M-tensor is time-dependent\n",
    "    \n",
    "$H_ {0, 2}^\\dagger = H_{0, -2}$ \n",
    "\n",
    "$\\rho_{M}^\\dagger = rho{-M}$"
   ]
  },
  {
   "cell_type": "markdown",
   "id": "a641b494",
   "metadata": {},
   "source": [
    "## Step 1: Fix parameters and initial conditions for the coherences"
   ]
  },
  {
   "cell_type": "code",
   "execution_count": 99,
   "id": "ea71fc99",
   "metadata": {},
   "outputs": [],
   "source": [
    "p = .0009;    # strength of the Sigma Interaction Hamiltonian\n",
    "a = .05;      # Power-law factor\n",
    "M = 600;      # Truncation/Total no. of coherences\n",
    "coherences_t0_pert0 = 1. # Unused for the time being\n",
    "param_list = {\"total_no_cohrs\": M, \"p_factor\": p, \"power_law_factor\": a} # dictionary containing the simulation's initial \n",
    "                                                                         # parameters \n",
    "\n",
    "coeff_list_t0 = np.array([coherences_t0_pert0 - np.random.rand() for i in range(param_list[\"total_no_cohrs\"])])\n",
    "              # initial configuration for the coherences, random numbers for the time being. Can be changed in the future\n",
    "\n",
    "coeff_list_t0 = coeff_list_t0/(sum(coeff_list_t0)) \n",
    "              # normalization of the initial vector, so that Tr c_0 = 1. "
   ]
  },
  {
   "cell_type": "markdown",
   "id": "ab0ee714",
   "metadata": {},
   "source": [
    "## Step 1. bis: A simple verification for the hermitian-ness and general form of the M-tensor"
   ]
  },
  {
   "cell_type": "code",
   "execution_count": 100,
   "id": "23eba6e1",
   "metadata": {},
   "outputs": [
    {
     "data": {
      "text/latex": [
       "Quantum object: dims = [[600], [600]], shape = (600, 600), type = oper, isherm = False\\begin{equation*}\\left(\\begin{array}{*{11}c}0.119 & 0.881 & 0.0 & 0.0 & 0.0 & \\cdots & 0.0 & 0.0 & 0.0 & 0.0 & 0.0\\\\0.156 & -0.313 & 1.156 & 0.0 & 0.0 & \\cdots & 0.0 & 0.0 & 0.0 & 0.0 & 0.0\\\\0.0 & 0.156 & -0.313 & 1.156 & 0.0 & \\cdots & 0.0 & 0.0 & 0.0 & 0.0 & 0.0\\\\0.0 & 0.0 & 0.156 & -0.312 & 1.156 & \\cdots & 0.0 & 0.0 & 0.0 & 0.0 & 0.0\\\\0.0 & 0.0 & 0.0 & 0.156 & -0.312 & \\cdots & 0.0 & 0.0 & 0.0 & 0.0 & 0.0\\\\\\vdots & \\vdots & \\vdots & \\vdots & \\vdots & \\ddots & \\vdots & \\vdots & \\vdots & \\vdots & \\vdots\\\\0.0 & 0.0 & 0.0 & 0.0 & 0.0 & \\cdots & -0.211 & 1.067 & 0.0 & 0.0 & 0.0\\\\0.0 & 0.0 & 0.0 & 0.0 & 0.0 & \\cdots & 0.144 & -0.211 & 1.067 & 0.0 & 0.0\\\\0.0 & 0.0 & 0.0 & 0.0 & 0.0 & \\cdots & 0.0 & 0.144 & -0.211 & 1.067 & 0.0\\\\0.0 & 0.0 & 0.0 & 0.0 & 0.0 & \\cdots & 0.0 & 0.0 & 0.144 & -0.211 & 1.067\\\\0.0 & 0.0 & 0.0 & 0.0 & 0.0 & \\cdots & 0.0 & 0.0 & 0.0 & 0.394 & 0.606\\\\\\end{array}\\right)\\end{equation*}"
      ],
      "text/plain": [
       "Quantum object: dims = [[600], [600]], shape = (600, 600), type = oper, isherm = False\n",
       "Qobj data =\n",
       "[[0.11900000000000001 0.88 0.0 ... 0.0 0.0 0.0]\n",
       " [0.156 -0.312 1.156 ... 0.0 0.0 0.0]\n",
       " [0.0 0.156 -0.312 ... 0.0 0.0 0.0]\n",
       " ...\n",
       " [0.0 0.0 0.0 ... -0.211 1.066 0.0]\n",
       " [0.0 0.0 0.0 ... 0.14400000000000002 -0.211 1.066]\n",
       " [0.0 0.0 0.0 ... 0.0 0.393 0.606]]"
      ]
     },
     "execution_count": 100,
     "metadata": {},
     "output_type": "execute_result"
    }
   ],
   "source": [
    "M_tensor_f= np.array(me.gen_func_even_cohr_M_matrix(param_list, coeff_list_t0, 1, False, False, False))\n",
    "qutip.Qobj(M_tensor_f)\n",
    "     #* TODO: not hermitian, fix later. "
   ]
  },
  {
   "cell_type": "code",
   "execution_count": 101,
   "id": "604e4a1c",
   "metadata": {},
   "outputs": [
    {
     "data": {
      "text/plain": [
       "array([0.001, 0.002, 0.0, ..., 0.001, 0.003, 0.002])"
      ]
     },
     "execution_count": 101,
     "metadata": {},
     "output_type": "execute_result"
    }
   ],
   "source": [
    "M_tensor_f @ coeff_list_t0"
   ]
  },
  {
   "cell_type": "markdown",
   "id": "11811a0d",
   "metadata": {},
   "source": [
    "## Step 2: Setting up a real-valued system of M x M real differential equations"
   ]
  },
  {
   "cell_type": "code",
   "execution_count": 102,
   "id": "b4fa5a9e",
   "metadata": {
    "scrolled": false
   },
   "outputs": [],
   "source": [
    "### Already included in the accompanying library \n",
    "\n",
    "from scipy.integrate import odeint\n",
    "\n",
    "def real_differential_system(cohr_vector_t0, t, parameters):\n",
    "    \"\"\"\n",
    "    This module sets up the system of time-dependent differential\n",
    "    equations, given by \n",
    "    \n",
    "    dC/dt = M(t)*c(t),\n",
    "    \n",
    "    wherein M(t) is the coherence-weight matrix. \n",
    "    In accordance with Scipy.Odeint's documentation, this module s0peeftakes\n",
    "    as input the following parameters, \n",
    "    \n",
    "    *** 1. cohr_vector_t0: an initial configuration of weights for the coherences at time zero, \n",
    "           such that this configuration has trace one.\n",
    "    *** 2. t: time\n",
    "    *** 3. parameters: a dictionary containing three parameters:\n",
    "                        ☼*☼: the total number of coherences in the system,\n",
    "                        ☼*☼: the chosen p-factor, the weight for the \n",
    "                             perturbation Hamiltonian, Sigma. \n",
    "                        ☼*☼: the power law factor used in the approximation.\n",
    "    \n",
    "    ===> Returns: an array of numbers\n",
    "    \n",
    "    \"\"\"\n",
    "    return (me.gen_func_even_cohr_M_matrix(parameters = param_list,\n",
    "                                       init_configurations = cohr_vector_t0, \n",
    "                                       timet = t,\n",
    "                                       closed_boundary_conditions = False,\n",
    "                                       visualization = False,\n",
    "                                       as_qutip_qobj = False)) @ (cohr_vector_t0)"
   ]
  },
  {
   "cell_type": "markdown",
   "id": "68775cdd",
   "metadata": {},
   "source": [
    "## Step 2. bis: Simple test to ensure the function works as intended "
   ]
  },
  {
   "cell_type": "code",
   "execution_count": 103,
   "id": "59839855",
   "metadata": {},
   "outputs": [
    {
     "data": {
      "text/plain": [
       "array([0.001, 0.002, 0.0, ..., 0.001, 0.003, 0.002])"
      ]
     },
     "execution_count": 103,
     "metadata": {},
     "output_type": "execute_result"
    }
   ],
   "source": [
    "A = real_differential_system(cohr_vector_t0 = coeff_list_t0, \n",
    "                    t=2, parameters = param_list\n",
    "                    )\n",
    "A"
   ]
  },
  {
   "cell_type": "markdown",
   "id": "fa68d58f",
   "metadata": {},
   "source": [
    "## Step 3: solving said system of MxM differential equations"
   ]
  },
  {
   "cell_type": "code",
   "execution_count": 104,
   "id": "914bfb8e",
   "metadata": {},
   "outputs": [
    {
     "data": {
      "text/plain": [
       "array([[0.002, 0.0, 0.002, ..., 0.0, 0.001, 0.003],\n",
       "       [0.002, 0.0, 0.002, ..., 0.0, 0.001, 0.003],\n",
       "       [0.002, 0.0, 0.002, ..., 0.0, 0.001, 0.003],\n",
       "       ...,\n",
       "       [0.004, 0.003, 0.004, ..., 0.003, 0.005, 0.006],\n",
       "       [0.004, 0.003, 0.004, ..., 0.003, 0.005, 0.006],\n",
       "       [0.005, 0.003, 0.004, ..., 0.003, 0.005, 0.006]])"
      ]
     },
     "execution_count": 104,
     "metadata": {},
     "output_type": "execute_result"
    }
   ],
   "source": [
    "from scipy.integrate import odeint\n",
    "\n",
    "ts = np.linspace(0.1, 1., 100)              ## times \n",
    "result = odeint(func = real_differential_system, \n",
    "                y0 = coeff_list_t0, \n",
    "                t = ts,\n",
    "                args = ((param_list,)))\n",
    "result"
   ]
  },
  {
   "cell_type": "code",
   "execution_count": 58,
   "id": "f10c74b9",
   "metadata": {},
   "outputs": [
    {
     "data": {
      "text/plain": [
       "array([0.001])"
      ]
     },
     "execution_count": 58,
     "metadata": {},
     "output_type": "execute_result"
    }
   ],
   "source": [
    "result[:, 0]"
   ]
  },
  {
   "cell_type": "code",
   "execution_count": 11,
   "id": "89f9074c",
   "metadata": {},
   "outputs": [],
   "source": [
    "\n",
    "ts = np.linspace(0.1, 1., 100)\n",
    "y0 = coeff_list_t0\n",
    "\n",
    "def complex_differential_system(cohr_vector_t0, t, parameters):\n",
    "    \"\"\"\n",
    "    This module sets up the system of time-dependent differential\n",
    "    equations, given by \n",
    "    \n",
    "    dC/dt = -1j * M(t)*c(t),\n",
    "    \n",
    "    wherein M(t) is the coherence-weight matrix. \n",
    "    In accordance with Scipy.Odeint's documentation, this module takes\n",
    "    as input the following parameters, \n",
    "    \n",
    "    *** 1. cohr_vector_t0: an initial configuration of weights for the coherences at time zero, \n",
    "           such that this configuration has trace one.\n",
    "    *** 2. t: time\n",
    "    *** 3. parameters: a dictionary containing three parameters:\n",
    "                        ☼*☼: the total number of coherences in the system,\n",
    "                        ☼*☼: the chosen p-factor, the weight for the \n",
    "                             perturbation Hamiltonian, Sigma. \n",
    "                        ☼*☼: the power law factor used in the approximation.\n",
    "    \n",
    "    ===> Returns: an array of numbers\n",
    "    \n",
    "    \"\"\"\n",
    "    return -1j * me.gen_func_even_cohr_M_matrix(parameters = parameters,\n",
    "                                       init_configurations = cohr_vector_t0, \n",
    "                                       timet = t,\n",
    "                                       closed_boundary_conditions = False,\n",
    "                                       visualization = False,\n",
    "                                       as_qutip_qobj = False) @ (cohr_vector_t0)\n",
    "\n",
    "def jacobian_sysdiffeq(cohr_vector_t0, t, parameters):\n",
    "    return "
   ]
  },
  {
   "cell_type": "code",
   "execution_count": 6,
   "id": "d6d5919d",
   "metadata": {},
   "outputs": [
    {
     "name": "stdout",
     "output_type": "stream",
     "text": [
      "1.0 [-0.7+0.2j  0.4+0.j ]\n",
      "2.0 [0.2-0.5j 0.2+0.j ]\n",
      "3.0 [0.5+0.5j 0.2+0.j ]\n",
      "4.0 [-0.6+0.3j  0.1+0.j ]\n",
      "5.0 [0. -0.6j 0.1+0.j ]\n",
      "6.0 [0.6+0.3j 0.1+0.j ]\n",
      "7.0 [-0.5+0.4j  0.1+0.j ]\n",
      "8.0 [-0.2-0.6j  0.1+0.j ]\n",
      "9.0 [0.6+0.2j 0.1+0.j ]\n",
      "10.0 [-0.4+0.6j  0. +0.j ]\n"
     ]
    }
   ],
   "source": [
    "from scipy.integrate import ode\n",
    "\n",
    "y0, t0 = [1.0j, 2.0], 0\n",
    "\n",
    "def f(t, y, arg1):\n",
    "    return [1j*arg1*y[0] + y[1], -arg1*y[1]**2]\n",
    "def jac(t, y, arg1):\n",
    "    return [[1j*arg1, 1], [0, -arg1*2*y[1]]]\n",
    "\n",
    "\n",
    "r = ode(f, jac).set_integrator('zvode', method='bdf', with_jacobian=True)\n",
    "r.set_initial_value(y0, t0).set_f_params(2.0).set_jac_params(2.0)\n",
    "\n",
    "t1 = 10\n",
    "dt = 1\n",
    "\n",
    "while r.successful() and r.t < t1:\n",
    "    r.integrate(r.t+dt)\n",
    "    print(r.t, r.y)"
   ]
  },
  {
   "cell_type": "code",
   "execution_count": null,
   "id": "1bf86fb7",
   "metadata": {},
   "outputs": [],
   "source": []
  },
  {
   "cell_type": "code",
   "execution_count": null,
   "id": "ec4d586e",
   "metadata": {},
   "outputs": [],
   "source": []
  },
  {
   "cell_type": "code",
   "execution_count": null,
   "id": "067ec940",
   "metadata": {},
   "outputs": [],
   "source": []
  },
  {
   "cell_type": "markdown",
   "id": "07d78449",
   "metadata": {},
   "source": [
    "# Tests y fallos :("
   ]
  },
  {
   "cell_type": "code",
   "execution_count": 23,
   "id": "781be6e4",
   "metadata": {},
   "outputs": [
    {
     "ename": "SyntaxError",
     "evalue": "invalid syntax (3991330021.py, line 1)",
     "output_type": "error",
     "traceback": [
      "\u001b[1;36m  Input \u001b[1;32mIn [23]\u001b[1;36m\u001b[0m\n\u001b[1;33m    Preguntas:\u001b[0m\n\u001b[1;37m              ^\u001b[0m\n\u001b[1;31mSyntaxError\u001b[0m\u001b[1;31m:\u001b[0m invalid syntax\n"
     ]
    }
   ],
   "source": [
    "Preguntas:\n",
    "    \n",
    "    1. La matrix M tiene que depender con el tiempo me parece, si A, B y C lo hacen: Check \n",
    "    2. Como tendría que implementar la norma???: Check\n",
    "    3. Empezar a jugar con los parámetros: Checkn't\n",
    "    \n",
    "m+2 vs m+2 : Check\n",
    "** reescribir la matriz en tèrminos de los c_pares. : Check"
   ]
  },
  {
   "cell_type": "code",
   "execution_count": 45,
   "id": "9dab05eb",
   "metadata": {},
   "outputs": [],
   "source": [
    "def generating_function_even_cohr_M_matrix(parameters, init_configuration, timespan, \n",
    "                                           closed_boundary_conditions = False):\n",
    "    \n",
    "    M = parameters[\"total_no_cohrs\"]; p = parameters[\"p_factor\"]; a = parameters[\"power_law_factor\"]\n",
    "    cm_list = init_configuration\n",
    "    m_matrix_list = []; t = timespan;\n",
    "    \n",
    "    for m in range(M):\n",
    "        if m == 0:\n",
    "            m_matrix_list.append(np.array([diag_mm_matrix_elmt(m,t,a)] \n",
    "                                    + [A_mmplustwo_matrix_elmt(m+2,t,a)] + [0 for k in range(int((M-3)/2))])) \n",
    "        if m == 1:\n",
    "            local_list = [0] + [diag_mm_matrix_elmt(m,t,a)] + [A_mmplustwo_matrix_elmt(m+2, t, a)]\n",
    "            local_length = len(np.array(local_list))\n",
    "            m_matrix_list.append(np.array(local_list + [0 for k in range(int(M/2 + 1)-local_length)]))\n",
    "        if (m > 1) and (m < M - 2):  \n",
    "            local_list = [0 for j in range(m-2)]; local_length = len(local_list)\n",
    "            local_list += ([B_mmminustwo_matrix_elmt(-m-2,t,a)] + [diag_mm_matrix_elmt(m,t,a)] \n",
    "                        + [A_mmplustwo_matrix_elmt(m+2,t,a)])\n",
    "            local_list += [0 for j in range(int(M/2+1)-local_length - 5)]\n",
    "            m_matrix_list.append(np.array(local_list))\n",
    "        if m == M - 2: \n",
    "            m_matrix_list.append(np.array([0 for i in range(int(M/2)-2)] + [B_mmminustwo_matrix_elmt(-m-2,t,a)]  \n",
    "                                 + [diag_mm_matrix_elmt(m,t,a)] + [0]))\n",
    "        if m == M - 1:\n",
    "            m_matrix_list.append(np.array([0 for i in range(int(M/2)-2)] + [B_mmminustwo_matrix_elmt(-m-2,t,a)] + [0] \n",
    "                                 + [diag_mm_matrix_elmt(m,t,a)]))\n",
    "    return (m_matrix_list)\n"
   ]
  },
  {
   "cell_type": "code",
   "execution_count": 72,
   "id": "44739b38",
   "metadata": {},
   "outputs": [],
   "source": [
    "v = [np.random.rand() for i in range(5)]\n",
    "def example_matrix(t, p):\n",
    "    return (t+p) * np.identity(5) \n",
    "\n",
    "def example_diff_eq(v, t, p):\n",
    "    return example_matrix(t, p).dot(v)\n",
    "\n",
    "ts = np.linspace(0., 10., 100)\n",
    "result = odeint(func = example_diff_eq, \n",
    "                y0 = v, \n",
    "                t = ts,\n",
    "                args = (p,))"
   ]
  },
  {
   "cell_type": "code",
   "execution_count": 4,
   "id": "8eb5a247",
   "metadata": {
    "scrolled": true
   },
   "outputs": [
    {
     "data": {
      "text/plain": [
       "4"
      ]
     },
     "execution_count": 4,
     "metadata": {},
     "output_type": "execute_result"
    }
   ],
   "source": [
    "A = np.array([-1,2,3])\n",
    "sum(A)"
   ]
  },
  {
   "cell_type": "code",
   "execution_count": null,
   "id": "ba3c0192",
   "metadata": {},
   "outputs": [],
   "source": [
    "# Si la matrix M(t) = M para todo t, uso la propiedad de semigrupo y ya fue\n",
    "\n",
    "def semigroup_phit_and_rhot_sol(coeff_list_t0, Mtensor, ts):\n",
    "    coeff_at_timet_list = []\n",
    "    coeff_at_timet_list.append(np.array(coeff_list_t0))\n",
    "    \n",
    "    for i in range(1, len(ts)-1):\n",
    "        try: \n",
    "            a = (ts[i+1] * Mtensor).expm() * coeff_list_t0[0]\n",
    "            coeff_at_timet_list.append(a)\n",
    "        #if (Exception):\n",
    "        #   continue \n",
    "    return coeff_at_timet_list    \n",
    "\n",
    "# Si la matrix M(t) fuese no constante, odeints\n",
    "\n",
    "from scipy.integrate import ode\n",
    "import random\n",
    "\n",
    "def F(y, t, Mtensor):\n",
    "    return Mtensor.dot(y)\n",
    "\n",
    "real_Mtensor = (np.real(Mtensor))\n",
    "ts1 = np.linspace(0, 500, 200)\n",
    "result = odeint(func=F, y0=coeff_list_t0, t= ts1 , args=(real_Mtensor,))\n",
    "plt.figure(figsize=(7, 4))\n",
    "\n",
    "for i in range(len(total_no_spins)):\n",
    "    plt.plot(ts1, result[:,i], label=r'$c_{(%d)}(t)$'%i)\n",
    "\n",
    "plt.xlabel(\"t\")\n",
    "plt.ylabel(\"Phi(t)\")\n",
    "plt.legend()\n",
    "\n"
   ]
  }
 ],
 "metadata": {
  "kernelspec": {
   "display_name": "Python 3 (ipykernel)",
   "language": "python",
   "name": "python3"
  },
  "language_info": {
   "codemirror_mode": {
    "name": "ipython",
    "version": 3
   },
   "file_extension": ".py",
   "mimetype": "text/x-python",
   "name": "python",
   "nbconvert_exporter": "python",
   "pygments_lexer": "ipython3",
   "version": "3.9.12"
  }
 },
 "nbformat": 4,
 "nbformat_minor": 5
}
