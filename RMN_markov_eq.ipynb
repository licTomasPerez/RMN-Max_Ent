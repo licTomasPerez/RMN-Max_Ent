{
 "cells": [
  {
   "cell_type": "code",
   "execution_count": 2,
   "id": "9c998351",
   "metadata": {},
   "outputs": [],
   "source": [
    "import qutip, pickle, sys\n",
    "import matplotlib.pyplot as plt \n",
    "import numpy as np\n",
    "import scipy.optimize as opt \n",
    "import scipy.linalg as linalg\n",
    "import time as time\n",
    "import math, cmath\n",
    "import Max_Ent_aux_lib as melib\n",
    "#import proj_ev_library as projev\n",
    "#import max_entev library as meev\n",
    "from IPython.display import display, Math, Latex\n",
    "\n",
    "np.set_printoptions(threshold=1.e-3,linewidth=120,precision=1, formatter={\"float\":lambda x: str(.001*int(1000*x)) })"
   ]
  },
  {
   "cell_type": "markdown",
   "id": "6413887b",
   "metadata": {},
   "source": [
    "Tenemos la siguiente ecuaciÃ³n de movimiento:\n",
    "{\n",
    "$$\n",
    "    \\dot{c}_M(t) I_{M}^{0}(t) = -i \\bigg\\{\\bigg(c_{M+2}(t) - c_M(t) \\bigg)\\langle \\rho_{M}^{0\\dagger}(t) [H_{0,-2}, \\rho_{M+2}^0] \\rangle + \\bigg(c_{M-2}(t) - c_M(t)\\bigg) \\langle \\rho_{M}^{0\\dagger}(t) [H_{0,2}, \\rho_{M-2}^0] \\rangle + p \\langle \\rho_{M}^{0\\dagger}(t) [\\Sigma, \\rho_{M}^0 (t)]\\rangle \\bigg\\}\n",
    "$$\n",
    "\n",
    "siendo $I_{M}^{0}(t) = \\langle \\rho_{M}^{0\\dagger}(t) \\rho_{M}^{0}(t)\\rangle = I_{-M}^{0}(t)$\n",
    "la cual puede reescribirse como \n",
    "\n",
    "$$\n",
    "\\dot{c}_M(t) I_{M}^{0}(t) = -i \\bigg\\{A_{\\rho^{M, M+2}} c_{M+2}(t) - \\bigg(A_{\\rho^{M, M+2}} + B_{\\rho^{M, M-2}} \\bigg) c_{M}(t) + B_{\\rho^{M, M-2}} c_{M-2}(t) \\bigg\\} + p C_{\\rho^M} \\\\\n",
    "= - i{\\bf{\\mathcal{M}}}(t) \\textbf{c}(t)\n",
    "$$\n",
    "\n",
    "donde \n",
    "\n",
    "<ol>\n",
    "\n",
    "<li> $A_{\\rho^{M, M+2}} = \\langle \\rho_{M}^{0\\dagger}(t) [H_{0,-2}, \\rho_{M+2}^0] \\rangle$ </li> \n",
    "<li> $B_{\\rho^{M, M-2}} = \\langle \\rho_{M}^{0\\dagger}(t) [H_{0,2}, \\rho_{M-2}^0] \\rangle$ </li>\n",
    "<li> $C_{\\rho^M} = \\langle \\rho_{M}^{0\\dagger}(t) [\\Sigma, \\rho_{M}^0 (t)]\\rangle$ </li>\n",
    "    \n",
    "</ol>    \n",
    "\n",
    "Entonces, si $f(t) = \\langle \\rho(t) \\rho^0(t) \\rangle = \\sum_{M} \\dot{c}_M(t) I_{M}^{0}(t)$\n",
    "\n",
    "$$\n",
    "    \\dot{f}(t) = \\sum_{M} \\bigg(\\dot{c}_M(t) I_{M}^{0}(t) + {c}_M(t) \\dot{I}_{M}^{0}(t) \\bigg)\n",
    "$$"
   ]
  },
  {
   "cell_type": "code",
   "execution_count": 5,
   "id": "b5a7dbc5",
   "metadata": {},
   "outputs": [
    {
     "ename": "SyntaxError",
     "evalue": "invalid syntax (1270290635.py, line 1)",
     "output_type": "error",
     "traceback": [
      "\u001b[0;36m  Input \u001b[0;32mIn [5]\u001b[0;36m\u001b[0m\n\u001b[0;31m    N * e**(-m) t**a\u001b[0m\n\u001b[0m                ^\u001b[0m\n\u001b[0;31mSyntaxError\u001b[0m\u001b[0;31m:\u001b[0m invalid syntax\n"
     ]
    }
   ],
   "source": [
    "1: A=alpha * B=N(t) * exp(m * t**(-a)) = I_M**(0) (a primer orden alpha = 1) \n",
    "2: hacer la matriz hermìtica\n",
    "3: C = M * N(t) * exp(m * t**(-a))\n",
    "    \n",
    "K(t,t') = e**(-i M(t-t')) \n",
    "    \n",
    "con N(t) = 1/Tr(rho(t)) la calculo con la definición del rho_M = sum_{M} c_M(t) "
   ]
  },
  {
   "cell_type": "code",
   "execution_count": 3,
   "id": "55003ed4",
   "metadata": {
    "scrolled": true
   },
   "outputs": [],
   "source": [
    "total_no_spins = 10000 ### este es el nÃºmero de spines en el lattice\n",
    "coherences_t0_pert0 = 1. ### el coeficiente I_m^0(t) inicial, son las coherencias a tiempo 0 sin perturbaciÃ³n. Modificar dsps.\n",
    "coeff_list_t0 = [coherences_t0_pert0 + np.random.rand() for i in range(total_no_spins)] ### una configuraciÃ³n inicial \n",
    "p = .5 ### el tÃ©rmino que pondera el avg del hamiltoniano del estado inicial con la perturbacion\n",
    "#cmts_at_t0 = [1] + [np.random.rand() for i in range(49)]\n",
    "\n",
    "M_tensor = np.array(melib.generating_function_M_matrix(total_no_spins, coeff_list_t0, [1.], False))\n",
    "\n",
    "melib.M_matrix_test(total_no_spins, M_tensor)"
   ]
  },
  {
   "cell_type": "code",
   "execution_count": 4,
   "id": "cdcfb289",
   "metadata": {},
   "outputs": [
    {
     "data": {
      "text/latex": [
       "Quantum object: dims = [[10000], [10000]], shape = (10000, 10000), type = oper, isherm = False\\begin{equation*}\\left(\\begin{array}{*{11}c}-1.0 & 0.0 & 7.389 & 0.0 & 0.0 & \\cdots & 0.0 & 0.0 & 0.0 & 0.0 & 0.0\\\\0.0 & 0.264 & 0.0 & 2.718 & 0.0 & \\cdots & 0.0 & 0.0 & 0.0 & 0.0 & 0.0\\\\0.018 & 0.0 & 0.729 & 0.0 & 1.0 & \\cdots & 0.0 & 0.0 & 0.0 & 0.0 & 0.0\\\\0.0 & 0.007 & 0.0 & 0.900 & 0.0 & \\cdots & 0.0 & 0.0 & 0.0 & 0.0 & 0.0\\\\0.0 & 0.0 & 0.002 & 0.0 & 0.963 & \\cdots & 0.0 & 0.0 & 0.0 & 0.0 & 0.0\\\\\\vdots & \\vdots & \\vdots & \\vdots & \\vdots & \\ddots & \\vdots & \\vdots & \\vdots & \\vdots & \\vdots\\\\0.0 & 0.0 & 0.0 & 0.0 & 0.0 & \\cdots & 1.0 & 0.0 & 0.0 & 0.0 & 0.0\\\\0.0 & 0.0 & 0.0 & 0.0 & 0.0 & \\cdots & 0.0 & 1.0 & 0.0 & 0.0 & 0.0\\\\0.0 & 0.0 & 0.0 & 0.0 & 0.0 & \\cdots & 0.0 & 0.0 & 1.0 & 0.0 & 0.0\\\\0.0 & 0.0 & 0.0 & 0.0 & 0.0 & \\cdots & 0.0 & 0.0 & 0.0 & 1.0 & 0.0\\\\0.0 & 0.0 & 0.0 & 0.0 & 0.0 & \\cdots & 0.0 & 0.0 & 0.0 & 0.0 & 1.0\\\\\\end{array}\\right)\\end{equation*}"
      ],
      "text/plain": [
       "Quantum object: dims = [[10000], [10000]], shape = (10000, 10000), type = oper, isherm = False\n",
       "Qobj data =\n",
       "[[-1.0 0.0 7.389 ... 0.0 0.0 0.0]\n",
       " [0.0 0.264 0.0 ... 0.0 0.0 0.0]\n",
       " [0.018000000000000002 0.0 0.729 ... 0.0 0.0 0.0]\n",
       " ...\n",
       " [0.0 0.0 0.0 ... 1.0 0.0 0.0]\n",
       " [0.0 0.0 0.0 ... 0.0 1.0 0.0]\n",
       " [0.0 0.0 0.0 ... 0.0 0.0 1.0]]"
      ]
     },
     "execution_count": 4,
     "metadata": {},
     "output_type": "execute_result"
    }
   ],
   "source": [
    "\n",
    "qutip.Qobj(M_tensor)"
   ]
  },
  {
   "cell_type": "code",
   "execution_count": 16,
   "id": "e77c55d9",
   "metadata": {},
   "outputs": [
    {
     "data": {
      "text/plain": [
       "(<Figure size 576x432 with 2 Axes>, <AxesSubplot:>)"
      ]
     },
     "execution_count": 16,
     "metadata": {},
     "output_type": "execute_result"
    },
    {
     "data": {
      "image/png": "[encoded data removed]",
      "text/plain": [
       "<Figure size 576x432 with 2 Axes>"
      ]
     },
     "metadata": {
      "needs_background": "light"
     },
     "output_type": "display_data"
    }
   ],
   "source": [
    "qutip.hinton(qutip.Qobj(M_tensor))"
   ]
  },
  {
   "cell_type": "code",
   "execution_count": 17,
   "id": "6eadce42",
   "metadata": {},
   "outputs": [],
   "source": [
    "def A_rho_m_mplus2(m):\n",
    "    return np.e**(-m)\n",
    "\n",
    "def B_rho_m_mminus2(m):\n",
    "    return np.e**(-m)"
   ]
  },
  {
   "cell_type": "code",
   "execution_count": 18,
   "id": "c931fb0b",
   "metadata": {},
   "outputs": [
    {
     "ename": "IndentationError",
     "evalue": "unexpected indent (862044941.py, line 12)",
     "output_type": "error",
     "traceback": [
      "\u001b[1;36m  Input \u001b[1;32mIn [18]\u001b[1;36m\u001b[0m\n\u001b[1;33m    + [np.e**(-m+2)] + [0 for k in range(M-3)]\u001b[0m\n\u001b[1;37m    ^\u001b[0m\n\u001b[1;31mIndentationError\u001b[0m\u001b[1;31m:\u001b[0m unexpected indent\n"
     ]
    }
   ],
   "source": [
    "def generating_function_M_matrix(total_no_spins, cmt0_coeff_list, param_list, cbc = False):\n",
    "    \n",
    "    cm_list = cmt0_coeff_list\n",
    "    m_matrix_list = []\n",
    "    M = total_no_spins\n",
    "    \n",
    "    p = param_list[0]\n",
    "    \n",
    "    for m in range(M):\n",
    "        if m == 0:\n",
    "            a = [-np.e**(-m) - np.e**(-m) + p ** np.e**(-0)] + [0]\n",
    "                                    + [np.e**(-m+2)] + [0 for k in range(M-3)]\n",
    "            if cbc:\n",
    "                a = [-np.e**(-m) - np.e**(-m) + p ** np.e**(-0)] + [0]\n",
    "                                    + [np.e**(-m+2)] + [0 for k in range(M-1)] + [B_rho_m_mminus2(m)] + [0]\n",
    "            m_matrix_list.append(())    \n",
    "        if m == 1:\n",
    "            local_list = [0] + [-np.e**(-m) - np.e**(-m) + p ** np.e**(-0)] + [0] + [np.e**(-m+2)]\n",
    "            local_length = len(local_list)\n",
    "            m_matrix_list.append(local_list + [0 for k in range(M-local_length)])\n",
    "        if (m > 1) and (m < M - 2):  \n",
    "            local_list = [0 for j in range(m-2)]; local_length = len(local_list)\n",
    "            local_list += [np.e**(-m-2)] + [0] + [-np.e**(-m) - np.e**(-m) + p ** np.e**(-0)] + [0] + [np.e**(-m+2)]\n",
    "            local_list += [0 for j in range(M-local_length - 5)]\n",
    "            m_matrix_list.append(local_list)\n",
    "        if m == total_no_spins - 2: \n",
    "            m_matrix_list.append([0 for i in range(m-2)] + [np.e**(-m-2)] + [0] + [-np.e**(-m) - np.e**(-m) + p ** np.e**(-0)] \n",
    "                                     + [0])\n",
    "        if m == total_no_spins - 1:\n",
    "            m_matrix_list.append([0 for i in range(m-2)] + [np.e**(-m-2)] + [0] + [-np.e**(-m) - np.e**(-m) + p ** np.e**(-0)])\n",
    "            \n",
    "    else:\n",
    "        pass \n",
    "    \n",
    "    return (m_matrix_list)"
   ]
  },
  {
   "cell_type": "code",
   "execution_count": null,
   "id": "ba3c0192",
   "metadata": {},
   "outputs": [],
   "source": [
    "# Si la matrix M(t) = M para todo t, uso la propiedad de semigrupo y ya fue\n",
    "\n",
    "def semigroup_phit_and_rhot_sol(coeff_list_t0, Mtensor, ts):\n",
    "    coeff_at_timet_list = []\n",
    "    coeff_at_timet_list.append(np.array(coeff_list_t0))\n",
    "    \n",
    "    for i in range(1, len(ts)-1):\n",
    "        try: \n",
    "            a = (ts[i+1] * Mtensor).expm() * coeff_list_t0[0]\n",
    "            coeff_at_timet_list.append(a)\n",
    "        #if (Exception):\n",
    "        #   continue \n",
    "    return coeff_at_timet_list    \n",
    "\n",
    "# Si la matrix M(t) fuese no constante, odeint\n",
    "\n",
    "from scipy.integrate import ode\n",
    "import random\n",
    "\n",
    "def F(y, t, Mtensor):\n",
    "    return Mtensor.dot(y)\n",
    "\n",
    "real_Mtensor = (np.real(Mtensor))\n",
    "ts1 = np.linspace(0, 500, 200)\n",
    "result = odeint(func=F, y0=coeff_list_t0, t= ts1 , args=(real_Mtensor,))\n",
    "plt.figure(figsize=(7, 4))\n",
    "\n",
    "for i in range(len(total_no_spins)):\n",
    "    plt.plot(ts1, result[:,i], label=r'$c_{(%d)}(t)$'%i)\n",
    "\n",
    "plt.xlabel(\"t\")\n",
    "plt.ylabel(\"Phi(t)\")\n",
    "plt.legend()\n",
    "\n"
   ]
  },
  {
   "cell_type": "code",
   "execution_count": null,
   "id": "0f63e1fd",
   "metadata": {},
   "outputs": [],
   "source": []
  },
  {
   "cell_type": "markdown",
   "id": "615bd3d1",
   "metadata": {},
   "source": [
    "# Legacy"
   ]
  },
  {
   "cell_type": "code",
   "execution_count": 12,
   "id": "cfe8d9c5",
   "metadata": {},
   "outputs": [],
   "source": [
    "#import simpy no hace falta\n",
    "\n",
    "total_no_spins = 49 ### este es el nÃºmero de spines en el lattice\n",
    "coherences_t0_pert0 = 1. ### el coeficiente I_m^0(t) inicial, son las coherencias a tiempo 0 sin perturbaciÃ³n. Modificar dsps.\n",
    "coeff_list_t0 = [coherences_t0_pert0 + np.random.rand() for i in range(total_no_spins)] ### una configuraciÃ³n inicial \n",
    "p = .5 ### el tÃ©rmino que pondera el avg del hamiltoniano del estado inicial con la perturbacion\n",
    "#cmts_at_t0 = [1] + [np.random.rand() for i in range(49)]\n",
    "\n",
    "### Este mÃ³dulo construye la matrix que relaciona los coeficientes c_m(t). Es re contra fea pero it gets the job done\n",
    "\n",
    "def construct_M_matrix(coeff_list):\n",
    "    m_matrix_list = []\n",
    "    ith_cmt_list = []\n",
    "    M = total_no_spins\n",
    "    \n",
    "    ### La ec de markov la podemos escribir como d/dt(C(t)) = -i/I_M^0(t) * M (C(t))\n",
    "    \n",
    "    ### la macana es que, con condiciones de borde libres, tengo que cargar a mano los dos primeros y dos Ãºltimos cm(t)s\n",
    "    ### del lattice. Capaz con un condiciones periÃ³dicas, pensÃ¡ndo la lattice como un Toro T_1, queda mÃ¡s lindo.\n",
    "    \n",
    "    m_matrix_list.append(coeff_list[0+2]-coeff_list[0] * np.e**(-0) - (coeff_list[0]) * np.e**(-0) + p * np.e**(-0))\n",
    "    m_matrix_list.append((coeff_list[1+2]-coeff_list[1]) * np.e**(-1) - (coeff_list[1]) * np.e**(-1)\n",
    "                       + p * np.e**(-1))\n",
    "    \n",
    "    for i in range(2, len(coeff_list) - 2):\n",
    "        a = (coeff_list[i+2]-coeff_list[i]) * np.e**(-i) + (coeff_list[i-2]-coeff_list[i]) * np.e**(-i) + p * np.e**(-i)\n",
    "        m_matrix_list.append(a) \n",
    "        \n",
    "    \n",
    "    m_matrix_list.append((coeff_list[M-2+2-1]-coeff_list[M-2-1]) * np.e**(-(M-2-1)) \n",
    "                            - (coeff_list[M-2-2-1]-coeff_list[M-2-1]) * np.e**(-(M-2-1))\n",
    "                       + p * np.e**(-(M-2-1)))\n",
    "    \n",
    "    m_matrix_list.append(-(coeff_list[M-1]) * np.e**(-(M-1)) \n",
    "                            - (coeff_list[M-1-2]-coeff_list[M-1]) * np.e**(-(M-1))\n",
    "                       + p * np.e**(-(M-1)))\n",
    "    \n",
    "    m_matrix = np.array(m_matrix_list)\n",
    "    \n",
    "    return m_matrix#, m_matrix_list\n",
    "\n",
    "Mij_matrix = construct_M_matrix(coeff_list_t0)"
   ]
  },
  {
   "cell_type": "code",
   "execution_count": 20,
   "id": "2fea9441",
   "metadata": {
    "scrolled": true
   },
   "outputs": [
    {
     "data": {
      "text/plain": [
       "array([-7.16674346e-01, -5.90169624e-01,  1.21698489e-01,  4.81026125e-02,\n",
       "        6.31353203e-03, -2.51689532e-03,  1.85198030e-04,  1.21991991e-03,\n",
       "        5.06343237e-04,  6.14551116e-05, -7.23453325e-06,  5.63735127e-06,\n",
       "       -1.16495815e-06,  7.22258777e-07,  8.17044402e-07,  1.90310080e-07,\n",
       "        9.73740334e-08, -5.38454793e-09,  1.17394656e-08,  5.36103287e-09,\n",
       "       -4.30804432e-10,  8.75511904e-10,  2.82353277e-11, -3.94635884e-11,\n",
       "        4.84266306e-11,  2.40592032e-11,  7.42731834e-13, -2.31364049e-12,\n",
       "        8.47879926e-13,  5.33238451e-13,  3.29473415e-15, -2.81244765e-14,\n",
       "        4.42386492e-15,  6.60946827e-15,  1.16701582e-15, -1.08655614e-16,\n",
       "       -8.27975324e-17,  7.69233729e-17,  5.81487599e-17,  6.35176095e-18,\n",
       "       -3.87907203e-19,  7.40536971e-19, -1.03335779e-19,  5.66137864e-20,\n",
       "        1.13789691e-19,  3.79809348e-20, -4.15140553e-22,  5.85889694e-21,\n",
       "       -1.15054418e-21])"
      ]
     },
     "execution_count": 20,
     "metadata": {},
     "output_type": "execute_result"
    }
   ],
   "source": [
    "Mij_matrix"
   ]
  },
  {
   "cell_type": "code",
   "execution_count": null,
   "id": "6e31333b",
   "metadata": {},
   "outputs": [],
   "source": []
  },
  {
   "cell_type": "code",
   "execution_count": null,
   "id": "9a330fd4",
   "metadata": {},
   "outputs": [],
   "source": []
  },
  {
   "cell_type": "code",
   "execution_count": null,
   "id": "6fbebc2f",
   "metadata": {},
   "outputs": [],
   "source": []
  },
  {
   "cell_type": "code",
   "execution_count": null,
   "id": "684b22b5",
   "metadata": {},
   "outputs": [],
   "source": []
  }
 ],
 "metadata": {
  "kernelspec": {
   "display_name": "Python 3 (ipykernel)",
   "language": "python",
   "name": "python3"
  },
  "language_info": {
   "codemirror_mode": {
    "name": "ipython",
    "version": 3
   },
   "file_extension": ".py",
   "mimetype": "text/x-python",
   "name": "python",
   "nbconvert_exporter": "python",
   "pygments_lexer": "ipython3",
   "version": "3.10.4"
  }
 },
 "nbformat": 4,
 "nbformat_minor": 5
}
