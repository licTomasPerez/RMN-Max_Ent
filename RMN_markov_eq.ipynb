{
 "cells": [
  {
   "cell_type": "code",
   "execution_count": 1,
   "id": "9c998351",
   "metadata": {},
   "outputs": [],
   "source": [
    "import qutip, pickle, sys\n",
    "import matplotlib.pyplot as plt \n",
    "import numpy as np\n",
    "import scipy.optimize as opt \n",
    "import scipy.linalg as linalg\n",
    "import time as time\n",
    "import math, cmath\n",
    "import Max_Ent_aux_lib as me\n",
    "#import proj_ev_library as projev\n",
    "#import max_entev library as meev\n",
    "from IPython.display import display, Math, Latex\n",
    "\n",
    "np.set_printoptions(threshold=1.e-3,linewidth=120,precision=1, formatter={\"float\":lambda x: str(.001*int(1000*x)) })"
   ]
  },
  {
   "cell_type": "markdown",
   "id": "6413887b",
   "metadata": {},
   "source": [
    "Tenemos la siguiente ecuación de movimiento:\n",
    "\n",
    "$$\n",
    "    \\dot{c}_M(t) I_{M}^{0}(t) = -i \\bigg\\{\\bigg(c_{M+2}(t) - c_M(t) \\bigg)\\langle \\rho_{M}^{0\\dagger}(t) [H_{0,-2}, \\rho_{M+2}^0] \\rangle + \\bigg(c_{M-2}(t) - c_M(t)\\bigg) \\langle \\rho_{M}^{0\\dagger}(t) [H_{0,2}, \\rho_{M-2}^0] \\rangle + p \\langle \\rho_{M}^{0\\dagger}(t) [\\Sigma, \\rho_{M}^0 (t)]\\rangle \\bigg\\}\n",
    "$$\n",
    "\n",
    "siendo $I_{M}^{0}(t) = \\langle \\rho_{M}^{0\\dagger}(t) \\rho_{M}^{0}(t)\\rangle = I_{-M}^{0}(t)$\n",
    "la cual puede reescribirse como \n",
    "\n",
    "$$\n",
    "\\dot{c}_M(t) I_{M}^{0}(t) = -i \\bigg\\{A_{\\rho^{M, M+2}} c_{M+2}(t) - \\bigg(A_{\\rho^{M, M+2}} + B_{\\rho^{M, M-2}} \\bigg) c_{M}(t) + B_{\\rho^{M, M-2}} c_{M-2}(t) \\bigg\\} + p C_{\\rho^M} \\\\\n",
    "= - i({\\bf{\\mathcal{M}}}(t) \\textbf{c}(t))_M\n",
    "$$\n",
    "\n",
    "donde \n",
    "\n",
    "<ol>\n",
    "\n",
    "<li> $A_{\\rho^{M, M+2}} = \\langle \\rho_{M}^{0\\dagger}(t) [H_{0,-2}, \\rho_{M+2}^0] \\rangle$ </li> \n",
    "<li> $B_{\\rho^{M, M-2}} = \\langle \\rho_{M}^{0\\dagger}(t) [H_{0,2}, \\rho_{M-2}^0] \\rangle$ </li>\n",
    "<li> $C_{\\rho^M} = \\langle \\rho_{M}^{0\\dagger}(t) [\\Sigma, \\rho_{M}^0 (t)]\\rangle$ </li>\n",
    "    \n",
    "</ol>    \n",
    "\n",
    "Entonces, si $f(t) = \\langle \\rho(t) \\rho^0(t) \\rangle = \\sum_{M} \\dot{c}_M(t) I_{M}^{0}(t)$\n",
    "\n",
    "$$\n",
    "    \\dot{f}(t) = \\sum_{M} \\bigg(\\dot{c}_M(t) I_{M}^{0}(t) + {c}_M(t) \\dot{I}_{M}^{0}(t) \\bigg)\n",
    "$$"
   ]
  },
  {
   "cell_type": "markdown",
   "id": "9492c01e",
   "metadata": {},
   "source": [
    "where\n",
    "\n",
    "1: $A=\\alpha B = N(t) \\exp(-m t^{1+a}) = I_M^{(0)}$ (a primer orden alpha = 1) \\\n",
    "2: $C = M N(t) exp(-m t^{1+a})$\n",
    "\n",
    "con $N(t) = 1/Tr(\\rho(t))$ la calculo con la definición del $\\rho_M (t)=  c_{M}(t) \\rho^0_M(t)$, with $c_0(t)$= 1. \n",
    "Note that the kernel $K(t,t') = e^{(-i M(t-t'))}$ is not a solution to the previous differential equation for the M-tensor is time-dependent\n",
    "    \n",
    "$H_ {0, 2}^\\dagger = H_{0, -2}$ \n",
    "\n",
    "$\\rho_{M}^\\dagger = \\rho_{-M}$"
   ]
  },
  {
   "cell_type": "markdown",
   "id": "a641b494",
   "metadata": {},
   "source": [
    "## Step 1: Fix parameters and initial conditions for the coherences"
   ]
  },
  {
   "cell_type": "code",
   "execution_count": 4,
   "id": "ea71fc99",
   "metadata": {},
   "outputs": [],
   "source": [
    "p = .0009;    # strength of the Sigma Interaction Hamiltonian\n",
    "a = -.05;      # Power-law factor\n",
    "M = 625;        # Truncation/Total no. of coherences\n",
    "coherences_t0_pert0 = 1. # Unused for the time being\n",
    "param_list = {\"total_no_cohrs\": M, \"p_factor\": p, \"power_law_factor\": a} # dictionary containing the simulation's initial \n",
    "                                                                         # parameters \n",
    "\n",
    "coeff_list_t0 = np.array([coherences_t0_pert0 - np.random.rand() for i in range(param_list[\"total_no_cohrs\"])])\n",
    "              # initial configuration for the coherences, random numbers for the time being. Can be changed in the future\n",
    "\n",
    "coeff_list_t0 = coeff_list_t0/(sum(coeff_list_t0)) \n",
    "              # normalization of the initial vector, so that Tr c_0 = 1. "
   ]
  },
  {
   "cell_type": "markdown",
   "id": "6b222712",
   "metadata": {},
   "source": [
    "Since the coherences are complex-valued numbers, the previous system of $M \\times M$ coupled complex-valued differential equations can be rewritten as a system of $2M \\times 2M$ coupled real-valued differential equations, as follows:\n",
    "\n",
    "if $c_M(t) = a_M(t) + i b_M(t)$, then \n",
    "\n",
    "$$\n",
    "    \\dot{a}_M(t) + i \\dot{b}_M(t) = -i \\sum_{m'}{\\bf{\\mathcal{M}}}_{Mm'}(t) \\bigg(a_{m'}(t) + i b_{m'}(t)\\bigg),\n",
    "$$\n",
    "\n",
    "$$\n",
    "    \\dot{a}_M(t) + i \\dot{b}_M(t) = -i \\sum_{m'}{\\bf{\\mathcal{M}}}_{Mm'}(t) a_{m'}(t) + \\sum_{m'} {\\bf{\\mathcal{M}}}_{Mm'}(t) b_{m'}(t)\n",
    "$$\n",
    "\n",
    "$$\n",
    "    \\dot{{\\bf a}}(t) = {\\cal M}(t) \\cdot {\\bf b}(t), \\quad \\dot{{\\bf b}}(t) = -{\\cal M}(t) \\cdot {\\bf a}(t), \\qquad s.t. \\quad{\\bf c}(t) = {\\bf a}(t) + i {\\bf b}(t)\n",
    "$$\n"
   ]
  },
  {
   "cell_type": "markdown",
   "id": "afc249cc",
   "metadata": {},
   "source": [
    "## Step 2: Setting up system of complex diff. eqs"
   ]
  },
  {
   "cell_type": "code",
   "execution_count": 9,
   "id": "d734b143",
   "metadata": {},
   "outputs": [],
   "source": [
    "def Mtensor_2mx2m_dimensional_symplectic(parameters, init_configurations, timet, \n",
    "                                            closed_boundary_conditions = False,\n",
    "                                            visualization = False,\n",
    "                                            as_qutip_qobj = False):\n",
    "    \"\"\"\n",
    "     \n",
    "    \"\"\"\n",
    "    M = parameters[\"total_no_cohrs\"]; p = parameters[\"p_factor\"]; a = parameters[\"power_law_factor\"]\n",
    "    m_matrix_list = []; t = timet;\n",
    "    \n",
    "    m_dimensional_zero_array = [0 for m in range(M)]\n",
    "    \n",
    "    for m in range(M):\n",
    "        if m == 0:\n",
    "            local_array = np.array(m_dimensional_zero_array + [me.A_mmplustwo_matrix_elmt(cohrnc = m, time = t, \n",
    "                                                                   power_law_factor = a) + \n",
    "                                           p * me.C_m_matrix_elmt(cohrnc = m, time = t, \n",
    "                                                                   power_law_factor = a)] \n",
    "                                          + [me.A_mmplustwo_matrix_elmt(cohrnc = m+2, time = t, \n",
    "                                                                   power_law_factor = a)] \n",
    "                                          + [0 for i in range(M-2)])\n",
    "            local_array = local_array/(sum(local_array))\n",
    "            m_matrix_list.append(local_array)\n",
    "            local_array = None\n",
    "        if (m > 0 and m < M-1):\n",
    "            list_with_zeros = [0 for i in range(m-1)]\n",
    "            local_array = np.array(m_dimensional_zero_array + list_with_zeros\n",
    "                                          + [me.B_mmminustwo_matrix_elmt(cohrnc = m, time = t, power_law_factor = a)]\n",
    "                                          + [me.diag_mm_matrix_elmt(cohrnc = m, time = t, power_law_factor = a, p = p)] \n",
    "                                          + [me.A_mmplustwo_matrix_elmt(cohrnc = m+2, time = t, power_law_factor = a)]  \n",
    "                                          + [0 for i in range(M - (len(list_with_zeros)+3))])\n",
    "            local_array = local_array/(sum(local_array))\n",
    "            m_matrix_list.append(local_array)\n",
    "            local_array = None       \n",
    "        if (m == M-1):\n",
    "            local_array = np.array(m_dimensional_zero_array + [0 for i in range(M - 2)] \n",
    "                                          + [me.B_mmminustwo_matrix_elmt(cohrnc = m, time = t, power_law_factor = a)] \n",
    "                                          + [me.B_mmminustwo_matrix_elmt(cohrnc = m, time = t, power_law_factor = a) + \n",
    "                                               p * me.C_m_matrix_elmt(cohrnc = m, time = t, power_law_factor = a)])\n",
    "            local_array = local_array/(sum(local_array))\n",
    "            m_matrix_list.append(local_array)\n",
    "            local_array = None\n",
    "            \n",
    "    for m in range(M):\n",
    "        if m == 0:\n",
    "            local_array = np.array([me.A_mmplustwo_matrix_elmt(cohrnc = m, time = t, \n",
    "                                                                   power_law_factor = a) + \n",
    "                                           p * me.C_m_matrix_elmt(cohrnc = m, time = t, \n",
    "                                                                   power_law_factor = a)] \n",
    "                                          + [me.A_mmplustwo_matrix_elmt(cohrnc = m+2, time = t, \n",
    "                                                                   power_law_factor = a)] \n",
    "                                          + [0 for i in range(M-2)]\n",
    "                                + m_dimensional_zero_array)\n",
    "            local_array = local_array/(sum(local_array))\n",
    "            m_matrix_list.append(local_array)\n",
    "            local_array = None\n",
    "        if (m > 0 and m < M-1):\n",
    "            list_with_zeros = [0 for i in range(m-1)]\n",
    "            local_array = np.array(list_with_zeros\n",
    "                                          + [me.B_mmminustwo_matrix_elmt(cohrnc = m, time = t, power_law_factor = a)]\n",
    "                                          + [me.diag_mm_matrix_elmt(cohrnc = m, time = t, power_law_factor = a, p = p)] \n",
    "                                          + [me.A_mmplustwo_matrix_elmt(cohrnc = m+2, time = t, power_law_factor = a)]  \n",
    "                                          + [0 for i in range(M - (len(list_with_zeros)+3))]\n",
    "                                + m_dimensional_zero_array)\n",
    "            local_array = local_array/(sum(local_array))\n",
    "            m_matrix_list.append(local_array)\n",
    "            local_array = None       \n",
    "        if (m == M-1):\n",
    "            local_array = np.array([0 for i in range(M - 2)] \n",
    "                                          + [me.B_mmminustwo_matrix_elmt(cohrnc = m, time = t, power_law_factor = a)] \n",
    "                                          + [me.B_mmminustwo_matrix_elmt(cohrnc = m, time = t, power_law_factor = a) + \n",
    "                                               p * me.C_m_matrix_elmt(cohrnc = m, time = t, power_law_factor = a)]\n",
    "                                + m_dimensional_zero_array)\n",
    "            local_array = local_array/(sum(local_array))\n",
    "            m_matrix_list.append(local_array)\n",
    "            local_array = None\n",
    "    \n",
    "    return m_matrix_list"
   ]
  },
  {
   "cell_type": "markdown",
   "id": "5062b217",
   "metadata": {},
   "source": [
    "## Step 3: Solving the system"
   ]
  },
  {
   "cell_type": "code",
   "execution_count": 10,
   "id": "89f9074c",
   "metadata": {},
   "outputs": [],
   "source": [
    "ts = np.linspace(0.1, 1., 100)\n",
    "y0 = coeff_list_t0\n",
    "\n",
    "def complex_differential_system(cohr_complex, t, parameters):\n",
    "    Mtensor = Mtensor_2mx2m_dimensional_symplectic(parameters = parameters, init_configurations = cohr_complex, timet = t, \n",
    "                                                closed_boundary_conditions = False,\n",
    "                                                visualization = False,\n",
    "                                                as_qutip_qobj = False)\n",
    "    return Mtensor @ cohr_complex\n",
    "\n",
    "from scipy.integrate import odeint\n",
    "\n",
    "cohr_complex_t0 = [coherences_t0_pert0 - np.random.rand() for i in range(param_list[\"total_no_cohrs\"])]\n",
    "cohr_complex_t0 += [0 for i in range(param_list[\"total_no_cohrs\"])]\n",
    "cohr_complex_t0 = np.array(cohr_complex_t0)\n"
   ]
  },
  {
   "cell_type": "code",
   "execution_count": 11,
   "id": "ec08f283",
   "metadata": {},
   "outputs": [
    {
     "data": {
      "text/plain": [
       "1250"
      ]
     },
     "execution_count": 11,
     "metadata": {},
     "output_type": "execute_result"
    }
   ],
   "source": [
    "B = complex_differential_system(cohr_complex = cohr_complex_t0, t=1, parameters = param_list)\n",
    "len(B)"
   ]
  },
  {
   "cell_type": "code",
   "execution_count": 89,
   "id": "1bf86fb7",
   "metadata": {},
   "outputs": [
    {
     "data": {
      "text/plain": [
       "array([[0.883, 0.664, 0.137, ..., 0.0, 0.0, 0.0],\n",
       "       [0.883, 0.664, 0.137, ..., 0.005, 0.005, 0.005],\n",
       "       [0.883, 0.664, 0.137, ..., 0.01, 0.01, 0.01],\n",
       "       ...,\n",
       "       [0.9450000000000001, 1.194, 0.253, ..., 0.5710000000000001, 0.591, 0.554],\n",
       "       [0.9460000000000001, 1.206, 0.257, ..., 0.578, 0.598, 0.561],\n",
       "       [0.9480000000000001, 1.217, 0.26, ..., 0.586, 0.606, 0.5690000000000001]])"
      ]
     },
     "execution_count": 89,
     "metadata": {},
     "output_type": "execute_result"
    }
   ],
   "source": [
    "ts = np.linspace(0.1, 1., 100)              ## times \n",
    "result = odeint(func = complex_differential_system, \n",
    "                y0 = cohr_complex_t0, \n",
    "                t = ts,\n",
    "                args = ((param_list,)))\n",
    "result"
   ]
  },
  {
   "cell_type": "code",
   "execution_count": 119,
   "id": "3f726817",
   "metadata": {},
   "outputs": [
    {
     "data": {
      "text/plain": [
       "0.6642325096497997"
      ]
     },
     "execution_count": 119,
     "metadata": {},
     "output_type": "execute_result"
    }
   ],
   "source": [
    "result[:, 1][int(list(ts).index(0.1))]"
   ]
  },
  {
   "cell_type": "code",
   "execution_count": 127,
   "id": "0f0b1404",
   "metadata": {
    "scrolled": true
   },
   "outputs": [
    {
     "ename": "IndexError",
     "evalue": "only integers, slices (`:`), ellipsis (`...`), numpy.newaxis (`None`) and integer or boolean arrays are valid indices",
     "output_type": "error",
     "traceback": [
      "\u001b[1;31m---------------------------------------------------------------------------\u001b[0m",
      "\u001b[1;31mIndexError\u001b[0m                                Traceback (most recent call last)",
      "Input \u001b[1;32mIn [127]\u001b[0m, in \u001b[0;36m<cell line: 1>\u001b[1;34m()\u001b[0m\n\u001b[1;32m----> 1\u001b[0m fidelity_vs_t \u001b[38;5;241m=\u001b[39m [[\u001b[38;5;28msum\u001b[39m(result[:, m][\u001b[38;5;28mint\u001b[39m(\u001b[38;5;28mlist\u001b[39m(ts)\u001b[38;5;241m.\u001b[39mindex(t)) \n\u001b[0;32m      2\u001b[0m                                    \u001b[38;5;241m*\u001b[39m \u001b[38;5;241m-\u001b[39mm \u001b[38;5;241m*\u001b[39m (a\u001b[38;5;241m+\u001b[39m\u001b[38;5;241m1\u001b[39m) \u001b[38;5;241m*\u001b[39m t\u001b[38;5;241m*\u001b[39m\u001b[38;5;241m*\u001b[39ma \u001b[38;5;241m/\u001b[39m (me\u001b[38;5;241m.\u001b[39mA_mmplustwo_matrix_elmt(m, t, a))] \u001b[38;5;28;01mfor\u001b[39;00m m \u001b[38;5;129;01min\u001b[39;00m \u001b[38;5;28mrange\u001b[39m(M))] \u001b[38;5;28;01mfor\u001b[39;00m t \u001b[38;5;129;01min\u001b[39;00m \u001b[38;5;28mlist\u001b[39m(ts)]\n",
      "Input \u001b[1;32mIn [127]\u001b[0m, in \u001b[0;36m<listcomp>\u001b[1;34m(.0)\u001b[0m\n\u001b[1;32m----> 1\u001b[0m fidelity_vs_t \u001b[38;5;241m=\u001b[39m [[\u001b[38;5;28;43msum\u001b[39;49m\u001b[43m(\u001b[49m\u001b[43mresult\u001b[49m\u001b[43m[\u001b[49m\u001b[43m:\u001b[49m\u001b[43m,\u001b[49m\u001b[43m \u001b[49m\u001b[43mm\u001b[49m\u001b[43m]\u001b[49m\u001b[43m[\u001b[49m\u001b[38;5;28;43mint\u001b[39;49m\u001b[43m(\u001b[49m\u001b[38;5;28;43mlist\u001b[39;49m\u001b[43m(\u001b[49m\u001b[43mts\u001b[49m\u001b[43m)\u001b[49m\u001b[38;5;241;43m.\u001b[39;49m\u001b[43mindex\u001b[49m\u001b[43m(\u001b[49m\u001b[43mt\u001b[49m\u001b[43m)\u001b[49m\u001b[43m)\u001b[49m\u001b[43m \u001b[49m\n\u001b[0;32m      2\u001b[0m \u001b[43m                                   \u001b[49m\u001b[38;5;241;43m*\u001b[39;49m\u001b[43m \u001b[49m\u001b[38;5;241;43m-\u001b[39;49m\u001b[43mm\u001b[49m\u001b[43m \u001b[49m\u001b[38;5;241;43m*\u001b[39;49m\u001b[43m \u001b[49m\u001b[43m(\u001b[49m\u001b[43ma\u001b[49m\u001b[38;5;241;43m+\u001b[39;49m\u001b[38;5;241;43m1\u001b[39;49m\u001b[43m)\u001b[49m\u001b[43m \u001b[49m\u001b[38;5;241;43m*\u001b[39;49m\u001b[43m \u001b[49m\u001b[43mt\u001b[49m\u001b[38;5;241;43m*\u001b[39;49m\u001b[38;5;241;43m*\u001b[39;49m\u001b[43ma\u001b[49m\u001b[43m \u001b[49m\u001b[38;5;241;43m/\u001b[39;49m\u001b[43m \u001b[49m\u001b[43m(\u001b[49m\u001b[43mme\u001b[49m\u001b[38;5;241;43m.\u001b[39;49m\u001b[43mA_mmplustwo_matrix_elmt\u001b[49m\u001b[43m(\u001b[49m\u001b[43mm\u001b[49m\u001b[43m,\u001b[49m\u001b[43m \u001b[49m\u001b[43mt\u001b[49m\u001b[43m,\u001b[49m\u001b[43m \u001b[49m\u001b[43ma\u001b[49m\u001b[43m)\u001b[49m\u001b[43m)\u001b[49m\u001b[43m]\u001b[49m\u001b[43m \u001b[49m\u001b[38;5;28;43;01mfor\u001b[39;49;00m\u001b[43m \u001b[49m\u001b[43mm\u001b[49m\u001b[43m \u001b[49m\u001b[38;5;129;43;01min\u001b[39;49;00m\u001b[43m \u001b[49m\u001b[38;5;28;43mrange\u001b[39;49m\u001b[43m(\u001b[49m\u001b[43mM\u001b[49m\u001b[43m)\u001b[49m\u001b[43m)\u001b[49m] \u001b[38;5;28;01mfor\u001b[39;00m t \u001b[38;5;129;01min\u001b[39;00m \u001b[38;5;28mlist\u001b[39m(ts)]\n",
      "Input \u001b[1;32mIn [127]\u001b[0m, in \u001b[0;36m<genexpr>\u001b[1;34m(.0)\u001b[0m\n\u001b[1;32m----> 1\u001b[0m fidelity_vs_t \u001b[38;5;241m=\u001b[39m [[\u001b[38;5;28msum\u001b[39m(\u001b[43mresult\u001b[49m\u001b[43m[\u001b[49m\u001b[43m:\u001b[49m\u001b[43m,\u001b[49m\u001b[43m \u001b[49m\u001b[43mm\u001b[49m\u001b[43m]\u001b[49m\u001b[43m[\u001b[49m\u001b[38;5;28;43mint\u001b[39;49m\u001b[43m(\u001b[49m\u001b[38;5;28;43mlist\u001b[39;49m\u001b[43m(\u001b[49m\u001b[43mts\u001b[49m\u001b[43m)\u001b[49m\u001b[38;5;241;43m.\u001b[39;49m\u001b[43mindex\u001b[49m\u001b[43m(\u001b[49m\u001b[43mt\u001b[49m\u001b[43m)\u001b[49m\u001b[43m)\u001b[49m\u001b[43m \u001b[49m\n\u001b[0;32m      2\u001b[0m \u001b[43m                                   \u001b[49m\u001b[38;5;241;43m*\u001b[39;49m\u001b[43m \u001b[49m\u001b[38;5;241;43m-\u001b[39;49m\u001b[43mm\u001b[49m\u001b[43m \u001b[49m\u001b[38;5;241;43m*\u001b[39;49m\u001b[43m \u001b[49m\u001b[43m(\u001b[49m\u001b[43ma\u001b[49m\u001b[38;5;241;43m+\u001b[39;49m\u001b[38;5;241;43m1\u001b[39;49m\u001b[43m)\u001b[49m\u001b[43m \u001b[49m\u001b[38;5;241;43m*\u001b[39;49m\u001b[43m \u001b[49m\u001b[43mt\u001b[49m\u001b[38;5;241;43m*\u001b[39;49m\u001b[38;5;241;43m*\u001b[39;49m\u001b[43ma\u001b[49m\u001b[43m \u001b[49m\u001b[38;5;241;43m/\u001b[39;49m\u001b[43m \u001b[49m\u001b[43m(\u001b[49m\u001b[43mme\u001b[49m\u001b[38;5;241;43m.\u001b[39;49m\u001b[43mA_mmplustwo_matrix_elmt\u001b[49m\u001b[43m(\u001b[49m\u001b[43mm\u001b[49m\u001b[43m,\u001b[49m\u001b[43m \u001b[49m\u001b[43mt\u001b[49m\u001b[43m,\u001b[49m\u001b[43m \u001b[49m\u001b[43ma\u001b[49m\u001b[43m)\u001b[49m\u001b[43m)\u001b[49m\u001b[43m]\u001b[49m \u001b[38;5;28;01mfor\u001b[39;00m m \u001b[38;5;129;01min\u001b[39;00m \u001b[38;5;28mrange\u001b[39m(M))] \u001b[38;5;28;01mfor\u001b[39;00m t \u001b[38;5;129;01min\u001b[39;00m \u001b[38;5;28mlist\u001b[39m(ts)]\n",
      "\u001b[1;31mIndexError\u001b[0m: only integers, slices (`:`), ellipsis (`...`), numpy.newaxis (`None`) and integer or boolean arrays are valid indices"
     ]
    }
   ],
   "source": [
    "fidelity_vs_t = [[sum(result[:, m][int(list(ts).index(t)) \n",
    "                                   * -m * (a+1) * t**a / (me.A_mmplustwo_matrix_elmt(m, t, a))] for m in range(M))] for t in list(ts)]"
   ]
  },
  {
   "cell_type": "code",
   "execution_count": 72,
   "id": "ec4d586e",
   "metadata": {
    "scrolled": false
   },
   "outputs": [
    {
     "data": {
      "text/plain": [
       "100"
      ]
     },
     "execution_count": 72,
     "metadata": {},
     "output_type": "execute_result"
    }
   ],
   "source": [
    "len(result[:, 0])"
   ]
  },
  {
   "cell_type": "code",
   "execution_count": 73,
   "id": "067ec940",
   "metadata": {},
   "outputs": [
    {
     "data": {
      "text/plain": [
       "6"
      ]
     },
     "execution_count": 73,
     "metadata": {},
     "output_type": "execute_result"
    }
   ],
   "source": [
    "len(result[0])"
   ]
  },
  {
   "cell_type": "markdown",
   "id": "07d78449",
   "metadata": {},
   "source": [
    "# Tests y fallos :("
   ]
  },
  {
   "cell_type": "code",
   "execution_count": 23,
   "id": "781be6e4",
   "metadata": {
    "scrolled": true
   },
   "outputs": [
    {
     "ename": "SyntaxError",
     "evalue": "invalid syntax (3991330021.py, line 1)",
     "output_type": "error",
     "traceback": [
      "\u001b[1;36m  Input \u001b[1;32mIn [23]\u001b[1;36m\u001b[0m\n\u001b[1;33m    Preguntas:\u001b[0m\n\u001b[1;37m              ^\u001b[0m\n\u001b[1;31mSyntaxError\u001b[0m\u001b[1;31m:\u001b[0m invalid syntax\n"
     ]
    }
   ],
   "source": [
    "Preguntas:\n",
    "    \n",
    "    1. La matrix M tiene que depender con el tiempo me parece, si A, B y C lo hacen: Check \n",
    "    2. Como tendría que implementar la norma???: Check\n",
    "    3. Empezar a jugar con los parámetros: Checkn't\n",
    "    \n",
    "m+2 vs m+2 : Check\n",
    "** reescribir la matriz en tèrminos de los c_pares. : Check"
   ]
  }
 ],
 "metadata": {
  "kernelspec": {
   "display_name": "Python 3 (ipykernel)",
   "language": "python",
   "name": "python3"
  },
  "language_info": {
   "codemirror_mode": {
    "name": "ipython",
    "version": 3
   },
   "file_extension": ".py",
   "mimetype": "text/x-python",
   "name": "python",
   "nbconvert_exporter": "python",
   "pygments_lexer": "ipython3",
   "version": "3.9.12"
  }
 },
 "nbformat": 4,
 "nbformat_minor": 5
}
